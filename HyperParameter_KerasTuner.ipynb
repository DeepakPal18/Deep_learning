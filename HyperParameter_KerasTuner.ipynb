{
  "nbformat": 4,
  "nbformat_minor": 0,
  "metadata": {
    "colab": {
      "provenance": []
    },
    "kernelspec": {
      "name": "python3",
      "display_name": "Python 3"
    },
    "language_info": {
      "name": "python"
    },
    "accelerator": "GPU",
    "gpuClass": "standard"
  },
  "cells": [
    {
      "cell_type": "markdown",
      "source": [
        "# Diebetes Dataset - Keras Tuner Hyperparameter (DNN)"
      ],
      "metadata": {
        "id": "y78UcI9koInr"
      }
    },
    {
      "cell_type": "code",
      "execution_count": 1,
      "metadata": {
        "id": "REcmsZ2koAzn"
      },
      "outputs": [],
      "source": [
        "import os\n",
        "import numpy as np \n",
        "import pandas as pd \n",
        "import matplotlib.pyplot as plt \n",
        "import seaborn as sns\n"
      ]
    },
    {
      "cell_type": "code",
      "source": [
        "pd.set_option('display.max_rows',100)\n",
        "pd.set_option('display.max_columns',20)\n",
        "pd.set_option('display.width',100)"
      ],
      "metadata": {
        "id": "oHlzLxT6oH74"
      },
      "execution_count": 2,
      "outputs": []
    },
    {
      "cell_type": "code",
      "source": [
        "df = pd.read_csv('/content/diabetes.csv')\n",
        "df"
      ],
      "metadata": {
        "colab": {
          "base_uri": "https://localhost:8080/",
          "height": 423
        },
        "id": "NoCSZHs7oH-A",
        "outputId": "b56f3687-af47-4e9d-84ec-00b9d7e35c32"
      },
      "execution_count": 3,
      "outputs": [
        {
          "output_type": "execute_result",
          "data": {
            "text/plain": [
              "     Pregnancies  Glucose  BloodPressure  SkinThickness  Insulin   BMI  DiabetesPedigreeFunction  \\\n",
              "0              6      148             72             35        0  33.6                     0.627   \n",
              "1              1       85             66             29        0  26.6                     0.351   \n",
              "2              8      183             64              0        0  23.3                     0.672   \n",
              "3              1       89             66             23       94  28.1                     0.167   \n",
              "4              0      137             40             35      168  43.1                     2.288   \n",
              "..           ...      ...            ...            ...      ...   ...                       ...   \n",
              "763           10      101             76             48      180  32.9                     0.171   \n",
              "764            2      122             70             27        0  36.8                     0.340   \n",
              "765            5      121             72             23      112  26.2                     0.245   \n",
              "766            1      126             60              0        0  30.1                     0.349   \n",
              "767            1       93             70             31        0  30.4                     0.315   \n",
              "\n",
              "     Age  Outcome  \n",
              "0     50        1  \n",
              "1     31        0  \n",
              "2     32        1  \n",
              "3     21        0  \n",
              "4     33        1  \n",
              "..   ...      ...  \n",
              "763   63        0  \n",
              "764   27        0  \n",
              "765   30        0  \n",
              "766   47        1  \n",
              "767   23        0  \n",
              "\n",
              "[768 rows x 9 columns]"
            ],
            "text/html": [
              "\n",
              "  <div id=\"df-fed323cb-e703-4b28-b4a1-973a46daa9ef\">\n",
              "    <div class=\"colab-df-container\">\n",
              "      <div>\n",
              "<style scoped>\n",
              "    .dataframe tbody tr th:only-of-type {\n",
              "        vertical-align: middle;\n",
              "    }\n",
              "\n",
              "    .dataframe tbody tr th {\n",
              "        vertical-align: top;\n",
              "    }\n",
              "\n",
              "    .dataframe thead th {\n",
              "        text-align: right;\n",
              "    }\n",
              "</style>\n",
              "<table border=\"1\" class=\"dataframe\">\n",
              "  <thead>\n",
              "    <tr style=\"text-align: right;\">\n",
              "      <th></th>\n",
              "      <th>Pregnancies</th>\n",
              "      <th>Glucose</th>\n",
              "      <th>BloodPressure</th>\n",
              "      <th>SkinThickness</th>\n",
              "      <th>Insulin</th>\n",
              "      <th>BMI</th>\n",
              "      <th>DiabetesPedigreeFunction</th>\n",
              "      <th>Age</th>\n",
              "      <th>Outcome</th>\n",
              "    </tr>\n",
              "  </thead>\n",
              "  <tbody>\n",
              "    <tr>\n",
              "      <th>0</th>\n",
              "      <td>6</td>\n",
              "      <td>148</td>\n",
              "      <td>72</td>\n",
              "      <td>35</td>\n",
              "      <td>0</td>\n",
              "      <td>33.6</td>\n",
              "      <td>0.627</td>\n",
              "      <td>50</td>\n",
              "      <td>1</td>\n",
              "    </tr>\n",
              "    <tr>\n",
              "      <th>1</th>\n",
              "      <td>1</td>\n",
              "      <td>85</td>\n",
              "      <td>66</td>\n",
              "      <td>29</td>\n",
              "      <td>0</td>\n",
              "      <td>26.6</td>\n",
              "      <td>0.351</td>\n",
              "      <td>31</td>\n",
              "      <td>0</td>\n",
              "    </tr>\n",
              "    <tr>\n",
              "      <th>2</th>\n",
              "      <td>8</td>\n",
              "      <td>183</td>\n",
              "      <td>64</td>\n",
              "      <td>0</td>\n",
              "      <td>0</td>\n",
              "      <td>23.3</td>\n",
              "      <td>0.672</td>\n",
              "      <td>32</td>\n",
              "      <td>1</td>\n",
              "    </tr>\n",
              "    <tr>\n",
              "      <th>3</th>\n",
              "      <td>1</td>\n",
              "      <td>89</td>\n",
              "      <td>66</td>\n",
              "      <td>23</td>\n",
              "      <td>94</td>\n",
              "      <td>28.1</td>\n",
              "      <td>0.167</td>\n",
              "      <td>21</td>\n",
              "      <td>0</td>\n",
              "    </tr>\n",
              "    <tr>\n",
              "      <th>4</th>\n",
              "      <td>0</td>\n",
              "      <td>137</td>\n",
              "      <td>40</td>\n",
              "      <td>35</td>\n",
              "      <td>168</td>\n",
              "      <td>43.1</td>\n",
              "      <td>2.288</td>\n",
              "      <td>33</td>\n",
              "      <td>1</td>\n",
              "    </tr>\n",
              "    <tr>\n",
              "      <th>...</th>\n",
              "      <td>...</td>\n",
              "      <td>...</td>\n",
              "      <td>...</td>\n",
              "      <td>...</td>\n",
              "      <td>...</td>\n",
              "      <td>...</td>\n",
              "      <td>...</td>\n",
              "      <td>...</td>\n",
              "      <td>...</td>\n",
              "    </tr>\n",
              "    <tr>\n",
              "      <th>763</th>\n",
              "      <td>10</td>\n",
              "      <td>101</td>\n",
              "      <td>76</td>\n",
              "      <td>48</td>\n",
              "      <td>180</td>\n",
              "      <td>32.9</td>\n",
              "      <td>0.171</td>\n",
              "      <td>63</td>\n",
              "      <td>0</td>\n",
              "    </tr>\n",
              "    <tr>\n",
              "      <th>764</th>\n",
              "      <td>2</td>\n",
              "      <td>122</td>\n",
              "      <td>70</td>\n",
              "      <td>27</td>\n",
              "      <td>0</td>\n",
              "      <td>36.8</td>\n",
              "      <td>0.340</td>\n",
              "      <td>27</td>\n",
              "      <td>0</td>\n",
              "    </tr>\n",
              "    <tr>\n",
              "      <th>765</th>\n",
              "      <td>5</td>\n",
              "      <td>121</td>\n",
              "      <td>72</td>\n",
              "      <td>23</td>\n",
              "      <td>112</td>\n",
              "      <td>26.2</td>\n",
              "      <td>0.245</td>\n",
              "      <td>30</td>\n",
              "      <td>0</td>\n",
              "    </tr>\n",
              "    <tr>\n",
              "      <th>766</th>\n",
              "      <td>1</td>\n",
              "      <td>126</td>\n",
              "      <td>60</td>\n",
              "      <td>0</td>\n",
              "      <td>0</td>\n",
              "      <td>30.1</td>\n",
              "      <td>0.349</td>\n",
              "      <td>47</td>\n",
              "      <td>1</td>\n",
              "    </tr>\n",
              "    <tr>\n",
              "      <th>767</th>\n",
              "      <td>1</td>\n",
              "      <td>93</td>\n",
              "      <td>70</td>\n",
              "      <td>31</td>\n",
              "      <td>0</td>\n",
              "      <td>30.4</td>\n",
              "      <td>0.315</td>\n",
              "      <td>23</td>\n",
              "      <td>0</td>\n",
              "    </tr>\n",
              "  </tbody>\n",
              "</table>\n",
              "<p>768 rows × 9 columns</p>\n",
              "</div>\n",
              "      <button class=\"colab-df-convert\" onclick=\"convertToInteractive('df-fed323cb-e703-4b28-b4a1-973a46daa9ef')\"\n",
              "              title=\"Convert this dataframe to an interactive table.\"\n",
              "              style=\"display:none;\">\n",
              "        \n",
              "  <svg xmlns=\"http://www.w3.org/2000/svg\" height=\"24px\"viewBox=\"0 0 24 24\"\n",
              "       width=\"24px\">\n",
              "    <path d=\"M0 0h24v24H0V0z\" fill=\"none\"/>\n",
              "    <path d=\"M18.56 5.44l.94 2.06.94-2.06 2.06-.94-2.06-.94-.94-2.06-.94 2.06-2.06.94zm-11 1L8.5 8.5l.94-2.06 2.06-.94-2.06-.94L8.5 2.5l-.94 2.06-2.06.94zm10 10l.94 2.06.94-2.06 2.06-.94-2.06-.94-.94-2.06-.94 2.06-2.06.94z\"/><path d=\"M17.41 7.96l-1.37-1.37c-.4-.4-.92-.59-1.43-.59-.52 0-1.04.2-1.43.59L10.3 9.45l-7.72 7.72c-.78.78-.78 2.05 0 2.83L4 21.41c.39.39.9.59 1.41.59.51 0 1.02-.2 1.41-.59l7.78-7.78 2.81-2.81c.8-.78.8-2.07 0-2.86zM5.41 20L4 18.59l7.72-7.72 1.47 1.35L5.41 20z\"/>\n",
              "  </svg>\n",
              "      </button>\n",
              "      \n",
              "  <style>\n",
              "    .colab-df-container {\n",
              "      display:flex;\n",
              "      flex-wrap:wrap;\n",
              "      gap: 12px;\n",
              "    }\n",
              "\n",
              "    .colab-df-convert {\n",
              "      background-color: #E8F0FE;\n",
              "      border: none;\n",
              "      border-radius: 50%;\n",
              "      cursor: pointer;\n",
              "      display: none;\n",
              "      fill: #1967D2;\n",
              "      height: 32px;\n",
              "      padding: 0 0 0 0;\n",
              "      width: 32px;\n",
              "    }\n",
              "\n",
              "    .colab-df-convert:hover {\n",
              "      background-color: #E2EBFA;\n",
              "      box-shadow: 0px 1px 2px rgba(60, 64, 67, 0.3), 0px 1px 3px 1px rgba(60, 64, 67, 0.15);\n",
              "      fill: #174EA6;\n",
              "    }\n",
              "\n",
              "    [theme=dark] .colab-df-convert {\n",
              "      background-color: #3B4455;\n",
              "      fill: #D2E3FC;\n",
              "    }\n",
              "\n",
              "    [theme=dark] .colab-df-convert:hover {\n",
              "      background-color: #434B5C;\n",
              "      box-shadow: 0px 1px 3px 1px rgba(0, 0, 0, 0.15);\n",
              "      filter: drop-shadow(0px 1px 2px rgba(0, 0, 0, 0.3));\n",
              "      fill: #FFFFFF;\n",
              "    }\n",
              "  </style>\n",
              "\n",
              "      <script>\n",
              "        const buttonEl =\n",
              "          document.querySelector('#df-fed323cb-e703-4b28-b4a1-973a46daa9ef button.colab-df-convert');\n",
              "        buttonEl.style.display =\n",
              "          google.colab.kernel.accessAllowed ? 'block' : 'none';\n",
              "\n",
              "        async function convertToInteractive(key) {\n",
              "          const element = document.querySelector('#df-fed323cb-e703-4b28-b4a1-973a46daa9ef');\n",
              "          const dataTable =\n",
              "            await google.colab.kernel.invokeFunction('convertToInteractive',\n",
              "                                                     [key], {});\n",
              "          if (!dataTable) return;\n",
              "\n",
              "          const docLinkHtml = 'Like what you see? Visit the ' +\n",
              "            '<a target=\"_blank\" href=https://colab.research.google.com/notebooks/data_table.ipynb>data table notebook</a>'\n",
              "            + ' to learn more about interactive tables.';\n",
              "          element.innerHTML = '';\n",
              "          dataTable['output_type'] = 'display_data';\n",
              "          await google.colab.output.renderOutput(dataTable, element);\n",
              "          const docLink = document.createElement('div');\n",
              "          docLink.innerHTML = docLinkHtml;\n",
              "          element.appendChild(docLink);\n",
              "        }\n",
              "      </script>\n",
              "    </div>\n",
              "  </div>\n",
              "  "
            ]
          },
          "metadata": {},
          "execution_count": 3
        }
      ]
    },
    {
      "cell_type": "code",
      "source": [
        "df.isnull().sum()"
      ],
      "metadata": {
        "colab": {
          "base_uri": "https://localhost:8080/"
        },
        "id": "vlWFuy5yoH_W",
        "outputId": "f6c54389-bbd1-4989-85ec-89c0f1124941"
      },
      "execution_count": 4,
      "outputs": [
        {
          "output_type": "execute_result",
          "data": {
            "text/plain": [
              "Pregnancies                 0\n",
              "Glucose                     0\n",
              "BloodPressure               0\n",
              "SkinThickness               0\n",
              "Insulin                     0\n",
              "BMI                         0\n",
              "DiabetesPedigreeFunction    0\n",
              "Age                         0\n",
              "Outcome                     0\n",
              "dtype: int64"
            ]
          },
          "metadata": {},
          "execution_count": 4
        }
      ]
    },
    {
      "cell_type": "code",
      "source": [
        "for i in df.columns:\n",
        "  print(\"*************************************\", i, \"****************************************\")\n",
        "  print()\n",
        "  print(set(df[i].tolist()))\n",
        "  print()"
      ],
      "metadata": {
        "colab": {
          "base_uri": "https://localhost:8080/"
        },
        "id": "HC5Ql8ASqggu",
        "outputId": "e6f29186-4600-4609-e4fc-c732437dfe6a"
      },
      "execution_count": 12,
      "outputs": [
        {
          "output_type": "stream",
          "name": "stdout",
          "text": [
            "************************************* Pregnancies ****************************************\n",
            "\n",
            "{0, 1, 2, 3, 4, 5, 6, 7, 8, 9, 10, 11, 12, 13, 14, 15, 17}\n",
            "\n",
            "************************************* Glucose ****************************************\n",
            "\n",
            "{44.0, 56.0, 57.0, 61.0, 62.0, 65.0, 67.0, 68.0, 71.0, 72.0, 73.0, 74.0, 75.0, 76.0, 77.0, 78.0, 79.0, 80.0, 81.0, 82.0, 83.0, 84.0, 85.0, 86.0, 87.0, 88.0, 89.0, 90.0, 91.0, 92.0, 93.0, 94.0, 95.0, 96.0, 97.0, 98.0, 99.0, 100.0, 101.0, 102.0, 103.0, 104.0, 105.0, 106.0, 107.0, 108.0, 109.0, 110.0, 111.0, 112.0, 113.0, 114.0, 115.0, 116.0, 117.0, 118.0, 119.0, 120.0, 121.0, 122.0, 123.0, 124.0, 125.0, 126.0, 127.0, 128.0, 129.0, 130.0, 131.0, 132.0, 133.0, 134.0, 135.0, 136.0, 137.0, 138.0, 139.0, 140.0, 141.0, 142.0, 143.0, 144.0, 145.0, 146.0, 147.0, 148.0, 149.0, 150.0, 151.0, 152.0, 153.0, 154.0, 155.0, 156.0, 157.0, 158.0, 159.0, 160.0, 161.0, 162.0, 163.0, 164.0, 165.0, 166.0, 167.0, 168.0, 169.0, 170.0, 171.0, 172.0, 173.0, 174.0, 175.0, 176.0, 177.0, 178.0, 179.0, 180.0, 181.0, 182.0, 183.0, 184.0, 186.0, 187.0, 188.0, 189.0, 190.0, 191.0, 193.0, 194.0, 195.0, 196.0, 197.0, 198.0, 199.0}\n",
            "\n",
            "************************************* BloodPressure ****************************************\n",
            "\n",
            "{24.0, 30.0, 38.0, 40.0, 44.0, 46.0, 48.0, 50.0, 52.0, 54.0, 55.0, 56.0, 58.0, 60.0, 61.0, 62.0, 64.0, 65.0, 66.0, 68.0, 70.0, 72.0, 74.0, 75.0, 76.0, 78.0, 80.0, 82.0, 84.0, 85.0, 86.0, 88.0, 90.0, 92.0, 94.0, 95.0, 96.0, 98.0, 100.0, 102.0, 104.0, 106.0, 108.0, 110.0, 114.0, 122.0}\n",
            "\n",
            "************************************* SkinThickness ****************************************\n",
            "\n",
            "{7.0, 8.0, 10.0, 11.0, 12.0, 13.0, 14.0, 15.0, 16.0, 17.0, 18.0, 19.0, 20.0, 21.0, 22.0, 23.0, 24.0, 25.0, 26.0, 27.0, 28.0, 29.0, 30.0, 31.0, 32.0, 33.0, 34.0, 35.0, 36.0, 37.0, 38.0, 39.0, 40.0, 41.0, 42.0, 43.0, 44.0, 45.0, 46.0, 47.0, 48.0, 49.0, 50.0, 51.0, 52.0, 54.0, 56.0, 60.0, 63.0, 99.0}\n",
            "\n",
            "************************************* Insulin ****************************************\n",
            "\n",
            "{14.0, 15.0, 16.0, 18.0, 22.0, 23.0, 25.0, 540.0, 29.0, 30.5, 543.0, 32.0, 545.0, 36.0, 37.0, 38.0, 40.0, 41.0, 42.0, 43.0, 44.0, 45.0, 46.0, 48.0, 49.0, 50.0, 51.0, 52.0, 53.0, 54.0, 55.0, 56.0, 57.0, 58.0, 59.0, 60.0, 61.0, 63.0, 64.0, 65.0, 66.0, 67.0, 68.0, 579.0, 70.0, 71.0, 72.0, 73.0, 74.0, 75.0, 76.0, 77.0, 78.0, 79.0, 81.0, 82.0, 83.0, 84.0, 85.0, 86.0, 87.0, 88.0, 89.0, 90.0, 600.0, 92.0, 91.0, 94.0, 95.0, 96.0, 99.0, 100.0, 105.0, 106.0, 108.0, 110.0, 112.0, 114.0, 115.0, 116.0, 119.0, 120.0, 122.0, 125.0, 126.0, 127.0, 128.0, 129.0, 130.0, 132.0, 135.0, 140.0, 142.0, 144.0, 145.0, 146.0, 148.0, 150.0, 152.0, 155.0, 156.0, 158.0, 159.0, 160.0, 165.0, 166.0, 167.0, 168.0, 680.0, 170.0, 171.0, 175.0, 176.0, 178.0, 180.0, 182.0, 183.0, 184.0, 185.0, 188.0, 190.0, 191.0, 192.0, 193.0, 194.0, 196.0, 200.0, 204.0, 205.0, 207.0, 210.0, 215.0, 220.0, 225.0, 228.0, 230.0, 231.0, 744.0, 235.0, 237.0, 240.0, 245.0, 249.0, 250.0, 255.0, 258.0, 265.0, 270.0, 271.0, 272.0, 274.0, 275.0, 277.0, 278.0, 280.0, 284.0, 285.0, 291.0, 293.0, 300.0, 304.0, 310.0, 318.0, 321.0, 325.0, 326.0, 328.0, 330.0, 846.0, 335.0, 342.0, 360.0, 370.0, 375.0, 387.0, 392.0, 402.0, 415.0, 440.0, 465.0, 474.0, 478.0, 480.0, 485.0, 495.0, 510.0}\n",
            "\n",
            "************************************* BMI ****************************************\n",
            "\n",
            "{37.3, 18.4, 19.9, 19.4, 19.6, 22.2, 23.3, 24.4, 23.2, 25.8, 27.6, 27.4, 28.0, 28.9, 28.6, 32.8, 29.0, 29.7, 26.6, 27.1, 28.1, 30.1, 30.0, 32.0, 33.6, 35.3, 37.6, 38.0, 39.3, 43.1, 43.3, 45.8, 45.4, 42.0, 46.8, 48.8, 46.7, 49.7, 53.2, 55.0, 50.0, 52.3, 52.9, 59.4, 57.3, 32.2, 67.1, 35.6, 40.8, 36.1, 19.1, 19.5, 20.4, 20.0, 20.1, 21.1, 21.9, 21.0, 41.3, 22.4, 22.5, 22.6, 22.9, 22.1, 23.0, 23.9, 23.6, 23.5, 23.1, 24.6, 24.0, 24.9, 24.5, 23.4, 25.6, 25.4, 25.0, 25.9, 25.1, 26.5, 26.1, 26.0, 25.5, 26.4, 27.9, 27.5, 27.0, 42.3, 26.9, 28.4, 34.4, 28.5, 38.1, 29.6, 29.5, 29.9, 38.6, 30.5, 30.4, 30.9, 31.0, 31.1, 31.6, 31.9, 32.5, 32.9, 32.4, 32.6, 32.7, 33.2, 33.7, 33.9, 33.3, 33.8, 34.6, 34.1, 34.0, 34.7, 34.3, 35.4, 35.1, 34.2, 34.5, 34.9, 36.6, 36.0, 36.9, 35.9, 35.5, 37.1, 37.7, 37.4, 37.2, 37.5, 38.2, 38.5, 38.3, 37.8, 37.9, 39.8, 39.4, 39.1, 39.0, 39.6, 40.2, 40.5, 39.5, 40.6, 40.9, 41.5, 33.1, 40.1, 41.8, 40.0, 42.7, 42.9, 42.8, 42.6, 41.0, 43.4, 43.2, 43.5, 43.6, 42.2, 44.2, 44.0, 44.1, 44.6, 44.5, 45.0, 45.2, 45.6, 45.5, 45.7, 46.2, 45.3, 46.1, 46.5, 46.3, 47.9, 38.4, 48.3, 38.9, 42.1, 49.6, 49.3, 39.9, 35.7, 35.2, 24.1, 36.7, 36.2, 33.5, 42.4, 36.4, 18.2, 19.3, 38.7, 20.8, 21.8, 21.2, 21.7, 22.7, 22.3, 23.8, 23.7, 35.0, 24.2, 24.7, 24.8, 24.3, 39.7, 25.2, 25.3, 39.2, 26.8, 26.2, 26.7, 26.3, 27.3, 27.7, 27.8, 32.3, 27.2, 28.7, 28.2, 28.8, 36.5, 28.3, 29.3, 29.2, 29.8, 40.7, 30.8, 30.7, 30.2, 30.3, 31.2, 31.3, 37.0, 41.2, 34.8, 35.8, 38.8, 36.3, 36.8, 32.1}\n",
            "\n",
            "************************************* DiabetesPedigreeFunction ****************************************\n",
            "\n",
            "{0.351, 0.484, 1.189, 0.375, 0.875, 0.851, 0.665, 1.101, 1.476, 0.391, 1.391, 2.42, 0.398, 0.828, 0.218, 0.101, 0.226, 0.234, 0.21, 0.46, 0.601, 0.335, 0.624, 0.968, 0.593, 0.085, 1.022, 0.42, 0.178, 0.186, 0.287, 0.412, 0.452, 0.343, 0.319, 0.444, 0.702, 0.6, 0.498, 0.748, 0.17, 0.162, 0.154, 0.271, 0.396, 0.771, 0.646, 1.114, 0.826, 0.435, 0.654, 0.404, 0.84, 0.279, 0.255, 0.13, 0.38, 0.356, 0.731, 0.545, 0.247, 0.997, 0.122, 0.497, 1.154, 0.27, 0.395, 0.645, 0.52, 0.825, 0.575, 0.543, 0.231, 0.207, 0.223, 0.215, 0.598, 0.332, 1.191, 0.496, 0.121, 0.371, 0.246, 0.871, 0.394, 0.269, 0.324, 0.199, 0.34, 0.457, 0.191, 0.183, 0.433, 0.284, 0.292, 0.699, 0.949, 0.542, 0.917, 1.292, 0.597, 0.722, 0.472, 0.347, 1.222, 0.245, 0.37, 0.495, 0.745, 0.167, 0.159, 0.151, 0.143, 1.213, 0.409, 0.268, 0.893, 0.393, 1.893, 1.268, 0.698, 0.182, 1.698, 0.666, 0.471, 0.346, 0.721, 0.33, 0.455, 0.627, 0.587, 0.696, 0.526, 0.962, 1.441, 0.244, 0.933, 0.744, 0.619, 1.781, 0.408, 1.174, 0.892, 0.947, 0.181, 0.22, 0.204, 0.212, 0.845, 0.345, 0.97, 0.595, 1.095, 0.493, 0.118, 1.461, 0.289, 0.329, 0.454, 0.337, 0.305, 0.188, 0.18, 0.446, 0.422, 0.313, 0.516, 0.821, 0.571, 0.43, 1.321, 1.001, 1.251, 0.719, 0.164, 0.867, 0.742, 0.156, 0.148, 0.265, 0.515, 0.695, 0.709, 0.773, 0.374, 0.874, 0.249, 0.499, 0.539, 0.725, 0.14, 0.64, 0.718, 0.686, 0.561, 0.491, 0.741, 0.241, 0.366, 0.108, 0.514, 0.389, 0.264, 0.092, 0.569, 0.209, 0.225, 0.944, 0.233, 0.1, 0.303, 0.217, 0.537, 0.787, 0.717, 0.084, 0.56, 0.615, 0.24, 0.365, 0.443, 0.318, 0.286, 0.326, 0.201, 0.334, 0.411, 0.451, 0.294, 0.388, 0.263, 0.138, 1.731, 0.693, 0.427, 0.302, 0.177, 0.536, 0.661, 0.966, 0.591, 0.559, 0.153, 0.161, 0.145, 1.021, 0.239, 0.364, 0.614, 0.512, 0.262, 0.137, 0.637, 2.137, 0.817, 0.692, 0.176, 0.426, 0.66, 0.785, 0.254, 0.238, 2.288, 0.677, 0.613, 0.278, 0.403, 0.839, 1.4, 0.129, 1.318, 2.329, 0.808, 0.738, 0.488, 0.886, 0.089, 0.23, 0.206, 0.222, 0.816, 0.3, 0.175, 0.534, 1.159, 1.034, 0.682, 1.144, 1.394, 0.362, 0.283, 0.198, 0.307, 0.323, 0.299, 0.464, 0.19, 0.315, 0.331, 0.432, 0.26, 0.385, 0.135, 0.51, 0.565, 0.174, 0.658, 0.588, 0.447, 0.166, 0.158, 0.142, 0.15, 0.361, 0.236, 0.759, 0.259, 0.134, 0.509, 0.564, 0.423, 0.267, 0.767, 0.703, 0.578, 0.368, 0.743, 0.557, 0.932, 0.243, 0.344, 0.532, 1.282, 0.196, 0.93, 0.805, 0.68, 0.102, 0.235, 0.485, 0.735, 0.61, 0.227, 0.258, 0.383, 0.219, 0.133, 1.258, 0.813, 0.297, 0.078, 0.586, 0.711, 0.554, 0.804, 0.187, 0.304, 0.179, 0.203, 0.296, 0.336, 0.421, 0.328, 0.453, 0.734, 0.257, 0.382, 0.757, 0.507, 1.6, 0.905, 0.655, 0.28, 0.147, 0.163, 0.155, 0.171, 0.194, 0.678, 0.803, 1.39, 0.733, 0.483, 0.358, 0.342, 0.467, 1.076, 0.256, 0.881, 0.381, 0.631, 0.248, 0.546, 0.583, 0.647, 0.272, 0.833, 0.687, 0.123, 0.349, 1.224, 0.529, 0.904, 0.295, 0.107, 0.115, 0.607, 0.482, 0.732, 0.232, 1.162, 0.63, 0.88, 0.419, 0.528, 0.317, 0.551, 0.192, 0.325, 0.293, 0.434, 0.2, 0.285, 1.138, 0.466, 0.341, 0.856, 0.465, 1.699, 0.629, 0.652, 0.402, 0.527, 0.16, 0.144, 0.582, 0.832, 0.441, 0.925, 0.855, 0.605, 0.355, 0.73, 0.503, 0.128, 0.378, 0.878, 0.253, 0.261, 0.761, 0.572, 0.136, 0.487, 0.237, 0.801, 0.926, 0.612, 0.277, 1.096, 0.417, 0.401, 0.956, 0.831, 0.674, 0.549, 1.136, 0.479, 0.338, 0.205, 0.088, 0.096, 0.229, 0.221, 1.072, 0.127, 0.252, 0.502, 1.127, 0.416, 1.182, 1.057, 0.525, 0.4, 0.58, 0.955, 0.705, 0.314, 0.439, 0.431, 0.306, 0.407, 0.282, 0.197, 0.173, 0.189, 0.673, 0.29, 0.463, 1.353, 0.251, 0.626, 0.376, 0.126, 0.501, 0.415, 0.165, 0.399, 0.157, 0.141, 0.649, 0.149, 0.704, 0.672, 0.547, 0.766, 0.727, 0.352}\n",
            "\n",
            "************************************* Age ****************************************\n",
            "\n",
            "{21, 22, 23, 24, 25, 26, 27, 28, 29, 30, 31, 32, 33, 34, 35, 36, 37, 38, 39, 40, 41, 42, 43, 44, 45, 46, 47, 48, 49, 50, 51, 52, 53, 54, 55, 56, 57, 58, 59, 60, 61, 62, 63, 64, 65, 66, 67, 68, 69, 70, 72, 81}\n",
            "\n",
            "************************************* Outcome ****************************************\n",
            "\n",
            "{0, 1}\n",
            "\n"
          ]
        }
      ]
    },
    {
      "cell_type": "code",
      "source": [
        "df.columns"
      ],
      "metadata": {
        "colab": {
          "base_uri": "https://localhost:8080/"
        },
        "id": "2h-C-XrZrDdZ",
        "outputId": "604cca3c-f9b6-4c82-a6ad-c191953bb688"
      },
      "execution_count": 6,
      "outputs": [
        {
          "output_type": "execute_result",
          "data": {
            "text/plain": [
              "Index(['Pregnancies', 'Glucose', 'BloodPressure', 'SkinThickness', 'Insulin', 'BMI',\n",
              "       'DiabetesPedigreeFunction', 'Age', 'Outcome'],\n",
              "      dtype='object')"
            ]
          },
          "metadata": {},
          "execution_count": 6
        }
      ]
    },
    {
      "cell_type": "code",
      "source": [
        "df['Glucose'] = np.where(df['Glucose']==0, df['Glucose'].median(), df['Glucose'])"
      ],
      "metadata": {
        "id": "0e9SaCbyrShs"
      },
      "execution_count": 7,
      "outputs": []
    },
    {
      "cell_type": "code",
      "source": [
        "df['BloodPressure'] = np.where(df['BloodPressure']==0, df['BloodPressure'].median(), df['BloodPressure'])"
      ],
      "metadata": {
        "id": "9FiUSeNkoICH"
      },
      "execution_count": 8,
      "outputs": []
    },
    {
      "cell_type": "code",
      "source": [
        "df['SkinThickness'] = np.where(df['SkinThickness']==0, df['SkinThickness'].median(), \n",
        "                               df['SkinThickness'])"
      ],
      "metadata": {
        "id": "IA1wV2UKrsjJ"
      },
      "execution_count": 9,
      "outputs": []
    },
    {
      "cell_type": "code",
      "source": [
        "df['Insulin'] = np.where(df['Insulin']==0, df['Insulin'].median(), df['Insulin'])"
      ],
      "metadata": {
        "id": "TC70Ay4srsmO"
      },
      "execution_count": 10,
      "outputs": []
    },
    {
      "cell_type": "code",
      "source": [
        "df['BMI'] = np.where(df['BMI']==0, df['BMI'].median(), df['BMI'])"
      ],
      "metadata": {
        "id": "KxIXpjDNrspA"
      },
      "execution_count": 11,
      "outputs": []
    },
    {
      "cell_type": "code",
      "source": [
        "x = df.iloc[:,0:-1]\n",
        "y = df.iloc[:,-1]"
      ],
      "metadata": {
        "id": "YTOUwK09rssD"
      },
      "execution_count": 13,
      "outputs": []
    },
    {
      "cell_type": "code",
      "source": [
        "x.head()"
      ],
      "metadata": {
        "colab": {
          "base_uri": "https://localhost:8080/",
          "height": 206
        },
        "id": "7lQx5RB8sT10",
        "outputId": "f8b4d15f-833c-442b-8f00-f838e259b06d"
      },
      "execution_count": 14,
      "outputs": [
        {
          "output_type": "execute_result",
          "data": {
            "text/plain": [
              "   Pregnancies  Glucose  BloodPressure  SkinThickness  Insulin   BMI  DiabetesPedigreeFunction  \\\n",
              "0            6    148.0           72.0           35.0     30.5  33.6                     0.627   \n",
              "1            1     85.0           66.0           29.0     30.5  26.6                     0.351   \n",
              "2            8    183.0           64.0           23.0     30.5  23.3                     0.672   \n",
              "3            1     89.0           66.0           23.0     94.0  28.1                     0.167   \n",
              "4            0    137.0           40.0           35.0    168.0  43.1                     2.288   \n",
              "\n",
              "   Age  \n",
              "0   50  \n",
              "1   31  \n",
              "2   32  \n",
              "3   21  \n",
              "4   33  "
            ],
            "text/html": [
              "\n",
              "  <div id=\"df-81f35e78-9474-413c-a7c6-e8289a45cfab\">\n",
              "    <div class=\"colab-df-container\">\n",
              "      <div>\n",
              "<style scoped>\n",
              "    .dataframe tbody tr th:only-of-type {\n",
              "        vertical-align: middle;\n",
              "    }\n",
              "\n",
              "    .dataframe tbody tr th {\n",
              "        vertical-align: top;\n",
              "    }\n",
              "\n",
              "    .dataframe thead th {\n",
              "        text-align: right;\n",
              "    }\n",
              "</style>\n",
              "<table border=\"1\" class=\"dataframe\">\n",
              "  <thead>\n",
              "    <tr style=\"text-align: right;\">\n",
              "      <th></th>\n",
              "      <th>Pregnancies</th>\n",
              "      <th>Glucose</th>\n",
              "      <th>BloodPressure</th>\n",
              "      <th>SkinThickness</th>\n",
              "      <th>Insulin</th>\n",
              "      <th>BMI</th>\n",
              "      <th>DiabetesPedigreeFunction</th>\n",
              "      <th>Age</th>\n",
              "    </tr>\n",
              "  </thead>\n",
              "  <tbody>\n",
              "    <tr>\n",
              "      <th>0</th>\n",
              "      <td>6</td>\n",
              "      <td>148.0</td>\n",
              "      <td>72.0</td>\n",
              "      <td>35.0</td>\n",
              "      <td>30.5</td>\n",
              "      <td>33.6</td>\n",
              "      <td>0.627</td>\n",
              "      <td>50</td>\n",
              "    </tr>\n",
              "    <tr>\n",
              "      <th>1</th>\n",
              "      <td>1</td>\n",
              "      <td>85.0</td>\n",
              "      <td>66.0</td>\n",
              "      <td>29.0</td>\n",
              "      <td>30.5</td>\n",
              "      <td>26.6</td>\n",
              "      <td>0.351</td>\n",
              "      <td>31</td>\n",
              "    </tr>\n",
              "    <tr>\n",
              "      <th>2</th>\n",
              "      <td>8</td>\n",
              "      <td>183.0</td>\n",
              "      <td>64.0</td>\n",
              "      <td>23.0</td>\n",
              "      <td>30.5</td>\n",
              "      <td>23.3</td>\n",
              "      <td>0.672</td>\n",
              "      <td>32</td>\n",
              "    </tr>\n",
              "    <tr>\n",
              "      <th>3</th>\n",
              "      <td>1</td>\n",
              "      <td>89.0</td>\n",
              "      <td>66.0</td>\n",
              "      <td>23.0</td>\n",
              "      <td>94.0</td>\n",
              "      <td>28.1</td>\n",
              "      <td>0.167</td>\n",
              "      <td>21</td>\n",
              "    </tr>\n",
              "    <tr>\n",
              "      <th>4</th>\n",
              "      <td>0</td>\n",
              "      <td>137.0</td>\n",
              "      <td>40.0</td>\n",
              "      <td>35.0</td>\n",
              "      <td>168.0</td>\n",
              "      <td>43.1</td>\n",
              "      <td>2.288</td>\n",
              "      <td>33</td>\n",
              "    </tr>\n",
              "  </tbody>\n",
              "</table>\n",
              "</div>\n",
              "      <button class=\"colab-df-convert\" onclick=\"convertToInteractive('df-81f35e78-9474-413c-a7c6-e8289a45cfab')\"\n",
              "              title=\"Convert this dataframe to an interactive table.\"\n",
              "              style=\"display:none;\">\n",
              "        \n",
              "  <svg xmlns=\"http://www.w3.org/2000/svg\" height=\"24px\"viewBox=\"0 0 24 24\"\n",
              "       width=\"24px\">\n",
              "    <path d=\"M0 0h24v24H0V0z\" fill=\"none\"/>\n",
              "    <path d=\"M18.56 5.44l.94 2.06.94-2.06 2.06-.94-2.06-.94-.94-2.06-.94 2.06-2.06.94zm-11 1L8.5 8.5l.94-2.06 2.06-.94-2.06-.94L8.5 2.5l-.94 2.06-2.06.94zm10 10l.94 2.06.94-2.06 2.06-.94-2.06-.94-.94-2.06-.94 2.06-2.06.94z\"/><path d=\"M17.41 7.96l-1.37-1.37c-.4-.4-.92-.59-1.43-.59-.52 0-1.04.2-1.43.59L10.3 9.45l-7.72 7.72c-.78.78-.78 2.05 0 2.83L4 21.41c.39.39.9.59 1.41.59.51 0 1.02-.2 1.41-.59l7.78-7.78 2.81-2.81c.8-.78.8-2.07 0-2.86zM5.41 20L4 18.59l7.72-7.72 1.47 1.35L5.41 20z\"/>\n",
              "  </svg>\n",
              "      </button>\n",
              "      \n",
              "  <style>\n",
              "    .colab-df-container {\n",
              "      display:flex;\n",
              "      flex-wrap:wrap;\n",
              "      gap: 12px;\n",
              "    }\n",
              "\n",
              "    .colab-df-convert {\n",
              "      background-color: #E8F0FE;\n",
              "      border: none;\n",
              "      border-radius: 50%;\n",
              "      cursor: pointer;\n",
              "      display: none;\n",
              "      fill: #1967D2;\n",
              "      height: 32px;\n",
              "      padding: 0 0 0 0;\n",
              "      width: 32px;\n",
              "    }\n",
              "\n",
              "    .colab-df-convert:hover {\n",
              "      background-color: #E2EBFA;\n",
              "      box-shadow: 0px 1px 2px rgba(60, 64, 67, 0.3), 0px 1px 3px 1px rgba(60, 64, 67, 0.15);\n",
              "      fill: #174EA6;\n",
              "    }\n",
              "\n",
              "    [theme=dark] .colab-df-convert {\n",
              "      background-color: #3B4455;\n",
              "      fill: #D2E3FC;\n",
              "    }\n",
              "\n",
              "    [theme=dark] .colab-df-convert:hover {\n",
              "      background-color: #434B5C;\n",
              "      box-shadow: 0px 1px 3px 1px rgba(0, 0, 0, 0.15);\n",
              "      filter: drop-shadow(0px 1px 2px rgba(0, 0, 0, 0.3));\n",
              "      fill: #FFFFFF;\n",
              "    }\n",
              "  </style>\n",
              "\n",
              "      <script>\n",
              "        const buttonEl =\n",
              "          document.querySelector('#df-81f35e78-9474-413c-a7c6-e8289a45cfab button.colab-df-convert');\n",
              "        buttonEl.style.display =\n",
              "          google.colab.kernel.accessAllowed ? 'block' : 'none';\n",
              "\n",
              "        async function convertToInteractive(key) {\n",
              "          const element = document.querySelector('#df-81f35e78-9474-413c-a7c6-e8289a45cfab');\n",
              "          const dataTable =\n",
              "            await google.colab.kernel.invokeFunction('convertToInteractive',\n",
              "                                                     [key], {});\n",
              "          if (!dataTable) return;\n",
              "\n",
              "          const docLinkHtml = 'Like what you see? Visit the ' +\n",
              "            '<a target=\"_blank\" href=https://colab.research.google.com/notebooks/data_table.ipynb>data table notebook</a>'\n",
              "            + ' to learn more about interactive tables.';\n",
              "          element.innerHTML = '';\n",
              "          dataTable['output_type'] = 'display_data';\n",
              "          await google.colab.output.renderOutput(dataTable, element);\n",
              "          const docLink = document.createElement('div');\n",
              "          docLink.innerHTML = docLinkHtml;\n",
              "          element.appendChild(docLink);\n",
              "        }\n",
              "      </script>\n",
              "    </div>\n",
              "  </div>\n",
              "  "
            ]
          },
          "metadata": {},
          "execution_count": 14
        }
      ]
    },
    {
      "cell_type": "code",
      "source": [
        "y.head()"
      ],
      "metadata": {
        "colab": {
          "base_uri": "https://localhost:8080/"
        },
        "id": "wdyKiwUYsUvH",
        "outputId": "92f3d25a-5267-4a8f-b9f5-b1c7b78fc517"
      },
      "execution_count": 15,
      "outputs": [
        {
          "output_type": "execute_result",
          "data": {
            "text/plain": [
              "0    1\n",
              "1    0\n",
              "2    1\n",
              "3    0\n",
              "4    1\n",
              "Name: Outcome, dtype: int64"
            ]
          },
          "metadata": {},
          "execution_count": 15
        }
      ]
    },
    {
      "cell_type": "code",
      "source": [
        "from sklearn.preprocessing import StandardScaler\n",
        "scaler = StandardScaler()\n",
        "x = scaler.fit_transform(x)"
      ],
      "metadata": {
        "id": "7tCV1ZXfoIFS"
      },
      "execution_count": 16,
      "outputs": []
    },
    {
      "cell_type": "code",
      "source": [
        "x.shape"
      ],
      "metadata": {
        "colab": {
          "base_uri": "https://localhost:8080/"
        },
        "id": "Ogi0btNrsnkm",
        "outputId": "da05c227-cfa7-49a2-cf78-6a143e7e4ff8"
      },
      "execution_count": 17,
      "outputs": [
        {
          "output_type": "execute_result",
          "data": {
            "text/plain": [
              "(768, 8)"
            ]
          },
          "metadata": {},
          "execution_count": 17
        }
      ]
    },
    {
      "cell_type": "code",
      "source": [
        "x"
      ],
      "metadata": {
        "colab": {
          "base_uri": "https://localhost:8080/"
        },
        "id": "CJ_DcL4Gso_A",
        "outputId": "eeede0b9-c7d4-4007-dc5c-8bd8a85f566d"
      },
      "execution_count": 18,
      "outputs": [
        {
          "output_type": "execute_result",
          "data": {
            "text/plain": [
              "array([[ 0.63994726,  0.86604475, -0.03198993, ...,  0.16724016,\n",
              "         0.46849198,  1.4259954 ],\n",
              "       [-0.84488505, -1.20506583, -0.5283186 , ..., -0.85155088,\n",
              "        -0.36506078, -0.19067191],\n",
              "       [ 1.23388019,  2.01666174, -0.69376149, ..., -1.33183808,\n",
              "         0.60439732, -0.10558415],\n",
              "       ...,\n",
              "       [ 0.3429808 , -0.02157407, -0.03198993, ..., -0.90976751,\n",
              "        -0.68519336, -0.27575966],\n",
              "       [-0.84488505,  0.14279979, -1.02464727, ..., -0.34215536,\n",
              "        -0.37110101,  1.17073215],\n",
              "       [-0.84488505, -0.94206766, -0.19743282, ..., -0.29849289,\n",
              "        -0.47378505, -0.87137393]])"
            ]
          },
          "metadata": {},
          "execution_count": 18
        }
      ]
    },
    {
      "cell_type": "code",
      "source": [
        "from sklearn.model_selection import train_test_split\n",
        "x_train, x_test, y_train, y_test = train_test_split(x, y, test_size=0.2, random_state=102)"
      ],
      "metadata": {
        "id": "qOs1Qrcssrqn"
      },
      "execution_count": 20,
      "outputs": []
    },
    {
      "cell_type": "code",
      "source": [
        "import tensorflow as tf\n",
        "from tensorflow import keras\n",
        "from keras.models import Sequential\n",
        "from keras.layers import Dense, Dropout"
      ],
      "metadata": {
        "id": "_kDN5S_os6XO"
      },
      "execution_count": 21,
      "outputs": []
    },
    {
      "cell_type": "code",
      "source": [
        "model = Sequential()\n",
        "model.add(Dense(6, activation='relu', input_dim=8))\n",
        "model.add(Dropout(0.5))\n",
        "model.add(Dense(1, activation='sigmoid'))\n",
        "model.compile(optimizer='adam', loss='binary_crossentropy', metrics=['accuracy'])"
      ],
      "metadata": {
        "id": "RTQJdQFSszAX"
      },
      "execution_count": 26,
      "outputs": []
    },
    {
      "cell_type": "code",
      "source": [
        "model.fit(x_train, y_train, validation_data=(x_test, y_test), epochs=100)"
      ],
      "metadata": {
        "colab": {
          "base_uri": "https://localhost:8080/"
        },
        "id": "-gXIQH3Jui5w",
        "outputId": "68445bef-6efd-4c4b-c785-4b34893a5c62"
      },
      "execution_count": 27,
      "outputs": [
        {
          "output_type": "stream",
          "name": "stdout",
          "text": [
            "Epoch 1/100\n",
            "20/20 [==============================] - 1s 12ms/step - loss: 0.8952 - accuracy: 0.4707 - val_loss: 0.8293 - val_accuracy: 0.3636\n",
            "Epoch 2/100\n",
            "20/20 [==============================] - 0s 5ms/step - loss: 0.8805 - accuracy: 0.4723 - val_loss: 0.8020 - val_accuracy: 0.4026\n",
            "Epoch 3/100\n",
            "20/20 [==============================] - 0s 5ms/step - loss: 0.8632 - accuracy: 0.5098 - val_loss: 0.7795 - val_accuracy: 0.4481\n",
            "Epoch 4/100\n",
            "20/20 [==============================] - 0s 5ms/step - loss: 0.8459 - accuracy: 0.4919 - val_loss: 0.7606 - val_accuracy: 0.5130\n",
            "Epoch 5/100\n",
            "20/20 [==============================] - 0s 5ms/step - loss: 0.8084 - accuracy: 0.5277 - val_loss: 0.7443 - val_accuracy: 0.5455\n",
            "Epoch 6/100\n",
            "20/20 [==============================] - 0s 5ms/step - loss: 0.8031 - accuracy: 0.5814 - val_loss: 0.7292 - val_accuracy: 0.5714\n",
            "Epoch 7/100\n",
            "20/20 [==============================] - 0s 5ms/step - loss: 0.8014 - accuracy: 0.5570 - val_loss: 0.7148 - val_accuracy: 0.6429\n",
            "Epoch 8/100\n",
            "20/20 [==============================] - 0s 5ms/step - loss: 0.7884 - accuracy: 0.5619 - val_loss: 0.7012 - val_accuracy: 0.6688\n",
            "Epoch 9/100\n",
            "20/20 [==============================] - 0s 5ms/step - loss: 0.7356 - accuracy: 0.6091 - val_loss: 0.6885 - val_accuracy: 0.6948\n",
            "Epoch 10/100\n",
            "20/20 [==============================] - 0s 6ms/step - loss: 0.7474 - accuracy: 0.6107 - val_loss: 0.6793 - val_accuracy: 0.7143\n",
            "Epoch 11/100\n",
            "20/20 [==============================] - 0s 7ms/step - loss: 0.7343 - accuracy: 0.6238 - val_loss: 0.6700 - val_accuracy: 0.7143\n",
            "Epoch 12/100\n",
            "20/20 [==============================] - 0s 7ms/step - loss: 0.7019 - accuracy: 0.6466 - val_loss: 0.6620 - val_accuracy: 0.7078\n",
            "Epoch 13/100\n",
            "20/20 [==============================] - 0s 7ms/step - loss: 0.7087 - accuracy: 0.6564 - val_loss: 0.6542 - val_accuracy: 0.7273\n",
            "Epoch 14/100\n",
            "20/20 [==============================] - 0s 7ms/step - loss: 0.6934 - accuracy: 0.6645 - val_loss: 0.6464 - val_accuracy: 0.7208\n",
            "Epoch 15/100\n",
            "20/20 [==============================] - 0s 7ms/step - loss: 0.7049 - accuracy: 0.6661 - val_loss: 0.6390 - val_accuracy: 0.7208\n",
            "Epoch 16/100\n",
            "20/20 [==============================] - 0s 7ms/step - loss: 0.6817 - accuracy: 0.6759 - val_loss: 0.6317 - val_accuracy: 0.7208\n",
            "Epoch 17/100\n",
            "20/20 [==============================] - 0s 7ms/step - loss: 0.6754 - accuracy: 0.6792 - val_loss: 0.6253 - val_accuracy: 0.7143\n",
            "Epoch 18/100\n",
            "20/20 [==============================] - 0s 7ms/step - loss: 0.6707 - accuracy: 0.6759 - val_loss: 0.6193 - val_accuracy: 0.7208\n",
            "Epoch 19/100\n",
            "20/20 [==============================] - 0s 7ms/step - loss: 0.6676 - accuracy: 0.6629 - val_loss: 0.6135 - val_accuracy: 0.7208\n",
            "Epoch 20/100\n",
            "20/20 [==============================] - 0s 7ms/step - loss: 0.6624 - accuracy: 0.6694 - val_loss: 0.6065 - val_accuracy: 0.7273\n",
            "Epoch 21/100\n",
            "20/20 [==============================] - 0s 7ms/step - loss: 0.6537 - accuracy: 0.6824 - val_loss: 0.5997 - val_accuracy: 0.7273\n",
            "Epoch 22/100\n",
            "20/20 [==============================] - 0s 6ms/step - loss: 0.6658 - accuracy: 0.6694 - val_loss: 0.5947 - val_accuracy: 0.7338\n",
            "Epoch 23/100\n",
            "20/20 [==============================] - 0s 7ms/step - loss: 0.6374 - accuracy: 0.6661 - val_loss: 0.5882 - val_accuracy: 0.7468\n",
            "Epoch 24/100\n",
            "20/20 [==============================] - 0s 7ms/step - loss: 0.6496 - accuracy: 0.6694 - val_loss: 0.5819 - val_accuracy: 0.7468\n",
            "Epoch 25/100\n",
            "20/20 [==============================] - 0s 6ms/step - loss: 0.6406 - accuracy: 0.6645 - val_loss: 0.5756 - val_accuracy: 0.7468\n",
            "Epoch 26/100\n",
            "20/20 [==============================] - 0s 7ms/step - loss: 0.6235 - accuracy: 0.6743 - val_loss: 0.5700 - val_accuracy: 0.7532\n",
            "Epoch 27/100\n",
            "20/20 [==============================] - 0s 7ms/step - loss: 0.6363 - accuracy: 0.6857 - val_loss: 0.5651 - val_accuracy: 0.7532\n",
            "Epoch 28/100\n",
            "20/20 [==============================] - 0s 5ms/step - loss: 0.6292 - accuracy: 0.6873 - val_loss: 0.5597 - val_accuracy: 0.7532\n",
            "Epoch 29/100\n",
            "20/20 [==============================] - 0s 5ms/step - loss: 0.6059 - accuracy: 0.6889 - val_loss: 0.5541 - val_accuracy: 0.7532\n",
            "Epoch 30/100\n",
            "20/20 [==============================] - 0s 6ms/step - loss: 0.6157 - accuracy: 0.6678 - val_loss: 0.5487 - val_accuracy: 0.7468\n",
            "Epoch 31/100\n",
            "20/20 [==============================] - 0s 5ms/step - loss: 0.6017 - accuracy: 0.6922 - val_loss: 0.5443 - val_accuracy: 0.7532\n",
            "Epoch 32/100\n",
            "20/20 [==============================] - 0s 5ms/step - loss: 0.5973 - accuracy: 0.6857 - val_loss: 0.5392 - val_accuracy: 0.7468\n",
            "Epoch 33/100\n",
            "20/20 [==============================] - 0s 5ms/step - loss: 0.6007 - accuracy: 0.6840 - val_loss: 0.5349 - val_accuracy: 0.7403\n",
            "Epoch 34/100\n",
            "20/20 [==============================] - 0s 5ms/step - loss: 0.5801 - accuracy: 0.6840 - val_loss: 0.5316 - val_accuracy: 0.7403\n",
            "Epoch 35/100\n",
            "20/20 [==============================] - 0s 5ms/step - loss: 0.5887 - accuracy: 0.6775 - val_loss: 0.5277 - val_accuracy: 0.7403\n",
            "Epoch 36/100\n",
            "20/20 [==============================] - 0s 5ms/step - loss: 0.5933 - accuracy: 0.6759 - val_loss: 0.5246 - val_accuracy: 0.7403\n",
            "Epoch 37/100\n",
            "20/20 [==============================] - 0s 5ms/step - loss: 0.5898 - accuracy: 0.6954 - val_loss: 0.5215 - val_accuracy: 0.7468\n",
            "Epoch 38/100\n",
            "20/20 [==============================] - 0s 5ms/step - loss: 0.5635 - accuracy: 0.7150 - val_loss: 0.5181 - val_accuracy: 0.7468\n",
            "Epoch 39/100\n",
            "20/20 [==============================] - 0s 5ms/step - loss: 0.5865 - accuracy: 0.6857 - val_loss: 0.5153 - val_accuracy: 0.7468\n",
            "Epoch 40/100\n",
            "20/20 [==============================] - 0s 5ms/step - loss: 0.5664 - accuracy: 0.7182 - val_loss: 0.5120 - val_accuracy: 0.7532\n",
            "Epoch 41/100\n",
            "20/20 [==============================] - 0s 5ms/step - loss: 0.5504 - accuracy: 0.7231 - val_loss: 0.5094 - val_accuracy: 0.7532\n",
            "Epoch 42/100\n",
            "20/20 [==============================] - 0s 5ms/step - loss: 0.5683 - accuracy: 0.6987 - val_loss: 0.5066 - val_accuracy: 0.7532\n",
            "Epoch 43/100\n",
            "20/20 [==============================] - 0s 5ms/step - loss: 0.5639 - accuracy: 0.6987 - val_loss: 0.5049 - val_accuracy: 0.7532\n",
            "Epoch 44/100\n",
            "20/20 [==============================] - 0s 5ms/step - loss: 0.5687 - accuracy: 0.6971 - val_loss: 0.5033 - val_accuracy: 0.7532\n",
            "Epoch 45/100\n",
            "20/20 [==============================] - 0s 5ms/step - loss: 0.5575 - accuracy: 0.7134 - val_loss: 0.5011 - val_accuracy: 0.7662\n",
            "Epoch 46/100\n",
            "20/20 [==============================] - 0s 5ms/step - loss: 0.5598 - accuracy: 0.6906 - val_loss: 0.4989 - val_accuracy: 0.7662\n",
            "Epoch 47/100\n",
            "20/20 [==============================] - 0s 5ms/step - loss: 0.5632 - accuracy: 0.7052 - val_loss: 0.4975 - val_accuracy: 0.7662\n",
            "Epoch 48/100\n",
            "20/20 [==============================] - 0s 6ms/step - loss: 0.5635 - accuracy: 0.7068 - val_loss: 0.4960 - val_accuracy: 0.7662\n",
            "Epoch 49/100\n",
            "20/20 [==============================] - 0s 5ms/step - loss: 0.5357 - accuracy: 0.7068 - val_loss: 0.4957 - val_accuracy: 0.7662\n",
            "Epoch 50/100\n",
            "20/20 [==============================] - 0s 5ms/step - loss: 0.5553 - accuracy: 0.7068 - val_loss: 0.4936 - val_accuracy: 0.7532\n",
            "Epoch 51/100\n",
            "20/20 [==============================] - 0s 5ms/step - loss: 0.5555 - accuracy: 0.7085 - val_loss: 0.4920 - val_accuracy: 0.7532\n",
            "Epoch 52/100\n",
            "20/20 [==============================] - 0s 6ms/step - loss: 0.5529 - accuracy: 0.7199 - val_loss: 0.4912 - val_accuracy: 0.7727\n",
            "Epoch 53/100\n",
            "20/20 [==============================] - 0s 5ms/step - loss: 0.5636 - accuracy: 0.7117 - val_loss: 0.4898 - val_accuracy: 0.7662\n",
            "Epoch 54/100\n",
            "20/20 [==============================] - 0s 5ms/step - loss: 0.5582 - accuracy: 0.6987 - val_loss: 0.4899 - val_accuracy: 0.7792\n",
            "Epoch 55/100\n",
            "20/20 [==============================] - 0s 5ms/step - loss: 0.5331 - accuracy: 0.7296 - val_loss: 0.4890 - val_accuracy: 0.7727\n",
            "Epoch 56/100\n",
            "20/20 [==============================] - 0s 5ms/step - loss: 0.5487 - accuracy: 0.7248 - val_loss: 0.4882 - val_accuracy: 0.7727\n",
            "Epoch 57/100\n",
            "20/20 [==============================] - 0s 5ms/step - loss: 0.5640 - accuracy: 0.7003 - val_loss: 0.4876 - val_accuracy: 0.7727\n",
            "Epoch 58/100\n",
            "20/20 [==============================] - 0s 5ms/step - loss: 0.5431 - accuracy: 0.7329 - val_loss: 0.4869 - val_accuracy: 0.7727\n",
            "Epoch 59/100\n",
            "20/20 [==============================] - 0s 5ms/step - loss: 0.5367 - accuracy: 0.6938 - val_loss: 0.4868 - val_accuracy: 0.7727\n",
            "Epoch 60/100\n",
            "20/20 [==============================] - 0s 5ms/step - loss: 0.5382 - accuracy: 0.7231 - val_loss: 0.4858 - val_accuracy: 0.7727\n",
            "Epoch 61/100\n",
            "20/20 [==============================] - 0s 5ms/step - loss: 0.5458 - accuracy: 0.7182 - val_loss: 0.4844 - val_accuracy: 0.7727\n",
            "Epoch 62/100\n",
            "20/20 [==============================] - 0s 5ms/step - loss: 0.5443 - accuracy: 0.7150 - val_loss: 0.4833 - val_accuracy: 0.7727\n",
            "Epoch 63/100\n",
            "20/20 [==============================] - 0s 5ms/step - loss: 0.5468 - accuracy: 0.7036 - val_loss: 0.4833 - val_accuracy: 0.7727\n",
            "Epoch 64/100\n",
            "20/20 [==============================] - 0s 5ms/step - loss: 0.5485 - accuracy: 0.7166 - val_loss: 0.4831 - val_accuracy: 0.7727\n",
            "Epoch 65/100\n",
            "20/20 [==============================] - 0s 5ms/step - loss: 0.5538 - accuracy: 0.7231 - val_loss: 0.4827 - val_accuracy: 0.7727\n",
            "Epoch 66/100\n",
            "20/20 [==============================] - 0s 5ms/step - loss: 0.5250 - accuracy: 0.7296 - val_loss: 0.4831 - val_accuracy: 0.7727\n",
            "Epoch 67/100\n",
            "20/20 [==============================] - 0s 5ms/step - loss: 0.5426 - accuracy: 0.7134 - val_loss: 0.4826 - val_accuracy: 0.7792\n",
            "Epoch 68/100\n",
            "20/20 [==============================] - 0s 5ms/step - loss: 0.5278 - accuracy: 0.7117 - val_loss: 0.4815 - val_accuracy: 0.7792\n",
            "Epoch 69/100\n",
            "20/20 [==============================] - 0s 5ms/step - loss: 0.5478 - accuracy: 0.7020 - val_loss: 0.4809 - val_accuracy: 0.7792\n",
            "Epoch 70/100\n",
            "20/20 [==============================] - 0s 5ms/step - loss: 0.5279 - accuracy: 0.7231 - val_loss: 0.4806 - val_accuracy: 0.7792\n",
            "Epoch 71/100\n",
            "20/20 [==============================] - 0s 5ms/step - loss: 0.5305 - accuracy: 0.7280 - val_loss: 0.4799 - val_accuracy: 0.7792\n",
            "Epoch 72/100\n",
            "20/20 [==============================] - 0s 5ms/step - loss: 0.5303 - accuracy: 0.7264 - val_loss: 0.4793 - val_accuracy: 0.7792\n",
            "Epoch 73/100\n",
            "20/20 [==============================] - 0s 5ms/step - loss: 0.5293 - accuracy: 0.7003 - val_loss: 0.4785 - val_accuracy: 0.7792\n",
            "Epoch 74/100\n",
            "20/20 [==============================] - 0s 5ms/step - loss: 0.5309 - accuracy: 0.7134 - val_loss: 0.4784 - val_accuracy: 0.7792\n",
            "Epoch 75/100\n",
            "20/20 [==============================] - 0s 6ms/step - loss: 0.5266 - accuracy: 0.7296 - val_loss: 0.4777 - val_accuracy: 0.7792\n",
            "Epoch 76/100\n",
            "20/20 [==============================] - 0s 6ms/step - loss: 0.5219 - accuracy: 0.7199 - val_loss: 0.4766 - val_accuracy: 0.7792\n",
            "Epoch 77/100\n",
            "20/20 [==============================] - 0s 5ms/step - loss: 0.5235 - accuracy: 0.7215 - val_loss: 0.4757 - val_accuracy: 0.7857\n",
            "Epoch 78/100\n",
            "20/20 [==============================] - 0s 5ms/step - loss: 0.5429 - accuracy: 0.7068 - val_loss: 0.4751 - val_accuracy: 0.7857\n",
            "Epoch 79/100\n",
            "20/20 [==============================] - 0s 5ms/step - loss: 0.5235 - accuracy: 0.7231 - val_loss: 0.4739 - val_accuracy: 0.7857\n",
            "Epoch 80/100\n",
            "20/20 [==============================] - 0s 5ms/step - loss: 0.5201 - accuracy: 0.7215 - val_loss: 0.4732 - val_accuracy: 0.7792\n",
            "Epoch 81/100\n",
            "20/20 [==============================] - 0s 5ms/step - loss: 0.5244 - accuracy: 0.7313 - val_loss: 0.4731 - val_accuracy: 0.7727\n",
            "Epoch 82/100\n",
            "20/20 [==============================] - 0s 5ms/step - loss: 0.5443 - accuracy: 0.7101 - val_loss: 0.4728 - val_accuracy: 0.7727\n",
            "Epoch 83/100\n",
            "20/20 [==============================] - 0s 5ms/step - loss: 0.5269 - accuracy: 0.7150 - val_loss: 0.4728 - val_accuracy: 0.7727\n",
            "Epoch 84/100\n",
            "20/20 [==============================] - 0s 5ms/step - loss: 0.5033 - accuracy: 0.7313 - val_loss: 0.4721 - val_accuracy: 0.7792\n",
            "Epoch 85/100\n",
            "20/20 [==============================] - 0s 5ms/step - loss: 0.5127 - accuracy: 0.7182 - val_loss: 0.4712 - val_accuracy: 0.7792\n",
            "Epoch 86/100\n",
            "20/20 [==============================] - 0s 5ms/step - loss: 0.5104 - accuracy: 0.7280 - val_loss: 0.4705 - val_accuracy: 0.7727\n",
            "Epoch 87/100\n",
            "20/20 [==============================] - 0s 6ms/step - loss: 0.5198 - accuracy: 0.7280 - val_loss: 0.4700 - val_accuracy: 0.7792\n",
            "Epoch 88/100\n",
            "20/20 [==============================] - 0s 5ms/step - loss: 0.5137 - accuracy: 0.7329 - val_loss: 0.4690 - val_accuracy: 0.7727\n",
            "Epoch 89/100\n",
            "20/20 [==============================] - 0s 5ms/step - loss: 0.5193 - accuracy: 0.7150 - val_loss: 0.4691 - val_accuracy: 0.7792\n",
            "Epoch 90/100\n",
            "20/20 [==============================] - 0s 6ms/step - loss: 0.5079 - accuracy: 0.7182 - val_loss: 0.4689 - val_accuracy: 0.7792\n",
            "Epoch 91/100\n",
            "20/20 [==============================] - 0s 5ms/step - loss: 0.5101 - accuracy: 0.7231 - val_loss: 0.4683 - val_accuracy: 0.7792\n",
            "Epoch 92/100\n",
            "20/20 [==============================] - 0s 5ms/step - loss: 0.5197 - accuracy: 0.7264 - val_loss: 0.4688 - val_accuracy: 0.7792\n",
            "Epoch 93/100\n",
            "20/20 [==============================] - 0s 5ms/step - loss: 0.5087 - accuracy: 0.7345 - val_loss: 0.4685 - val_accuracy: 0.7792\n",
            "Epoch 94/100\n",
            "20/20 [==============================] - 0s 5ms/step - loss: 0.4869 - accuracy: 0.7329 - val_loss: 0.4679 - val_accuracy: 0.7792\n",
            "Epoch 95/100\n",
            "20/20 [==============================] - 0s 5ms/step - loss: 0.5066 - accuracy: 0.7280 - val_loss: 0.4672 - val_accuracy: 0.7792\n",
            "Epoch 96/100\n",
            "20/20 [==============================] - 0s 5ms/step - loss: 0.5018 - accuracy: 0.7378 - val_loss: 0.4663 - val_accuracy: 0.7792\n",
            "Epoch 97/100\n",
            "20/20 [==============================] - 0s 6ms/step - loss: 0.4879 - accuracy: 0.7459 - val_loss: 0.4654 - val_accuracy: 0.7792\n",
            "Epoch 98/100\n",
            "20/20 [==============================] - 0s 5ms/step - loss: 0.5004 - accuracy: 0.7280 - val_loss: 0.4653 - val_accuracy: 0.7792\n",
            "Epoch 99/100\n",
            "20/20 [==============================] - 0s 5ms/step - loss: 0.4996 - accuracy: 0.7248 - val_loss: 0.4648 - val_accuracy: 0.7792\n",
            "Epoch 100/100\n",
            "20/20 [==============================] - 0s 5ms/step - loss: 0.5049 - accuracy: 0.7362 - val_loss: 0.4646 - val_accuracy: 0.7792\n"
          ]
        },
        {
          "output_type": "execute_result",
          "data": {
            "text/plain": [
              "<keras.callbacks.History at 0x7fb7dc1cb4f0>"
            ]
          },
          "metadata": {},
          "execution_count": 27
        }
      ]
    },
    {
      "cell_type": "code",
      "source": [
        "# HyperParameter Tunning - 'keras tuner'\n",
        "# How many Hidden Layers we have to give\n",
        "# How many neuron required on each layers\n",
        "# Which activation would be the best\n",
        "# What percentage Dropout is required\n",
        "# which optimization would be the best "
      ],
      "metadata": {
        "id": "MINdrMIPoIII"
      },
      "execution_count": null,
      "outputs": []
    },
    {
      "cell_type": "markdown",
      "source": [
        "# HyperParameter - keras tuner"
      ],
      "metadata": {
        "id": "wAxXhqapu-aL"
      }
    },
    {
      "cell_type": "code",
      "source": [
        "!pip install -U keras-tuner "
      ],
      "metadata": {
        "colab": {
          "base_uri": "https://localhost:8080/"
        },
        "id": "C7WBMgoluvv6",
        "outputId": "04ee33da-47f3-446e-c2a9-1e4a826c3591"
      },
      "execution_count": 28,
      "outputs": [
        {
          "output_type": "stream",
          "name": "stdout",
          "text": [
            "Looking in indexes: https://pypi.org/simple, https://us-python.pkg.dev/colab-wheels/public/simple/\n",
            "Collecting keras-tuner\n",
            "  Downloading keras_tuner-1.2.1-py3-none-any.whl (169 kB)\n",
            "\u001b[2K     \u001b[90m━━━━━━━━━━━━━━━━━━━━━━━━━━━━━━━━━━━━━━━\u001b[0m \u001b[32m169.6/169.6 KB\u001b[0m \u001b[31m5.2 MB/s\u001b[0m eta \u001b[36m0:00:00\u001b[0m\n",
            "\u001b[?25hRequirement already satisfied: tensorflow>=2.0 in /usr/local/lib/python3.8/dist-packages (from keras-tuner) (2.11.0)\n",
            "Requirement already satisfied: ipython in /usr/local/lib/python3.8/dist-packages (from keras-tuner) (7.9.0)\n",
            "Requirement already satisfied: packaging in /usr/local/lib/python3.8/dist-packages (from keras-tuner) (23.0)\n",
            "Collecting kt-legacy\n",
            "  Downloading kt_legacy-1.0.4-py3-none-any.whl (9.6 kB)\n",
            "Requirement already satisfied: requests in /usr/local/lib/python3.8/dist-packages (from keras-tuner) (2.25.1)\n",
            "Requirement already satisfied: wrapt>=1.11.0 in /usr/local/lib/python3.8/dist-packages (from tensorflow>=2.0->keras-tuner) (1.14.1)\n",
            "Requirement already satisfied: six>=1.12.0 in /usr/local/lib/python3.8/dist-packages (from tensorflow>=2.0->keras-tuner) (1.15.0)\n",
            "Requirement already satisfied: flatbuffers>=2.0 in /usr/local/lib/python3.8/dist-packages (from tensorflow>=2.0->keras-tuner) (23.1.21)\n",
            "Requirement already satisfied: tensorflow-io-gcs-filesystem>=0.23.1 in /usr/local/lib/python3.8/dist-packages (from tensorflow>=2.0->keras-tuner) (0.30.0)\n",
            "Requirement already satisfied: tensorboard<2.12,>=2.11 in /usr/local/lib/python3.8/dist-packages (from tensorflow>=2.0->keras-tuner) (2.11.2)\n",
            "Requirement already satisfied: keras<2.12,>=2.11.0 in /usr/local/lib/python3.8/dist-packages (from tensorflow>=2.0->keras-tuner) (2.11.0)\n",
            "Requirement already satisfied: tensorflow-estimator<2.12,>=2.11.0 in /usr/local/lib/python3.8/dist-packages (from tensorflow>=2.0->keras-tuner) (2.11.0)\n",
            "Requirement already satisfied: libclang>=13.0.0 in /usr/local/lib/python3.8/dist-packages (from tensorflow>=2.0->keras-tuner) (15.0.6.1)\n",
            "Requirement already satisfied: typing-extensions>=3.6.6 in /usr/local/lib/python3.8/dist-packages (from tensorflow>=2.0->keras-tuner) (4.5.0)\n",
            "Requirement already satisfied: astunparse>=1.6.0 in /usr/local/lib/python3.8/dist-packages (from tensorflow>=2.0->keras-tuner) (1.6.3)\n",
            "Requirement already satisfied: grpcio<2.0,>=1.24.3 in /usr/local/lib/python3.8/dist-packages (from tensorflow>=2.0->keras-tuner) (1.51.1)\n",
            "Requirement already satisfied: google-pasta>=0.1.1 in /usr/local/lib/python3.8/dist-packages (from tensorflow>=2.0->keras-tuner) (0.2.0)\n",
            "Requirement already satisfied: opt-einsum>=2.3.2 in /usr/local/lib/python3.8/dist-packages (from tensorflow>=2.0->keras-tuner) (3.3.0)\n",
            "Requirement already satisfied: absl-py>=1.0.0 in /usr/local/lib/python3.8/dist-packages (from tensorflow>=2.0->keras-tuner) (1.4.0)\n",
            "Requirement already satisfied: protobuf<3.20,>=3.9.2 in /usr/local/lib/python3.8/dist-packages (from tensorflow>=2.0->keras-tuner) (3.19.6)\n",
            "Requirement already satisfied: setuptools in /usr/local/lib/python3.8/dist-packages (from tensorflow>=2.0->keras-tuner) (57.4.0)\n",
            "Requirement already satisfied: numpy>=1.20 in /usr/local/lib/python3.8/dist-packages (from tensorflow>=2.0->keras-tuner) (1.21.6)\n",
            "Requirement already satisfied: h5py>=2.9.0 in /usr/local/lib/python3.8/dist-packages (from tensorflow>=2.0->keras-tuner) (3.1.0)\n",
            "Requirement already satisfied: termcolor>=1.1.0 in /usr/local/lib/python3.8/dist-packages (from tensorflow>=2.0->keras-tuner) (2.2.0)\n",
            "Requirement already satisfied: gast<=0.4.0,>=0.2.1 in /usr/local/lib/python3.8/dist-packages (from tensorflow>=2.0->keras-tuner) (0.4.0)\n",
            "Requirement already satisfied: backcall in /usr/local/lib/python3.8/dist-packages (from ipython->keras-tuner) (0.2.0)\n",
            "Requirement already satisfied: decorator in /usr/local/lib/python3.8/dist-packages (from ipython->keras-tuner) (4.4.2)\n",
            "Requirement already satisfied: prompt-toolkit<2.1.0,>=2.0.0 in /usr/local/lib/python3.8/dist-packages (from ipython->keras-tuner) (2.0.10)\n",
            "Collecting jedi>=0.10\n",
            "  Downloading jedi-0.18.2-py2.py3-none-any.whl (1.6 MB)\n",
            "\u001b[2K     \u001b[90m━━━━━━━━━━━━━━━━━━━━━━━━━━━━━━━━━━━━━━━━\u001b[0m \u001b[32m1.6/1.6 MB\u001b[0m \u001b[31m31.7 MB/s\u001b[0m eta \u001b[36m0:00:00\u001b[0m\n",
            "\u001b[?25hRequirement already satisfied: traitlets>=4.2 in /usr/local/lib/python3.8/dist-packages (from ipython->keras-tuner) (5.7.1)\n",
            "Requirement already satisfied: pygments in /usr/local/lib/python3.8/dist-packages (from ipython->keras-tuner) (2.6.1)\n",
            "Requirement already satisfied: pexpect in /usr/local/lib/python3.8/dist-packages (from ipython->keras-tuner) (4.8.0)\n",
            "Requirement already satisfied: pickleshare in /usr/local/lib/python3.8/dist-packages (from ipython->keras-tuner) (0.7.5)\n",
            "Requirement already satisfied: urllib3<1.27,>=1.21.1 in /usr/local/lib/python3.8/dist-packages (from requests->keras-tuner) (1.24.3)\n",
            "Requirement already satisfied: certifi>=2017.4.17 in /usr/local/lib/python3.8/dist-packages (from requests->keras-tuner) (2022.12.7)\n",
            "Requirement already satisfied: chardet<5,>=3.0.2 in /usr/local/lib/python3.8/dist-packages (from requests->keras-tuner) (4.0.0)\n",
            "Requirement already satisfied: idna<3,>=2.5 in /usr/local/lib/python3.8/dist-packages (from requests->keras-tuner) (2.10)\n",
            "Requirement already satisfied: wheel<1.0,>=0.23.0 in /usr/local/lib/python3.8/dist-packages (from astunparse>=1.6.0->tensorflow>=2.0->keras-tuner) (0.38.4)\n",
            "Requirement already satisfied: parso<0.9.0,>=0.8.0 in /usr/local/lib/python3.8/dist-packages (from jedi>=0.10->ipython->keras-tuner) (0.8.3)\n",
            "Requirement already satisfied: wcwidth in /usr/local/lib/python3.8/dist-packages (from prompt-toolkit<2.1.0,>=2.0.0->ipython->keras-tuner) (0.2.6)\n",
            "Requirement already satisfied: google-auth-oauthlib<0.5,>=0.4.1 in /usr/local/lib/python3.8/dist-packages (from tensorboard<2.12,>=2.11->tensorflow>=2.0->keras-tuner) (0.4.6)\n",
            "Requirement already satisfied: google-auth<3,>=1.6.3 in /usr/local/lib/python3.8/dist-packages (from tensorboard<2.12,>=2.11->tensorflow>=2.0->keras-tuner) (2.16.0)\n",
            "Requirement already satisfied: tensorboard-data-server<0.7.0,>=0.6.0 in /usr/local/lib/python3.8/dist-packages (from tensorboard<2.12,>=2.11->tensorflow>=2.0->keras-tuner) (0.6.1)\n",
            "Requirement already satisfied: werkzeug>=1.0.1 in /usr/local/lib/python3.8/dist-packages (from tensorboard<2.12,>=2.11->tensorflow>=2.0->keras-tuner) (1.0.1)\n",
            "Requirement already satisfied: tensorboard-plugin-wit>=1.6.0 in /usr/local/lib/python3.8/dist-packages (from tensorboard<2.12,>=2.11->tensorflow>=2.0->keras-tuner) (1.8.1)\n",
            "Requirement already satisfied: markdown>=2.6.8 in /usr/local/lib/python3.8/dist-packages (from tensorboard<2.12,>=2.11->tensorflow>=2.0->keras-tuner) (3.4.1)\n",
            "Requirement already satisfied: ptyprocess>=0.5 in /usr/local/lib/python3.8/dist-packages (from pexpect->ipython->keras-tuner) (0.7.0)\n",
            "Requirement already satisfied: rsa<5,>=3.1.4 in /usr/local/lib/python3.8/dist-packages (from google-auth<3,>=1.6.3->tensorboard<2.12,>=2.11->tensorflow>=2.0->keras-tuner) (4.9)\n",
            "Requirement already satisfied: cachetools<6.0,>=2.0.0 in /usr/local/lib/python3.8/dist-packages (from google-auth<3,>=1.6.3->tensorboard<2.12,>=2.11->tensorflow>=2.0->keras-tuner) (5.3.0)\n",
            "Requirement already satisfied: pyasn1-modules>=0.2.1 in /usr/local/lib/python3.8/dist-packages (from google-auth<3,>=1.6.3->tensorboard<2.12,>=2.11->tensorflow>=2.0->keras-tuner) (0.2.8)\n",
            "Requirement already satisfied: requests-oauthlib>=0.7.0 in /usr/local/lib/python3.8/dist-packages (from google-auth-oauthlib<0.5,>=0.4.1->tensorboard<2.12,>=2.11->tensorflow>=2.0->keras-tuner) (1.3.1)\n",
            "Requirement already satisfied: importlib-metadata>=4.4 in /usr/local/lib/python3.8/dist-packages (from markdown>=2.6.8->tensorboard<2.12,>=2.11->tensorflow>=2.0->keras-tuner) (6.0.0)\n",
            "Requirement already satisfied: zipp>=0.5 in /usr/local/lib/python3.8/dist-packages (from importlib-metadata>=4.4->markdown>=2.6.8->tensorboard<2.12,>=2.11->tensorflow>=2.0->keras-tuner) (3.13.0)\n",
            "Requirement already satisfied: pyasn1<0.5.0,>=0.4.6 in /usr/local/lib/python3.8/dist-packages (from pyasn1-modules>=0.2.1->google-auth<3,>=1.6.3->tensorboard<2.12,>=2.11->tensorflow>=2.0->keras-tuner) (0.4.8)\n",
            "Requirement already satisfied: oauthlib>=3.0.0 in /usr/local/lib/python3.8/dist-packages (from requests-oauthlib>=0.7.0->google-auth-oauthlib<0.5,>=0.4.1->tensorboard<2.12,>=2.11->tensorflow>=2.0->keras-tuner) (3.2.2)\n",
            "Installing collected packages: kt-legacy, jedi, keras-tuner\n",
            "Successfully installed jedi-0.18.2 keras-tuner-1.2.1 kt-legacy-1.0.4\n"
          ]
        }
      ]
    },
    {
      "cell_type": "code",
      "source": [
        "import kerastuner as kt"
      ],
      "metadata": {
        "colab": {
          "base_uri": "https://localhost:8080/"
        },
        "id": "noMpnOOTuvtM",
        "outputId": "51c951c5-b0c8-4cb9-e7bb-fb122d80aeca"
      },
      "execution_count": 29,
      "outputs": [
        {
          "output_type": "stream",
          "name": "stderr",
          "text": [
            "<ipython-input-29-5fd8096cdee5>:1: DeprecationWarning: `import kerastuner` is deprecated, please use `import keras_tuner`.\n",
            "  import kerastuner as kt\n"
          ]
        }
      ]
    },
    {
      "cell_type": "code",
      "source": [
        "# Optimizer\n",
        "def build_model(hp):\n",
        "  model = Sequential()\n",
        "  model.add(Dense(6, activation='relu', input_dim=8))\n",
        "  model.add(Dropout(0.5))\n",
        "  model.add(Dense(1, activation='sigmoid'))\n",
        "  optimizer = hp.Choice('optimizer', values=['sgd','adadelta','adagrad','rmsprop','adam','nadam'])\n",
        "  model.compile(optimizer=optimizer, loss='binary_crossentropy', metrics=['accuracy'])\n",
        "  return model"
      ],
      "metadata": {
        "id": "YGZVwH_bvPoB"
      },
      "execution_count": 30,
      "outputs": []
    },
    {
      "cell_type": "code",
      "source": [
        "# Best Optimizer \n",
        "tuner = kt.RandomSearch(build_model,\n",
        "    objective='val_loss',\n",
        "    max_trials=5)"
      ],
      "metadata": {
        "id": "WWNnS_R4wtH7"
      },
      "execution_count": 31,
      "outputs": []
    },
    {
      "cell_type": "code",
      "source": [
        "tuner.search(x_train, y_train, epochs=5, validation_data=(x_test, y_test))"
      ],
      "metadata": {
        "colab": {
          "base_uri": "https://localhost:8080/"
        },
        "id": "cJTe4NnOwtLe",
        "outputId": "a9fa504d-1a89-4e0b-8fb6-ab825defdf08"
      },
      "execution_count": 32,
      "outputs": [
        {
          "output_type": "stream",
          "name": "stdout",
          "text": [
            "Trial 5 Complete [00h 00m 02s]\n",
            "val_loss: 0.6583220958709717\n",
            "\n",
            "Best val_loss So Far: 0.5472570061683655\n",
            "Total elapsed time: 00h 00m 11s\n"
          ]
        }
      ]
    },
    {
      "cell_type": "code",
      "source": [
        "tuner.get_best_hyperparameters()[0].values"
      ],
      "metadata": {
        "colab": {
          "base_uri": "https://localhost:8080/"
        },
        "id": "039_nJeuwtOf",
        "outputId": "a1fcf0bc-8e72-462d-ff2f-64da3be19030"
      },
      "execution_count": 33,
      "outputs": [
        {
          "output_type": "execute_result",
          "data": {
            "text/plain": [
              "{'optimizer': 'nadam'}"
            ]
          },
          "metadata": {},
          "execution_count": 33
        }
      ]
    },
    {
      "cell_type": "code",
      "source": [
        "model = tuner.get_best_models(num_models=1)[0]"
      ],
      "metadata": {
        "id": "nZvL6xxkwtR9"
      },
      "execution_count": 34,
      "outputs": []
    },
    {
      "cell_type": "code",
      "source": [
        "model.summary()"
      ],
      "metadata": {
        "colab": {
          "base_uri": "https://localhost:8080/"
        },
        "id": "OcoqCHmXwtU0",
        "outputId": "b8ca719f-82a7-48f0-ade0-6c558d96e3cc"
      },
      "execution_count": 35,
      "outputs": [
        {
          "output_type": "stream",
          "name": "stdout",
          "text": [
            "Model: \"sequential\"\n",
            "_________________________________________________________________\n",
            " Layer (type)                Output Shape              Param #   \n",
            "=================================================================\n",
            " dense (Dense)               (None, 6)                 54        \n",
            "                                                                 \n",
            " dropout (Dropout)           (None, 6)                 0         \n",
            "                                                                 \n",
            " dense_1 (Dense)             (None, 1)                 7         \n",
            "                                                                 \n",
            "=================================================================\n",
            "Total params: 61\n",
            "Trainable params: 61\n",
            "Non-trainable params: 0\n",
            "_________________________________________________________________\n"
          ]
        }
      ]
    },
    {
      "cell_type": "code",
      "source": [
        "model.fit(x_train, y_train, validation_data=(x_test, y_test), epochs=100, initial_epoch=6)"
      ],
      "metadata": {
        "colab": {
          "base_uri": "https://localhost:8080/"
        },
        "id": "PLH-elYJx0Nh",
        "outputId": "d7ce8285-6b4c-40ed-c367-54c2a9238678"
      },
      "execution_count": 37,
      "outputs": [
        {
          "output_type": "stream",
          "name": "stdout",
          "text": [
            "Epoch 7/100\n",
            "20/20 [==============================] - 1s 12ms/step - loss: 0.6060 - accuracy: 0.6645 - val_loss: 0.5416 - val_accuracy: 0.7338\n",
            "Epoch 8/100\n",
            "20/20 [==============================] - 0s 6ms/step - loss: 0.6107 - accuracy: 0.6775 - val_loss: 0.5377 - val_accuracy: 0.7532\n",
            "Epoch 9/100\n",
            "20/20 [==============================] - 0s 5ms/step - loss: 0.6049 - accuracy: 0.6775 - val_loss: 0.5338 - val_accuracy: 0.7468\n",
            "Epoch 10/100\n",
            "20/20 [==============================] - 0s 5ms/step - loss: 0.6097 - accuracy: 0.6775 - val_loss: 0.5301 - val_accuracy: 0.7338\n",
            "Epoch 11/100\n",
            "20/20 [==============================] - 0s 6ms/step - loss: 0.6009 - accuracy: 0.6792 - val_loss: 0.5270 - val_accuracy: 0.7338\n",
            "Epoch 12/100\n",
            "20/20 [==============================] - 0s 5ms/step - loss: 0.5901 - accuracy: 0.6857 - val_loss: 0.5241 - val_accuracy: 0.7273\n",
            "Epoch 13/100\n",
            "20/20 [==============================] - 0s 5ms/step - loss: 0.5832 - accuracy: 0.6792 - val_loss: 0.5224 - val_accuracy: 0.7338\n",
            "Epoch 14/100\n",
            "20/20 [==============================] - 0s 5ms/step - loss: 0.5993 - accuracy: 0.6694 - val_loss: 0.5189 - val_accuracy: 0.7338\n",
            "Epoch 15/100\n",
            "20/20 [==============================] - 0s 5ms/step - loss: 0.5730 - accuracy: 0.6873 - val_loss: 0.5156 - val_accuracy: 0.7338\n",
            "Epoch 16/100\n",
            "20/20 [==============================] - 0s 6ms/step - loss: 0.5936 - accuracy: 0.6564 - val_loss: 0.5129 - val_accuracy: 0.7403\n",
            "Epoch 17/100\n",
            "20/20 [==============================] - 0s 6ms/step - loss: 0.5594 - accuracy: 0.6743 - val_loss: 0.5100 - val_accuracy: 0.7403\n",
            "Epoch 18/100\n",
            "20/20 [==============================] - 0s 6ms/step - loss: 0.5750 - accuracy: 0.6743 - val_loss: 0.5070 - val_accuracy: 0.7468\n",
            "Epoch 19/100\n",
            "20/20 [==============================] - 0s 5ms/step - loss: 0.5725 - accuracy: 0.6808 - val_loss: 0.5040 - val_accuracy: 0.7468\n",
            "Epoch 20/100\n",
            "20/20 [==============================] - 0s 5ms/step - loss: 0.5708 - accuracy: 0.6824 - val_loss: 0.5022 - val_accuracy: 0.7532\n",
            "Epoch 21/100\n",
            "20/20 [==============================] - 0s 5ms/step - loss: 0.5652 - accuracy: 0.6971 - val_loss: 0.5007 - val_accuracy: 0.7532\n",
            "Epoch 22/100\n",
            "20/20 [==============================] - 0s 6ms/step - loss: 0.5728 - accuracy: 0.6775 - val_loss: 0.4988 - val_accuracy: 0.7532\n",
            "Epoch 23/100\n",
            "20/20 [==============================] - 0s 6ms/step - loss: 0.5497 - accuracy: 0.7085 - val_loss: 0.4962 - val_accuracy: 0.7597\n",
            "Epoch 24/100\n",
            "20/20 [==============================] - 0s 6ms/step - loss: 0.5608 - accuracy: 0.6922 - val_loss: 0.4941 - val_accuracy: 0.7597\n",
            "Epoch 25/100\n",
            "20/20 [==============================] - 0s 5ms/step - loss: 0.5612 - accuracy: 0.6775 - val_loss: 0.4922 - val_accuracy: 0.7597\n",
            "Epoch 26/100\n",
            "20/20 [==============================] - 0s 7ms/step - loss: 0.5445 - accuracy: 0.7003 - val_loss: 0.4901 - val_accuracy: 0.7597\n",
            "Epoch 27/100\n",
            "20/20 [==============================] - 0s 7ms/step - loss: 0.5740 - accuracy: 0.6808 - val_loss: 0.4890 - val_accuracy: 0.7727\n",
            "Epoch 28/100\n",
            "20/20 [==============================] - 0s 8ms/step - loss: 0.5456 - accuracy: 0.6808 - val_loss: 0.4870 - val_accuracy: 0.7727\n",
            "Epoch 29/100\n",
            "20/20 [==============================] - 0s 8ms/step - loss: 0.5293 - accuracy: 0.7085 - val_loss: 0.4846 - val_accuracy: 0.7727\n",
            "Epoch 30/100\n",
            "20/20 [==============================] - 0s 7ms/step - loss: 0.5435 - accuracy: 0.6938 - val_loss: 0.4828 - val_accuracy: 0.7727\n",
            "Epoch 31/100\n",
            "20/20 [==============================] - 0s 7ms/step - loss: 0.5291 - accuracy: 0.7085 - val_loss: 0.4814 - val_accuracy: 0.7662\n",
            "Epoch 32/100\n",
            "20/20 [==============================] - 0s 8ms/step - loss: 0.5410 - accuracy: 0.7068 - val_loss: 0.4793 - val_accuracy: 0.7662\n",
            "Epoch 33/100\n",
            "20/20 [==============================] - 0s 7ms/step - loss: 0.5534 - accuracy: 0.6857 - val_loss: 0.4781 - val_accuracy: 0.7597\n",
            "Epoch 34/100\n",
            "20/20 [==============================] - 0s 7ms/step - loss: 0.5323 - accuracy: 0.7085 - val_loss: 0.4778 - val_accuracy: 0.7597\n",
            "Epoch 35/100\n",
            "20/20 [==============================] - 0s 7ms/step - loss: 0.5530 - accuracy: 0.6938 - val_loss: 0.4773 - val_accuracy: 0.7597\n",
            "Epoch 36/100\n",
            "20/20 [==============================] - 0s 7ms/step - loss: 0.5275 - accuracy: 0.7134 - val_loss: 0.4761 - val_accuracy: 0.7597\n",
            "Epoch 37/100\n",
            "20/20 [==============================] - 0s 7ms/step - loss: 0.5374 - accuracy: 0.6808 - val_loss: 0.4750 - val_accuracy: 0.7597\n",
            "Epoch 38/100\n",
            "20/20 [==============================] - 0s 8ms/step - loss: 0.5279 - accuracy: 0.7068 - val_loss: 0.4735 - val_accuracy: 0.7597\n",
            "Epoch 39/100\n",
            "20/20 [==============================] - 0s 7ms/step - loss: 0.5485 - accuracy: 0.7036 - val_loss: 0.4734 - val_accuracy: 0.7662\n",
            "Epoch 40/100\n",
            "20/20 [==============================] - 0s 7ms/step - loss: 0.5376 - accuracy: 0.7134 - val_loss: 0.4724 - val_accuracy: 0.7662\n",
            "Epoch 41/100\n",
            "20/20 [==============================] - 0s 8ms/step - loss: 0.5438 - accuracy: 0.7231 - val_loss: 0.4717 - val_accuracy: 0.7727\n",
            "Epoch 42/100\n",
            "20/20 [==============================] - 0s 6ms/step - loss: 0.5426 - accuracy: 0.6971 - val_loss: 0.4710 - val_accuracy: 0.7792\n",
            "Epoch 43/100\n",
            "20/20 [==============================] - 0s 6ms/step - loss: 0.5296 - accuracy: 0.7215 - val_loss: 0.4698 - val_accuracy: 0.7792\n",
            "Epoch 44/100\n",
            "20/20 [==============================] - 0s 5ms/step - loss: 0.5370 - accuracy: 0.7166 - val_loss: 0.4688 - val_accuracy: 0.7792\n",
            "Epoch 45/100\n",
            "20/20 [==============================] - 0s 5ms/step - loss: 0.5322 - accuracy: 0.7362 - val_loss: 0.4682 - val_accuracy: 0.7857\n",
            "Epoch 46/100\n",
            "20/20 [==============================] - 0s 5ms/step - loss: 0.5212 - accuracy: 0.7215 - val_loss: 0.4667 - val_accuracy: 0.7857\n",
            "Epoch 47/100\n",
            "20/20 [==============================] - 0s 5ms/step - loss: 0.5198 - accuracy: 0.7036 - val_loss: 0.4658 - val_accuracy: 0.7857\n",
            "Epoch 48/100\n",
            "20/20 [==============================] - 0s 5ms/step - loss: 0.5185 - accuracy: 0.7182 - val_loss: 0.4652 - val_accuracy: 0.7922\n",
            "Epoch 49/100\n",
            "20/20 [==============================] - 0s 6ms/step - loss: 0.5030 - accuracy: 0.7410 - val_loss: 0.4640 - val_accuracy: 0.7857\n",
            "Epoch 50/100\n",
            "20/20 [==============================] - 0s 6ms/step - loss: 0.5006 - accuracy: 0.7215 - val_loss: 0.4625 - val_accuracy: 0.7922\n",
            "Epoch 51/100\n",
            "20/20 [==============================] - 0s 6ms/step - loss: 0.5043 - accuracy: 0.7427 - val_loss: 0.4616 - val_accuracy: 0.7922\n",
            "Epoch 52/100\n",
            "20/20 [==============================] - 0s 6ms/step - loss: 0.5255 - accuracy: 0.7280 - val_loss: 0.4611 - val_accuracy: 0.7922\n",
            "Epoch 53/100\n",
            "20/20 [==============================] - 0s 5ms/step - loss: 0.5063 - accuracy: 0.7476 - val_loss: 0.4598 - val_accuracy: 0.7922\n",
            "Epoch 54/100\n",
            "20/20 [==============================] - 0s 5ms/step - loss: 0.5134 - accuracy: 0.7052 - val_loss: 0.4594 - val_accuracy: 0.7922\n",
            "Epoch 55/100\n",
            "20/20 [==============================] - 0s 5ms/step - loss: 0.5169 - accuracy: 0.7313 - val_loss: 0.4594 - val_accuracy: 0.7922\n",
            "Epoch 56/100\n",
            "20/20 [==============================] - 0s 5ms/step - loss: 0.5308 - accuracy: 0.7150 - val_loss: 0.4594 - val_accuracy: 0.7922\n",
            "Epoch 57/100\n",
            "20/20 [==============================] - 0s 7ms/step - loss: 0.5125 - accuracy: 0.7296 - val_loss: 0.4590 - val_accuracy: 0.7857\n",
            "Epoch 58/100\n",
            "20/20 [==============================] - 0s 6ms/step - loss: 0.5083 - accuracy: 0.7345 - val_loss: 0.4583 - val_accuracy: 0.7857\n",
            "Epoch 59/100\n",
            "20/20 [==============================] - 0s 5ms/step - loss: 0.5170 - accuracy: 0.7362 - val_loss: 0.4578 - val_accuracy: 0.7857\n",
            "Epoch 60/100\n",
            "20/20 [==============================] - 0s 6ms/step - loss: 0.5122 - accuracy: 0.7231 - val_loss: 0.4574 - val_accuracy: 0.7857\n",
            "Epoch 61/100\n",
            "20/20 [==============================] - 0s 6ms/step - loss: 0.5059 - accuracy: 0.7166 - val_loss: 0.4572 - val_accuracy: 0.7857\n",
            "Epoch 62/100\n",
            "20/20 [==============================] - 0s 6ms/step - loss: 0.5105 - accuracy: 0.7329 - val_loss: 0.4568 - val_accuracy: 0.7857\n",
            "Epoch 63/100\n",
            "20/20 [==============================] - 0s 6ms/step - loss: 0.5125 - accuracy: 0.7427 - val_loss: 0.4568 - val_accuracy: 0.7857\n",
            "Epoch 64/100\n",
            "20/20 [==============================] - 0s 5ms/step - loss: 0.5049 - accuracy: 0.7427 - val_loss: 0.4566 - val_accuracy: 0.7792\n",
            "Epoch 65/100\n",
            "20/20 [==============================] - 0s 6ms/step - loss: 0.5157 - accuracy: 0.7280 - val_loss: 0.4569 - val_accuracy: 0.7857\n",
            "Epoch 66/100\n",
            "20/20 [==============================] - 0s 5ms/step - loss: 0.5179 - accuracy: 0.7150 - val_loss: 0.4569 - val_accuracy: 0.7857\n",
            "Epoch 67/100\n",
            "20/20 [==============================] - 0s 5ms/step - loss: 0.5135 - accuracy: 0.7313 - val_loss: 0.4566 - val_accuracy: 0.7857\n",
            "Epoch 68/100\n",
            "20/20 [==============================] - 0s 5ms/step - loss: 0.5123 - accuracy: 0.7476 - val_loss: 0.4565 - val_accuracy: 0.7857\n",
            "Epoch 69/100\n",
            "20/20 [==============================] - 0s 6ms/step - loss: 0.5142 - accuracy: 0.7329 - val_loss: 0.4566 - val_accuracy: 0.7922\n",
            "Epoch 70/100\n",
            "20/20 [==============================] - 0s 5ms/step - loss: 0.5055 - accuracy: 0.7345 - val_loss: 0.4566 - val_accuracy: 0.7922\n",
            "Epoch 71/100\n",
            "20/20 [==============================] - 0s 5ms/step - loss: 0.5127 - accuracy: 0.7410 - val_loss: 0.4567 - val_accuracy: 0.7922\n",
            "Epoch 72/100\n",
            "20/20 [==============================] - 0s 5ms/step - loss: 0.5189 - accuracy: 0.7362 - val_loss: 0.4560 - val_accuracy: 0.7922\n",
            "Epoch 73/100\n",
            "20/20 [==============================] - 0s 5ms/step - loss: 0.5211 - accuracy: 0.7313 - val_loss: 0.4557 - val_accuracy: 0.7922\n",
            "Epoch 74/100\n",
            "20/20 [==============================] - 0s 5ms/step - loss: 0.5126 - accuracy: 0.7443 - val_loss: 0.4557 - val_accuracy: 0.7922\n",
            "Epoch 75/100\n",
            "20/20 [==============================] - 0s 6ms/step - loss: 0.4952 - accuracy: 0.7655 - val_loss: 0.4552 - val_accuracy: 0.7922\n",
            "Epoch 76/100\n",
            "20/20 [==============================] - 0s 5ms/step - loss: 0.5196 - accuracy: 0.7134 - val_loss: 0.4547 - val_accuracy: 0.7857\n",
            "Epoch 77/100\n",
            "20/20 [==============================] - 0s 5ms/step - loss: 0.4964 - accuracy: 0.7329 - val_loss: 0.4544 - val_accuracy: 0.7857\n",
            "Epoch 78/100\n",
            "20/20 [==============================] - 0s 5ms/step - loss: 0.4910 - accuracy: 0.7541 - val_loss: 0.4540 - val_accuracy: 0.7857\n",
            "Epoch 79/100\n",
            "20/20 [==============================] - 0s 6ms/step - loss: 0.4992 - accuracy: 0.7427 - val_loss: 0.4543 - val_accuracy: 0.7857\n",
            "Epoch 80/100\n",
            "20/20 [==============================] - 0s 5ms/step - loss: 0.4954 - accuracy: 0.7476 - val_loss: 0.4544 - val_accuracy: 0.7857\n",
            "Epoch 81/100\n",
            "20/20 [==============================] - 0s 5ms/step - loss: 0.5065 - accuracy: 0.7215 - val_loss: 0.4542 - val_accuracy: 0.7857\n",
            "Epoch 82/100\n",
            "20/20 [==============================] - 0s 5ms/step - loss: 0.5126 - accuracy: 0.7280 - val_loss: 0.4544 - val_accuracy: 0.7857\n",
            "Epoch 83/100\n",
            "20/20 [==============================] - 0s 6ms/step - loss: 0.4749 - accuracy: 0.7524 - val_loss: 0.4539 - val_accuracy: 0.7857\n",
            "Epoch 84/100\n",
            "20/20 [==============================] - 0s 6ms/step - loss: 0.5076 - accuracy: 0.7378 - val_loss: 0.4537 - val_accuracy: 0.7857\n",
            "Epoch 85/100\n",
            "20/20 [==============================] - 0s 5ms/step - loss: 0.4901 - accuracy: 0.7378 - val_loss: 0.4532 - val_accuracy: 0.7857\n",
            "Epoch 86/100\n",
            "20/20 [==============================] - 0s 5ms/step - loss: 0.4903 - accuracy: 0.7541 - val_loss: 0.4529 - val_accuracy: 0.7857\n",
            "Epoch 87/100\n",
            "20/20 [==============================] - 0s 5ms/step - loss: 0.4972 - accuracy: 0.7443 - val_loss: 0.4530 - val_accuracy: 0.7857\n",
            "Epoch 88/100\n",
            "20/20 [==============================] - 0s 6ms/step - loss: 0.4952 - accuracy: 0.7541 - val_loss: 0.4530 - val_accuracy: 0.7857\n",
            "Epoch 89/100\n",
            "20/20 [==============================] - 0s 5ms/step - loss: 0.4741 - accuracy: 0.7427 - val_loss: 0.4524 - val_accuracy: 0.7857\n",
            "Epoch 90/100\n",
            "20/20 [==============================] - 0s 6ms/step - loss: 0.4942 - accuracy: 0.7443 - val_loss: 0.4522 - val_accuracy: 0.7857\n",
            "Epoch 91/100\n",
            "20/20 [==============================] - 0s 6ms/step - loss: 0.4801 - accuracy: 0.7492 - val_loss: 0.4524 - val_accuracy: 0.7857\n",
            "Epoch 92/100\n",
            "20/20 [==============================] - 0s 5ms/step - loss: 0.5079 - accuracy: 0.7541 - val_loss: 0.4523 - val_accuracy: 0.7857\n",
            "Epoch 93/100\n",
            "20/20 [==============================] - 0s 5ms/step - loss: 0.4845 - accuracy: 0.7524 - val_loss: 0.4524 - val_accuracy: 0.7792\n",
            "Epoch 94/100\n",
            "20/20 [==============================] - 0s 5ms/step - loss: 0.5032 - accuracy: 0.7248 - val_loss: 0.4525 - val_accuracy: 0.7792\n",
            "Epoch 95/100\n",
            "20/20 [==============================] - 0s 5ms/step - loss: 0.4984 - accuracy: 0.7378 - val_loss: 0.4525 - val_accuracy: 0.7792\n",
            "Epoch 96/100\n",
            "20/20 [==============================] - 0s 6ms/step - loss: 0.4866 - accuracy: 0.7378 - val_loss: 0.4526 - val_accuracy: 0.7792\n",
            "Epoch 97/100\n",
            "20/20 [==============================] - 0s 6ms/step - loss: 0.5012 - accuracy: 0.7134 - val_loss: 0.4525 - val_accuracy: 0.7792\n",
            "Epoch 98/100\n",
            "20/20 [==============================] - 0s 5ms/step - loss: 0.4934 - accuracy: 0.7280 - val_loss: 0.4528 - val_accuracy: 0.7792\n",
            "Epoch 99/100\n",
            "20/20 [==============================] - 0s 5ms/step - loss: 0.5015 - accuracy: 0.7524 - val_loss: 0.4529 - val_accuracy: 0.7792\n",
            "Epoch 100/100\n",
            "20/20 [==============================] - 0s 5ms/step - loss: 0.4850 - accuracy: 0.7362 - val_loss: 0.4531 - val_accuracy: 0.7662\n"
          ]
        },
        {
          "output_type": "execute_result",
          "data": {
            "text/plain": [
              "<keras.callbacks.History at 0x7fb8acb93130>"
            ]
          },
          "metadata": {},
          "execution_count": 37
        }
      ]
    },
    {
      "cell_type": "code",
      "source": [],
      "metadata": {
        "id": "tN5ahHMJzTDA"
      },
      "execution_count": null,
      "outputs": []
    },
    {
      "cell_type": "markdown",
      "source": [
        "# All HyperParameter Tunning"
      ],
      "metadata": {
        "id": "Iteo2YBrzT7v"
      }
    },
    {
      "cell_type": "code",
      "source": [
        "def build_model(hp):\n",
        "  model = Sequential()\n",
        "  counter = 0\n",
        "\n",
        "  for i in range(hp.Int('num_layers', min_value=1, max_value=10)):\n",
        "    if counter==0:\n",
        "      model.add(Dense(hp.Int('units'+str(i), min_value=6, max_value=128),\n",
        "                      activation = hp.Choice('activation' + str(i), values = ['relu','tanh','sigmoid','elu','leaky_relu',\n",
        "                                                                              'selu','linear']), input_dim=8))\n",
        "      model.add(Dropout(hp.Choice('dropout' +str(i), values=[0.1,0.2,0.3,0.4,0.5,0.6])))\n",
        "    else:\n",
        "      model.add(Dense(hp.Int('units'+str(i), min_value=6, max_value=128),\n",
        "                      activation = hp.Choice('activation' + str(i), values = ['relu','tanh','sigmoid','elu','leaky_relu',\n",
        "                                                                              'selu','linear'])))\n",
        "      model.add(Dropout(hp.Choice('dropout' +str(i), values=[0.1,0.2,0.3,0.4,0.5,0.6])))\n",
        "    counter +=1\n",
        "  model.add(Dense(1, activation='sigmoid'))\n",
        "  model.compile(optimizer = hp.Choice('optimizer', values=['rmsprop','adam','sgd','adadelta','adagrad','nadam']),\n",
        "                loss='binary_crossentropy', metrics=['accuracy'])\n",
        "  return model\n"
      ],
      "metadata": {
        "id": "cFkRavq5zTGR"
      },
      "execution_count": 42,
      "outputs": []
    },
    {
      "cell_type": "code",
      "source": [
        "# Best Optimizer \n",
        "tuner = kt.RandomSearch(build_model, objective='val_loss', max_trials=5, directory='my_directory',\n",
        "                        project_name='Final_Result')"
      ],
      "metadata": {
        "id": "GCIY57AxzTLt"
      },
      "execution_count": 43,
      "outputs": []
    },
    {
      "cell_type": "code",
      "source": [
        "tuner.search(x_train, y_train, epochs=5, validation_data=(x_test, y_test))"
      ],
      "metadata": {
        "colab": {
          "base_uri": "https://localhost:8080/"
        },
        "id": "a96oMtQTzTOZ",
        "outputId": "1449d44e-9502-44a4-9d8f-d691f4052bb1"
      },
      "execution_count": 44,
      "outputs": [
        {
          "output_type": "stream",
          "name": "stdout",
          "text": [
            "Trial 5 Complete [00h 00m 03s]\n",
            "val_loss: 0.46283969283103943\n",
            "\n",
            "Best val_loss So Far: 0.46283969283103943\n",
            "Total elapsed time: 00h 00m 19s\n"
          ]
        }
      ]
    },
    {
      "cell_type": "code",
      "source": [
        "tuner.get_best_hyperparameters()[0].values"
      ],
      "metadata": {
        "colab": {
          "base_uri": "https://localhost:8080/"
        },
        "id": "l18kk3hdzTRF",
        "outputId": "a0bc73dd-4610-4b4a-e731-05fd2edd72c4"
      },
      "execution_count": 45,
      "outputs": [
        {
          "output_type": "execute_result",
          "data": {
            "text/plain": [
              "{'num_layers': 1,\n",
              " 'units0': 116,\n",
              " 'activation0': 'leaky_relu',\n",
              " 'dropout0': 0.6,\n",
              " 'optimizer': 'rmsprop',\n",
              " 'units1': 21,\n",
              " 'activation1': 'elu',\n",
              " 'dropout1': 0.3,\n",
              " 'units2': 32,\n",
              " 'activation2': 'elu',\n",
              " 'dropout2': 0.6,\n",
              " 'units3': 47,\n",
              " 'activation3': 'leaky_relu',\n",
              " 'dropout3': 0.2,\n",
              " 'units4': 74,\n",
              " 'activation4': 'sigmoid',\n",
              " 'dropout4': 0.2,\n",
              " 'units5': 31,\n",
              " 'activation5': 'relu',\n",
              " 'dropout5': 0.1,\n",
              " 'units6': 96,\n",
              " 'activation6': 'elu',\n",
              " 'dropout6': 0.2,\n",
              " 'units7': 81,\n",
              " 'activation7': 'sigmoid',\n",
              " 'dropout7': 0.4,\n",
              " 'units8': 68,\n",
              " 'activation8': 'leaky_relu',\n",
              " 'dropout8': 0.2,\n",
              " 'units9': 77,\n",
              " 'activation9': 'linear',\n",
              " 'dropout9': 0.4}"
            ]
          },
          "metadata": {},
          "execution_count": 45
        }
      ]
    },
    {
      "cell_type": "code",
      "source": [
        "model = tuner.get_best_models(num_models=1)[0]"
      ],
      "metadata": {
        "colab": {
          "base_uri": "https://localhost:8080/"
        },
        "id": "aVa3CxbYzTTa",
        "outputId": "0b515872-e22f-4a72-fe8e-f3a82751d2aa"
      },
      "execution_count": 54,
      "outputs": [
        {
          "output_type": "stream",
          "name": "stderr",
          "text": [
            "WARNING:tensorflow:Detecting that an object or model or tf.train.Checkpoint is being deleted with unrestored values. See the following logs for the specific values in question. To silence these warnings, use `status.expect_partial()`. See https://www.tensorflow.org/api_docs/python/tf/train/Checkpoint#restorefor details about the status object returned by the restore function.\n",
            "WARNING:tensorflow:Value in checkpoint could not be found in the restored object: (root).optimizer._variables.1\n",
            "WARNING:tensorflow:Value in checkpoint could not be found in the restored object: (root).optimizer._variables.2\n",
            "WARNING:tensorflow:Value in checkpoint could not be found in the restored object: (root).optimizer._variables.3\n",
            "WARNING:tensorflow:Value in checkpoint could not be found in the restored object: (root).optimizer._variables.4\n"
          ]
        }
      ]
    },
    {
      "cell_type": "code",
      "source": [
        "model.summary()"
      ],
      "metadata": {
        "colab": {
          "base_uri": "https://localhost:8080/"
        },
        "id": "n195DVBk9N6T",
        "outputId": "e6b8a6b8-7aed-42c1-9c52-44690d02144d"
      },
      "execution_count": 60,
      "outputs": [
        {
          "output_type": "stream",
          "name": "stdout",
          "text": [
            "Model: \"sequential\"\n",
            "_________________________________________________________________\n",
            " Layer (type)                Output Shape              Param #   \n",
            "=================================================================\n",
            " dense (Dense)               (None, 116)               1044      \n",
            "                                                                 \n",
            " dropout (Dropout)           (None, 116)               0         \n",
            "                                                                 \n",
            " dense_1 (Dense)             (None, 1)                 117       \n",
            "                                                                 \n",
            "=================================================================\n",
            "Total params: 1,161\n",
            "Trainable params: 1,161\n",
            "Non-trainable params: 0\n",
            "_________________________________________________________________\n"
          ]
        }
      ]
    },
    {
      "cell_type": "code",
      "source": [
        "model.fit(x_train, y_train, validation_data=(x_test, y_test), epochs=100, initial_epoch=6)"
      ],
      "metadata": {
        "colab": {
          "base_uri": "https://localhost:8080/"
        },
        "id": "fmQ-krA85Ar_",
        "outputId": "d5969519-4fc2-40a6-dfe1-6617bb8f13d5"
      },
      "execution_count": 55,
      "outputs": [
        {
          "output_type": "stream",
          "name": "stdout",
          "text": [
            "Epoch 7/100\n",
            "20/20 [==============================] - 1s 18ms/step - loss: 0.4860 - accuracy: 0.7476 - val_loss: 0.4566 - val_accuracy: 0.7727\n",
            "Epoch 8/100\n",
            "20/20 [==============================] - 0s 8ms/step - loss: 0.4822 - accuracy: 0.7687 - val_loss: 0.4519 - val_accuracy: 0.7792\n",
            "Epoch 9/100\n",
            "20/20 [==============================] - 0s 7ms/step - loss: 0.4643 - accuracy: 0.7801 - val_loss: 0.4489 - val_accuracy: 0.7792\n",
            "Epoch 10/100\n",
            "20/20 [==============================] - 0s 7ms/step - loss: 0.4905 - accuracy: 0.7541 - val_loss: 0.4488 - val_accuracy: 0.7857\n",
            "Epoch 11/100\n",
            "20/20 [==============================] - 0s 7ms/step - loss: 0.4635 - accuracy: 0.7769 - val_loss: 0.4489 - val_accuracy: 0.7727\n",
            "Epoch 12/100\n",
            "20/20 [==============================] - 0s 7ms/step - loss: 0.4766 - accuracy: 0.7687 - val_loss: 0.4497 - val_accuracy: 0.7727\n",
            "Epoch 13/100\n",
            "20/20 [==============================] - 0s 5ms/step - loss: 0.4688 - accuracy: 0.7655 - val_loss: 0.4510 - val_accuracy: 0.7792\n",
            "Epoch 14/100\n",
            "20/20 [==============================] - 0s 5ms/step - loss: 0.4655 - accuracy: 0.7655 - val_loss: 0.4497 - val_accuracy: 0.7792\n",
            "Epoch 15/100\n",
            "20/20 [==============================] - 0s 5ms/step - loss: 0.4673 - accuracy: 0.7704 - val_loss: 0.4506 - val_accuracy: 0.7857\n",
            "Epoch 16/100\n",
            "20/20 [==============================] - 0s 6ms/step - loss: 0.4643 - accuracy: 0.7801 - val_loss: 0.4504 - val_accuracy: 0.7857\n",
            "Epoch 17/100\n",
            "20/20 [==============================] - 0s 5ms/step - loss: 0.4580 - accuracy: 0.7785 - val_loss: 0.4494 - val_accuracy: 0.7857\n",
            "Epoch 18/100\n",
            "20/20 [==============================] - 0s 5ms/step - loss: 0.4629 - accuracy: 0.7736 - val_loss: 0.4507 - val_accuracy: 0.7857\n",
            "Epoch 19/100\n",
            "20/20 [==============================] - 0s 6ms/step - loss: 0.4596 - accuracy: 0.7769 - val_loss: 0.4509 - val_accuracy: 0.7857\n",
            "Epoch 20/100\n",
            "20/20 [==============================] - 0s 5ms/step - loss: 0.4810 - accuracy: 0.7704 - val_loss: 0.4491 - val_accuracy: 0.7792\n",
            "Epoch 21/100\n",
            "20/20 [==============================] - 0s 5ms/step - loss: 0.4551 - accuracy: 0.7801 - val_loss: 0.4506 - val_accuracy: 0.7792\n",
            "Epoch 22/100\n",
            "20/20 [==============================] - 0s 5ms/step - loss: 0.4666 - accuracy: 0.7769 - val_loss: 0.4508 - val_accuracy: 0.7792\n",
            "Epoch 23/100\n",
            "20/20 [==============================] - 0s 5ms/step - loss: 0.4634 - accuracy: 0.7785 - val_loss: 0.4519 - val_accuracy: 0.7792\n",
            "Epoch 24/100\n",
            "20/20 [==============================] - 0s 5ms/step - loss: 0.4592 - accuracy: 0.7671 - val_loss: 0.4522 - val_accuracy: 0.7792\n",
            "Epoch 25/100\n",
            "20/20 [==============================] - 0s 6ms/step - loss: 0.4472 - accuracy: 0.7785 - val_loss: 0.4525 - val_accuracy: 0.7727\n",
            "Epoch 26/100\n",
            "20/20 [==============================] - 0s 5ms/step - loss: 0.4599 - accuracy: 0.7834 - val_loss: 0.4537 - val_accuracy: 0.7662\n",
            "Epoch 27/100\n",
            "20/20 [==============================] - 0s 5ms/step - loss: 0.4517 - accuracy: 0.7736 - val_loss: 0.4545 - val_accuracy: 0.7662\n",
            "Epoch 28/100\n",
            "20/20 [==============================] - 0s 5ms/step - loss: 0.4552 - accuracy: 0.7671 - val_loss: 0.4538 - val_accuracy: 0.7662\n",
            "Epoch 29/100\n",
            "20/20 [==============================] - 0s 5ms/step - loss: 0.4363 - accuracy: 0.7785 - val_loss: 0.4530 - val_accuracy: 0.7662\n",
            "Epoch 30/100\n",
            "20/20 [==============================] - 0s 5ms/step - loss: 0.4480 - accuracy: 0.7883 - val_loss: 0.4544 - val_accuracy: 0.7662\n",
            "Epoch 31/100\n",
            "20/20 [==============================] - 0s 5ms/step - loss: 0.4608 - accuracy: 0.7508 - val_loss: 0.4547 - val_accuracy: 0.7662\n",
            "Epoch 32/100\n",
            "20/20 [==============================] - 0s 5ms/step - loss: 0.4445 - accuracy: 0.7801 - val_loss: 0.4550 - val_accuracy: 0.7662\n",
            "Epoch 33/100\n",
            "20/20 [==============================] - 0s 5ms/step - loss: 0.4511 - accuracy: 0.7752 - val_loss: 0.4583 - val_accuracy: 0.7597\n",
            "Epoch 34/100\n",
            "20/20 [==============================] - 0s 6ms/step - loss: 0.4487 - accuracy: 0.7883 - val_loss: 0.4597 - val_accuracy: 0.7532\n",
            "Epoch 35/100\n",
            "20/20 [==============================] - 0s 5ms/step - loss: 0.4363 - accuracy: 0.7834 - val_loss: 0.4606 - val_accuracy: 0.7532\n",
            "Epoch 36/100\n",
            "20/20 [==============================] - 0s 5ms/step - loss: 0.4516 - accuracy: 0.7850 - val_loss: 0.4588 - val_accuracy: 0.7662\n",
            "Epoch 37/100\n",
            "20/20 [==============================] - 0s 5ms/step - loss: 0.4429 - accuracy: 0.7769 - val_loss: 0.4601 - val_accuracy: 0.7532\n",
            "Epoch 38/100\n",
            "20/20 [==============================] - 0s 5ms/step - loss: 0.4595 - accuracy: 0.7932 - val_loss: 0.4604 - val_accuracy: 0.7597\n",
            "Epoch 39/100\n",
            "20/20 [==============================] - 0s 5ms/step - loss: 0.4446 - accuracy: 0.7769 - val_loss: 0.4614 - val_accuracy: 0.7597\n",
            "Epoch 40/100\n",
            "20/20 [==============================] - 0s 5ms/step - loss: 0.4418 - accuracy: 0.7801 - val_loss: 0.4623 - val_accuracy: 0.7662\n",
            "Epoch 41/100\n",
            "20/20 [==============================] - 0s 5ms/step - loss: 0.4387 - accuracy: 0.7834 - val_loss: 0.4610 - val_accuracy: 0.7662\n",
            "Epoch 42/100\n",
            "20/20 [==============================] - 0s 6ms/step - loss: 0.4394 - accuracy: 0.7915 - val_loss: 0.4616 - val_accuracy: 0.7727\n",
            "Epoch 43/100\n",
            "20/20 [==============================] - 0s 5ms/step - loss: 0.4447 - accuracy: 0.7915 - val_loss: 0.4622 - val_accuracy: 0.7727\n",
            "Epoch 44/100\n",
            "20/20 [==============================] - 0s 6ms/step - loss: 0.4376 - accuracy: 0.7932 - val_loss: 0.4621 - val_accuracy: 0.7662\n",
            "Epoch 45/100\n",
            "20/20 [==============================] - 0s 5ms/step - loss: 0.4357 - accuracy: 0.7980 - val_loss: 0.4612 - val_accuracy: 0.7727\n",
            "Epoch 46/100\n",
            "20/20 [==============================] - 0s 5ms/step - loss: 0.4481 - accuracy: 0.7818 - val_loss: 0.4636 - val_accuracy: 0.7662\n",
            "Epoch 47/100\n",
            "20/20 [==============================] - 0s 5ms/step - loss: 0.4366 - accuracy: 0.7704 - val_loss: 0.4648 - val_accuracy: 0.7662\n",
            "Epoch 48/100\n",
            "20/20 [==============================] - 0s 5ms/step - loss: 0.4582 - accuracy: 0.7899 - val_loss: 0.4648 - val_accuracy: 0.7662\n",
            "Epoch 49/100\n",
            "20/20 [==============================] - 0s 5ms/step - loss: 0.4431 - accuracy: 0.7980 - val_loss: 0.4642 - val_accuracy: 0.7662\n",
            "Epoch 50/100\n",
            "20/20 [==============================] - 0s 5ms/step - loss: 0.4438 - accuracy: 0.7769 - val_loss: 0.4643 - val_accuracy: 0.7662\n",
            "Epoch 51/100\n",
            "20/20 [==============================] - 0s 5ms/step - loss: 0.4624 - accuracy: 0.7736 - val_loss: 0.4652 - val_accuracy: 0.7662\n",
            "Epoch 52/100\n",
            "20/20 [==============================] - 0s 5ms/step - loss: 0.4408 - accuracy: 0.7866 - val_loss: 0.4650 - val_accuracy: 0.7597\n",
            "Epoch 53/100\n",
            "20/20 [==============================] - 0s 5ms/step - loss: 0.4378 - accuracy: 0.7850 - val_loss: 0.4647 - val_accuracy: 0.7597\n",
            "Epoch 54/100\n",
            "20/20 [==============================] - 0s 5ms/step - loss: 0.4518 - accuracy: 0.7769 - val_loss: 0.4643 - val_accuracy: 0.7662\n",
            "Epoch 55/100\n",
            "20/20 [==============================] - 0s 5ms/step - loss: 0.4329 - accuracy: 0.7915 - val_loss: 0.4643 - val_accuracy: 0.7597\n",
            "Epoch 56/100\n",
            "20/20 [==============================] - 0s 5ms/step - loss: 0.4479 - accuracy: 0.7932 - val_loss: 0.4654 - val_accuracy: 0.7662\n",
            "Epoch 57/100\n",
            "20/20 [==============================] - 0s 6ms/step - loss: 0.4296 - accuracy: 0.7915 - val_loss: 0.4652 - val_accuracy: 0.7662\n",
            "Epoch 58/100\n",
            "20/20 [==============================] - 0s 5ms/step - loss: 0.4433 - accuracy: 0.7866 - val_loss: 0.4640 - val_accuracy: 0.7532\n",
            "Epoch 59/100\n",
            "20/20 [==============================] - 0s 5ms/step - loss: 0.4358 - accuracy: 0.7850 - val_loss: 0.4656 - val_accuracy: 0.7597\n",
            "Epoch 60/100\n",
            "20/20 [==============================] - 0s 6ms/step - loss: 0.4398 - accuracy: 0.7948 - val_loss: 0.4656 - val_accuracy: 0.7662\n",
            "Epoch 61/100\n",
            "20/20 [==============================] - 0s 5ms/step - loss: 0.4428 - accuracy: 0.7932 - val_loss: 0.4661 - val_accuracy: 0.7662\n",
            "Epoch 62/100\n",
            "20/20 [==============================] - 0s 5ms/step - loss: 0.4305 - accuracy: 0.8046 - val_loss: 0.4642 - val_accuracy: 0.7662\n",
            "Epoch 63/100\n",
            "20/20 [==============================] - 0s 5ms/step - loss: 0.4296 - accuracy: 0.7932 - val_loss: 0.4651 - val_accuracy: 0.7532\n",
            "Epoch 64/100\n",
            "20/20 [==============================] - 0s 5ms/step - loss: 0.4389 - accuracy: 0.7818 - val_loss: 0.4663 - val_accuracy: 0.7532\n",
            "Epoch 65/100\n",
            "20/20 [==============================] - 0s 6ms/step - loss: 0.4364 - accuracy: 0.7850 - val_loss: 0.4674 - val_accuracy: 0.7662\n",
            "Epoch 66/100\n",
            "20/20 [==============================] - 0s 5ms/step - loss: 0.4330 - accuracy: 0.7818 - val_loss: 0.4688 - val_accuracy: 0.7662\n",
            "Epoch 67/100\n",
            "20/20 [==============================] - 0s 5ms/step - loss: 0.4394 - accuracy: 0.7866 - val_loss: 0.4685 - val_accuracy: 0.7662\n",
            "Epoch 68/100\n",
            "20/20 [==============================] - 0s 5ms/step - loss: 0.4461 - accuracy: 0.7850 - val_loss: 0.4678 - val_accuracy: 0.7662\n",
            "Epoch 69/100\n",
            "20/20 [==============================] - 0s 5ms/step - loss: 0.4488 - accuracy: 0.7704 - val_loss: 0.4668 - val_accuracy: 0.7597\n",
            "Epoch 70/100\n",
            "20/20 [==============================] - 0s 5ms/step - loss: 0.4306 - accuracy: 0.7964 - val_loss: 0.4667 - val_accuracy: 0.7597\n",
            "Epoch 71/100\n",
            "20/20 [==============================] - 0s 5ms/step - loss: 0.4358 - accuracy: 0.7899 - val_loss: 0.4668 - val_accuracy: 0.7597\n",
            "Epoch 72/100\n",
            "20/20 [==============================] - 0s 5ms/step - loss: 0.4352 - accuracy: 0.7915 - val_loss: 0.4688 - val_accuracy: 0.7597\n",
            "Epoch 73/100\n",
            "20/20 [==============================] - 0s 5ms/step - loss: 0.4359 - accuracy: 0.7850 - val_loss: 0.4672 - val_accuracy: 0.7597\n",
            "Epoch 74/100\n",
            "20/20 [==============================] - 0s 5ms/step - loss: 0.4273 - accuracy: 0.7948 - val_loss: 0.4662 - val_accuracy: 0.7597\n",
            "Epoch 75/100\n",
            "20/20 [==============================] - 0s 5ms/step - loss: 0.4384 - accuracy: 0.7850 - val_loss: 0.4653 - val_accuracy: 0.7597\n",
            "Epoch 76/100\n",
            "20/20 [==============================] - 0s 5ms/step - loss: 0.4396 - accuracy: 0.7997 - val_loss: 0.4646 - val_accuracy: 0.7532\n",
            "Epoch 77/100\n",
            "20/20 [==============================] - 0s 5ms/step - loss: 0.4318 - accuracy: 0.7818 - val_loss: 0.4670 - val_accuracy: 0.7532\n",
            "Epoch 78/100\n",
            "20/20 [==============================] - 0s 5ms/step - loss: 0.4291 - accuracy: 0.7948 - val_loss: 0.4675 - val_accuracy: 0.7532\n",
            "Epoch 79/100\n",
            "20/20 [==============================] - 0s 5ms/step - loss: 0.4428 - accuracy: 0.7752 - val_loss: 0.4669 - val_accuracy: 0.7532\n",
            "Epoch 80/100\n",
            "20/20 [==============================] - 0s 5ms/step - loss: 0.4327 - accuracy: 0.7915 - val_loss: 0.4681 - val_accuracy: 0.7532\n",
            "Epoch 81/100\n",
            "20/20 [==============================] - 0s 5ms/step - loss: 0.4274 - accuracy: 0.7883 - val_loss: 0.4666 - val_accuracy: 0.7532\n",
            "Epoch 82/100\n",
            "20/20 [==============================] - 0s 5ms/step - loss: 0.4338 - accuracy: 0.7866 - val_loss: 0.4670 - val_accuracy: 0.7532\n",
            "Epoch 83/100\n",
            "20/20 [==============================] - 0s 6ms/step - loss: 0.4199 - accuracy: 0.7915 - val_loss: 0.4673 - val_accuracy: 0.7597\n",
            "Epoch 84/100\n",
            "20/20 [==============================] - 0s 5ms/step - loss: 0.4321 - accuracy: 0.7915 - val_loss: 0.4681 - val_accuracy: 0.7597\n",
            "Epoch 85/100\n",
            "20/20 [==============================] - 0s 5ms/step - loss: 0.4411 - accuracy: 0.7948 - val_loss: 0.4686 - val_accuracy: 0.7532\n",
            "Epoch 86/100\n",
            "20/20 [==============================] - 0s 5ms/step - loss: 0.4421 - accuracy: 0.7980 - val_loss: 0.4693 - val_accuracy: 0.7532\n",
            "Epoch 87/100\n",
            "20/20 [==============================] - 0s 5ms/step - loss: 0.4330 - accuracy: 0.7866 - val_loss: 0.4692 - val_accuracy: 0.7532\n",
            "Epoch 88/100\n",
            "20/20 [==============================] - 0s 5ms/step - loss: 0.4242 - accuracy: 0.7883 - val_loss: 0.4688 - val_accuracy: 0.7532\n",
            "Epoch 89/100\n",
            "20/20 [==============================] - 0s 6ms/step - loss: 0.4218 - accuracy: 0.7883 - val_loss: 0.4701 - val_accuracy: 0.7532\n",
            "Epoch 90/100\n",
            "20/20 [==============================] - 0s 5ms/step - loss: 0.4393 - accuracy: 0.7801 - val_loss: 0.4711 - val_accuracy: 0.7532\n",
            "Epoch 91/100\n",
            "20/20 [==============================] - 0s 5ms/step - loss: 0.4333 - accuracy: 0.7850 - val_loss: 0.4689 - val_accuracy: 0.7597\n",
            "Epoch 92/100\n",
            "20/20 [==============================] - 0s 5ms/step - loss: 0.4255 - accuracy: 0.7915 - val_loss: 0.4695 - val_accuracy: 0.7597\n",
            "Epoch 93/100\n",
            "20/20 [==============================] - 0s 5ms/step - loss: 0.4407 - accuracy: 0.7736 - val_loss: 0.4703 - val_accuracy: 0.7597\n",
            "Epoch 94/100\n",
            "20/20 [==============================] - 0s 5ms/step - loss: 0.4304 - accuracy: 0.7834 - val_loss: 0.4698 - val_accuracy: 0.7597\n",
            "Epoch 95/100\n",
            "20/20 [==============================] - 0s 5ms/step - loss: 0.4283 - accuracy: 0.7883 - val_loss: 0.4712 - val_accuracy: 0.7597\n",
            "Epoch 96/100\n",
            "20/20 [==============================] - 0s 5ms/step - loss: 0.4303 - accuracy: 0.7980 - val_loss: 0.4710 - val_accuracy: 0.7597\n",
            "Epoch 97/100\n",
            "20/20 [==============================] - 0s 5ms/step - loss: 0.4375 - accuracy: 0.7785 - val_loss: 0.4712 - val_accuracy: 0.7532\n",
            "Epoch 98/100\n",
            "20/20 [==============================] - 0s 5ms/step - loss: 0.4343 - accuracy: 0.7883 - val_loss: 0.4730 - val_accuracy: 0.7532\n",
            "Epoch 99/100\n",
            "20/20 [==============================] - 0s 6ms/step - loss: 0.4263 - accuracy: 0.7866 - val_loss: 0.4713 - val_accuracy: 0.7597\n",
            "Epoch 100/100\n",
            "20/20 [==============================] - 0s 6ms/step - loss: 0.4314 - accuracy: 0.7964 - val_loss: 0.4730 - val_accuracy: 0.7532\n"
          ]
        },
        {
          "output_type": "execute_result",
          "data": {
            "text/plain": [
              "<keras.callbacks.History at 0x7fb8acbbddf0>"
            ]
          },
          "metadata": {},
          "execution_count": 55
        }
      ]
    },
    {
      "cell_type": "code",
      "source": [
        "# manual approach\n",
        "\n",
        "model1 = Sequential()\n",
        "model1.add(Dense(116, activation='leaky_relu', input_dim=8))\n",
        "model1.add(Dropout(0.6))\n",
        "model1.add(Dense(21, activation='elu'))\n",
        "model1.add(Dropout(0.3))\n",
        "model1.add(Dense(1, activation='sigmoid'))\n",
        "model1.compile(optimizer='rmsprop', loss='binary_crossentropy', metrics=['accuracy'])\n"
      ],
      "metadata": {
        "id": "UYzmT4rqzTV1"
      },
      "execution_count": 58,
      "outputs": []
    },
    {
      "cell_type": "code",
      "source": [
        "model1.fit(x_train, y_train, validation_data=(x_test, y_test), epochs=100)"
      ],
      "metadata": {
        "colab": {
          "base_uri": "https://localhost:8080/"
        },
        "id": "gyv-zqFo8Lxd",
        "outputId": "4d7c5f80-3422-49db-d1ea-946ec009da78"
      },
      "execution_count": 59,
      "outputs": [
        {
          "output_type": "stream",
          "name": "stdout",
          "text": [
            "Epoch 1/100\n",
            "20/20 [==============================] - 1s 13ms/step - loss: 0.6161 - accuracy: 0.6726 - val_loss: 0.5050 - val_accuracy: 0.7662\n",
            "Epoch 2/100\n",
            "20/20 [==============================] - 0s 5ms/step - loss: 0.5586 - accuracy: 0.7182 - val_loss: 0.4711 - val_accuracy: 0.7792\n",
            "Epoch 3/100\n",
            "20/20 [==============================] - 0s 5ms/step - loss: 0.5227 - accuracy: 0.7329 - val_loss: 0.4576 - val_accuracy: 0.7792\n",
            "Epoch 4/100\n",
            "20/20 [==============================] - 0s 5ms/step - loss: 0.5200 - accuracy: 0.7296 - val_loss: 0.4557 - val_accuracy: 0.7727\n",
            "Epoch 5/100\n",
            "20/20 [==============================] - 0s 6ms/step - loss: 0.5026 - accuracy: 0.7508 - val_loss: 0.4533 - val_accuracy: 0.7922\n",
            "Epoch 6/100\n",
            "20/20 [==============================] - 0s 5ms/step - loss: 0.4895 - accuracy: 0.7622 - val_loss: 0.4521 - val_accuracy: 0.7792\n",
            "Epoch 7/100\n",
            "20/20 [==============================] - 0s 5ms/step - loss: 0.4859 - accuracy: 0.7492 - val_loss: 0.4549 - val_accuracy: 0.7792\n",
            "Epoch 8/100\n",
            "20/20 [==============================] - 0s 5ms/step - loss: 0.4768 - accuracy: 0.7541 - val_loss: 0.4545 - val_accuracy: 0.7727\n",
            "Epoch 9/100\n",
            "20/20 [==============================] - 0s 5ms/step - loss: 0.4828 - accuracy: 0.7671 - val_loss: 0.4540 - val_accuracy: 0.7662\n",
            "Epoch 10/100\n",
            "20/20 [==============================] - 0s 5ms/step - loss: 0.4985 - accuracy: 0.7606 - val_loss: 0.4530 - val_accuracy: 0.7662\n",
            "Epoch 11/100\n",
            "20/20 [==============================] - 0s 6ms/step - loss: 0.4698 - accuracy: 0.7687 - val_loss: 0.4586 - val_accuracy: 0.7727\n",
            "Epoch 12/100\n",
            "20/20 [==============================] - 0s 5ms/step - loss: 0.4834 - accuracy: 0.7427 - val_loss: 0.4575 - val_accuracy: 0.7597\n",
            "Epoch 13/100\n",
            "20/20 [==============================] - 0s 6ms/step - loss: 0.4648 - accuracy: 0.7769 - val_loss: 0.4565 - val_accuracy: 0.7662\n",
            "Epoch 14/100\n",
            "20/20 [==============================] - 0s 6ms/step - loss: 0.4768 - accuracy: 0.7638 - val_loss: 0.4553 - val_accuracy: 0.7597\n",
            "Epoch 15/100\n",
            "20/20 [==============================] - 0s 6ms/step - loss: 0.4666 - accuracy: 0.7801 - val_loss: 0.4551 - val_accuracy: 0.7727\n",
            "Epoch 16/100\n",
            "20/20 [==============================] - 0s 5ms/step - loss: 0.4786 - accuracy: 0.7704 - val_loss: 0.4567 - val_accuracy: 0.7597\n",
            "Epoch 17/100\n",
            "20/20 [==============================] - 0s 5ms/step - loss: 0.4620 - accuracy: 0.7964 - val_loss: 0.4547 - val_accuracy: 0.7662\n",
            "Epoch 18/100\n",
            "20/20 [==============================] - 0s 6ms/step - loss: 0.4789 - accuracy: 0.7622 - val_loss: 0.4546 - val_accuracy: 0.7662\n",
            "Epoch 19/100\n",
            "20/20 [==============================] - 0s 5ms/step - loss: 0.4696 - accuracy: 0.7834 - val_loss: 0.4564 - val_accuracy: 0.7727\n",
            "Epoch 20/100\n",
            "20/20 [==============================] - 0s 6ms/step - loss: 0.4659 - accuracy: 0.7573 - val_loss: 0.4562 - val_accuracy: 0.7727\n",
            "Epoch 21/100\n",
            "20/20 [==============================] - 0s 6ms/step - loss: 0.4703 - accuracy: 0.7687 - val_loss: 0.4586 - val_accuracy: 0.7662\n",
            "Epoch 22/100\n",
            "20/20 [==============================] - 0s 5ms/step - loss: 0.4563 - accuracy: 0.7866 - val_loss: 0.4576 - val_accuracy: 0.7662\n",
            "Epoch 23/100\n",
            "20/20 [==============================] - 0s 5ms/step - loss: 0.4545 - accuracy: 0.7850 - val_loss: 0.4562 - val_accuracy: 0.7597\n",
            "Epoch 24/100\n",
            "20/20 [==============================] - 0s 5ms/step - loss: 0.4699 - accuracy: 0.7671 - val_loss: 0.4584 - val_accuracy: 0.7532\n",
            "Epoch 25/100\n",
            "20/20 [==============================] - 0s 5ms/step - loss: 0.4725 - accuracy: 0.7590 - val_loss: 0.4597 - val_accuracy: 0.7532\n",
            "Epoch 26/100\n",
            "20/20 [==============================] - 0s 5ms/step - loss: 0.4450 - accuracy: 0.8013 - val_loss: 0.4572 - val_accuracy: 0.7662\n",
            "Epoch 27/100\n",
            "20/20 [==============================] - 0s 6ms/step - loss: 0.4566 - accuracy: 0.7785 - val_loss: 0.4587 - val_accuracy: 0.7662\n",
            "Epoch 28/100\n",
            "20/20 [==============================] - 0s 6ms/step - loss: 0.4525 - accuracy: 0.7801 - val_loss: 0.4587 - val_accuracy: 0.7597\n",
            "Epoch 29/100\n",
            "20/20 [==============================] - 0s 6ms/step - loss: 0.4524 - accuracy: 0.7590 - val_loss: 0.4573 - val_accuracy: 0.7597\n",
            "Epoch 30/100\n",
            "20/20 [==============================] - 0s 6ms/step - loss: 0.4712 - accuracy: 0.7687 - val_loss: 0.4596 - val_accuracy: 0.7597\n",
            "Epoch 31/100\n",
            "20/20 [==============================] - 0s 5ms/step - loss: 0.4692 - accuracy: 0.7736 - val_loss: 0.4580 - val_accuracy: 0.7662\n",
            "Epoch 32/100\n",
            "20/20 [==============================] - 0s 6ms/step - loss: 0.4542 - accuracy: 0.7818 - val_loss: 0.4577 - val_accuracy: 0.7597\n",
            "Epoch 33/100\n",
            "20/20 [==============================] - 0s 5ms/step - loss: 0.4588 - accuracy: 0.7818 - val_loss: 0.4603 - val_accuracy: 0.7532\n",
            "Epoch 34/100\n",
            "20/20 [==============================] - 0s 5ms/step - loss: 0.4544 - accuracy: 0.7834 - val_loss: 0.4624 - val_accuracy: 0.7532\n",
            "Epoch 35/100\n",
            "20/20 [==============================] - 0s 5ms/step - loss: 0.4626 - accuracy: 0.7752 - val_loss: 0.4613 - val_accuracy: 0.7468\n",
            "Epoch 36/100\n",
            "20/20 [==============================] - 0s 5ms/step - loss: 0.4465 - accuracy: 0.7915 - val_loss: 0.4621 - val_accuracy: 0.7532\n",
            "Epoch 37/100\n",
            "20/20 [==============================] - 0s 5ms/step - loss: 0.4343 - accuracy: 0.7866 - val_loss: 0.4629 - val_accuracy: 0.7532\n",
            "Epoch 38/100\n",
            "20/20 [==============================] - 0s 6ms/step - loss: 0.4309 - accuracy: 0.7997 - val_loss: 0.4635 - val_accuracy: 0.7597\n",
            "Epoch 39/100\n",
            "20/20 [==============================] - 0s 5ms/step - loss: 0.4395 - accuracy: 0.7899 - val_loss: 0.4656 - val_accuracy: 0.7597\n",
            "Epoch 40/100\n",
            "20/20 [==============================] - 0s 5ms/step - loss: 0.4597 - accuracy: 0.7752 - val_loss: 0.4643 - val_accuracy: 0.7597\n",
            "Epoch 41/100\n",
            "20/20 [==============================] - 0s 6ms/step - loss: 0.4484 - accuracy: 0.7769 - val_loss: 0.4630 - val_accuracy: 0.7532\n",
            "Epoch 42/100\n",
            "20/20 [==============================] - 0s 5ms/step - loss: 0.4755 - accuracy: 0.7557 - val_loss: 0.4617 - val_accuracy: 0.7532\n",
            "Epoch 43/100\n",
            "20/20 [==============================] - 0s 5ms/step - loss: 0.4538 - accuracy: 0.7704 - val_loss: 0.4615 - val_accuracy: 0.7532\n",
            "Epoch 44/100\n",
            "20/20 [==============================] - 0s 5ms/step - loss: 0.4382 - accuracy: 0.7801 - val_loss: 0.4640 - val_accuracy: 0.7532\n",
            "Epoch 45/100\n",
            "20/20 [==============================] - 0s 6ms/step - loss: 0.4489 - accuracy: 0.7866 - val_loss: 0.4624 - val_accuracy: 0.7532\n",
            "Epoch 46/100\n",
            "20/20 [==============================] - 0s 8ms/step - loss: 0.4389 - accuracy: 0.7932 - val_loss: 0.4618 - val_accuracy: 0.7597\n",
            "Epoch 47/100\n",
            "20/20 [==============================] - 0s 8ms/step - loss: 0.4423 - accuracy: 0.7915 - val_loss: 0.4637 - val_accuracy: 0.7597\n",
            "Epoch 48/100\n",
            "20/20 [==============================] - 0s 8ms/step - loss: 0.4471 - accuracy: 0.7736 - val_loss: 0.4634 - val_accuracy: 0.7597\n",
            "Epoch 49/100\n",
            "20/20 [==============================] - 0s 7ms/step - loss: 0.4551 - accuracy: 0.7850 - val_loss: 0.4641 - val_accuracy: 0.7532\n",
            "Epoch 50/100\n",
            "20/20 [==============================] - 0s 8ms/step - loss: 0.4464 - accuracy: 0.7736 - val_loss: 0.4659 - val_accuracy: 0.7532\n",
            "Epoch 51/100\n",
            "20/20 [==============================] - 0s 8ms/step - loss: 0.4583 - accuracy: 0.7752 - val_loss: 0.4668 - val_accuracy: 0.7532\n",
            "Epoch 52/100\n",
            "20/20 [==============================] - 0s 7ms/step - loss: 0.4496 - accuracy: 0.7769 - val_loss: 0.4650 - val_accuracy: 0.7532\n",
            "Epoch 53/100\n",
            "20/20 [==============================] - 0s 8ms/step - loss: 0.4432 - accuracy: 0.7980 - val_loss: 0.4660 - val_accuracy: 0.7532\n",
            "Epoch 54/100\n",
            "20/20 [==============================] - 0s 7ms/step - loss: 0.4460 - accuracy: 0.7785 - val_loss: 0.4665 - val_accuracy: 0.7597\n",
            "Epoch 55/100\n",
            "20/20 [==============================] - 0s 8ms/step - loss: 0.4455 - accuracy: 0.7704 - val_loss: 0.4662 - val_accuracy: 0.7532\n",
            "Epoch 56/100\n",
            "20/20 [==============================] - 0s 7ms/step - loss: 0.4404 - accuracy: 0.8046 - val_loss: 0.4680 - val_accuracy: 0.7597\n",
            "Epoch 57/100\n",
            "20/20 [==============================] - 0s 7ms/step - loss: 0.4332 - accuracy: 0.7801 - val_loss: 0.4696 - val_accuracy: 0.7532\n",
            "Epoch 58/100\n",
            "20/20 [==============================] - 0s 8ms/step - loss: 0.4530 - accuracy: 0.7850 - val_loss: 0.4698 - val_accuracy: 0.7532\n",
            "Epoch 59/100\n",
            "20/20 [==============================] - 0s 9ms/step - loss: 0.4333 - accuracy: 0.7948 - val_loss: 0.4718 - val_accuracy: 0.7532\n",
            "Epoch 60/100\n",
            "20/20 [==============================] - 0s 8ms/step - loss: 0.4467 - accuracy: 0.7687 - val_loss: 0.4693 - val_accuracy: 0.7532\n",
            "Epoch 61/100\n",
            "20/20 [==============================] - 0s 7ms/step - loss: 0.4363 - accuracy: 0.7785 - val_loss: 0.4685 - val_accuracy: 0.7468\n",
            "Epoch 62/100\n",
            "20/20 [==============================] - 0s 5ms/step - loss: 0.4436 - accuracy: 0.7834 - val_loss: 0.4694 - val_accuracy: 0.7468\n",
            "Epoch 63/100\n",
            "20/20 [==============================] - 0s 5ms/step - loss: 0.4478 - accuracy: 0.7850 - val_loss: 0.4705 - val_accuracy: 0.7468\n",
            "Epoch 64/100\n",
            "20/20 [==============================] - 0s 5ms/step - loss: 0.4415 - accuracy: 0.7801 - val_loss: 0.4693 - val_accuracy: 0.7597\n",
            "Epoch 65/100\n",
            "20/20 [==============================] - 0s 6ms/step - loss: 0.4403 - accuracy: 0.7899 - val_loss: 0.4685 - val_accuracy: 0.7597\n",
            "Epoch 66/100\n",
            "20/20 [==============================] - 0s 6ms/step - loss: 0.4237 - accuracy: 0.7866 - val_loss: 0.4689 - val_accuracy: 0.7532\n",
            "Epoch 67/100\n",
            "20/20 [==============================] - 0s 5ms/step - loss: 0.4317 - accuracy: 0.8029 - val_loss: 0.4676 - val_accuracy: 0.7597\n",
            "Epoch 68/100\n",
            "20/20 [==============================] - 0s 5ms/step - loss: 0.4477 - accuracy: 0.7899 - val_loss: 0.4653 - val_accuracy: 0.7468\n",
            "Epoch 69/100\n",
            "20/20 [==============================] - 0s 6ms/step - loss: 0.4279 - accuracy: 0.7915 - val_loss: 0.4672 - val_accuracy: 0.7597\n",
            "Epoch 70/100\n",
            "20/20 [==============================] - 0s 5ms/step - loss: 0.4338 - accuracy: 0.7850 - val_loss: 0.4699 - val_accuracy: 0.7468\n",
            "Epoch 71/100\n",
            "20/20 [==============================] - 0s 5ms/step - loss: 0.4271 - accuracy: 0.7850 - val_loss: 0.4708 - val_accuracy: 0.7662\n",
            "Epoch 72/100\n",
            "20/20 [==============================] - 0s 5ms/step - loss: 0.4546 - accuracy: 0.7671 - val_loss: 0.4678 - val_accuracy: 0.7597\n",
            "Epoch 73/100\n",
            "20/20 [==============================] - 0s 5ms/step - loss: 0.4300 - accuracy: 0.8046 - val_loss: 0.4694 - val_accuracy: 0.7532\n",
            "Epoch 74/100\n",
            "20/20 [==============================] - 0s 5ms/step - loss: 0.4257 - accuracy: 0.7997 - val_loss: 0.4715 - val_accuracy: 0.7662\n",
            "Epoch 75/100\n",
            "20/20 [==============================] - 0s 5ms/step - loss: 0.4426 - accuracy: 0.7720 - val_loss: 0.4708 - val_accuracy: 0.7532\n",
            "Epoch 76/100\n",
            "20/20 [==============================] - 0s 5ms/step - loss: 0.4430 - accuracy: 0.7720 - val_loss: 0.4685 - val_accuracy: 0.7468\n",
            "Epoch 77/100\n",
            "20/20 [==============================] - 0s 5ms/step - loss: 0.4402 - accuracy: 0.7866 - val_loss: 0.4688 - val_accuracy: 0.7468\n",
            "Epoch 78/100\n",
            "20/20 [==============================] - 0s 6ms/step - loss: 0.4489 - accuracy: 0.7818 - val_loss: 0.4722 - val_accuracy: 0.7468\n",
            "Epoch 79/100\n",
            "20/20 [==============================] - 0s 6ms/step - loss: 0.4187 - accuracy: 0.7915 - val_loss: 0.4720 - val_accuracy: 0.7403\n",
            "Epoch 80/100\n",
            "20/20 [==============================] - 0s 5ms/step - loss: 0.4373 - accuracy: 0.7883 - val_loss: 0.4724 - val_accuracy: 0.7468\n",
            "Epoch 81/100\n",
            "20/20 [==============================] - 0s 5ms/step - loss: 0.4392 - accuracy: 0.7932 - val_loss: 0.4707 - val_accuracy: 0.7532\n",
            "Epoch 82/100\n",
            "20/20 [==============================] - 0s 5ms/step - loss: 0.4164 - accuracy: 0.8013 - val_loss: 0.4715 - val_accuracy: 0.7468\n",
            "Epoch 83/100\n",
            "20/20 [==============================] - 0s 6ms/step - loss: 0.4331 - accuracy: 0.7948 - val_loss: 0.4738 - val_accuracy: 0.7403\n",
            "Epoch 84/100\n",
            "20/20 [==============================] - 0s 5ms/step - loss: 0.4289 - accuracy: 0.7932 - val_loss: 0.4707 - val_accuracy: 0.7532\n",
            "Epoch 85/100\n",
            "20/20 [==============================] - 0s 6ms/step - loss: 0.4380 - accuracy: 0.7866 - val_loss: 0.4700 - val_accuracy: 0.7468\n",
            "Epoch 86/100\n",
            "20/20 [==============================] - 0s 5ms/step - loss: 0.4523 - accuracy: 0.7801 - val_loss: 0.4714 - val_accuracy: 0.7468\n",
            "Epoch 87/100\n",
            "20/20 [==============================] - 0s 6ms/step - loss: 0.4324 - accuracy: 0.7932 - val_loss: 0.4728 - val_accuracy: 0.7273\n",
            "Epoch 88/100\n",
            "20/20 [==============================] - 0s 8ms/step - loss: 0.4292 - accuracy: 0.7801 - val_loss: 0.4727 - val_accuracy: 0.7273\n",
            "Epoch 89/100\n",
            "20/20 [==============================] - 0s 6ms/step - loss: 0.4224 - accuracy: 0.7932 - val_loss: 0.4715 - val_accuracy: 0.7338\n",
            "Epoch 90/100\n",
            "20/20 [==============================] - 0s 5ms/step - loss: 0.4412 - accuracy: 0.7980 - val_loss: 0.4716 - val_accuracy: 0.7273\n",
            "Epoch 91/100\n",
            "20/20 [==============================] - 0s 5ms/step - loss: 0.4273 - accuracy: 0.8062 - val_loss: 0.4721 - val_accuracy: 0.7403\n",
            "Epoch 92/100\n",
            "20/20 [==============================] - 0s 6ms/step - loss: 0.4161 - accuracy: 0.8078 - val_loss: 0.4727 - val_accuracy: 0.7532\n",
            "Epoch 93/100\n",
            "20/20 [==============================] - 0s 5ms/step - loss: 0.4203 - accuracy: 0.8013 - val_loss: 0.4737 - val_accuracy: 0.7597\n",
            "Epoch 94/100\n",
            "20/20 [==============================] - 0s 6ms/step - loss: 0.4365 - accuracy: 0.7818 - val_loss: 0.4765 - val_accuracy: 0.7468\n",
            "Epoch 95/100\n",
            "20/20 [==============================] - 0s 6ms/step - loss: 0.4328 - accuracy: 0.8160 - val_loss: 0.4760 - val_accuracy: 0.7468\n",
            "Epoch 96/100\n",
            "20/20 [==============================] - 0s 6ms/step - loss: 0.4318 - accuracy: 0.7850 - val_loss: 0.4765 - val_accuracy: 0.7468\n",
            "Epoch 97/100\n",
            "20/20 [==============================] - 0s 6ms/step - loss: 0.4512 - accuracy: 0.7801 - val_loss: 0.4745 - val_accuracy: 0.7338\n",
            "Epoch 98/100\n",
            "20/20 [==============================] - 0s 5ms/step - loss: 0.4268 - accuracy: 0.7866 - val_loss: 0.4746 - val_accuracy: 0.7338\n",
            "Epoch 99/100\n",
            "20/20 [==============================] - 0s 6ms/step - loss: 0.4120 - accuracy: 0.8062 - val_loss: 0.4766 - val_accuracy: 0.7403\n",
            "Epoch 100/100\n",
            "20/20 [==============================] - 0s 5ms/step - loss: 0.4255 - accuracy: 0.7915 - val_loss: 0.4763 - val_accuracy: 0.7468\n"
          ]
        },
        {
          "output_type": "execute_result",
          "data": {
            "text/plain": [
              "<keras.callbacks.History at 0x7fb8ac872be0>"
            ]
          },
          "metadata": {},
          "execution_count": 59
        }
      ]
    }
  ]
}