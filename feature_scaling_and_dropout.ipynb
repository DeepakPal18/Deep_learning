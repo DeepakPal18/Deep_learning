{
 "cells": [
  {
   "cell_type": "code",
   "execution_count": 1,
   "metadata": {
    "id": "1U3T4vJIlB5P"
   },
   "outputs": [],
   "source": [
    "import numpy as np\n",
    "import pandas as pd\n",
    "import matplotlib.pyplot as plt\n",
    "%matplotlib inline\n",
    "import seaborn as sns\n",
    "import warnings\n",
    "warnings.filterwarnings('ignore')"
   ]
  },
  {
   "cell_type": "code",
   "execution_count": 2,
   "metadata": {
    "colab": {
     "base_uri": "https://localhost:8080/",
     "height": 73
    },
    "id": "87lffaLXlCjO",
    "outputId": "53d329e2-bf7b-44bb-8f24-bbe2ad8557ce"
   },
   "outputs": [
    {
     "data": {
      "text/html": [
       "\n",
       "     <input type=\"file\" id=\"files-34656648-3b4f-4d00-87ea-eb59bc44aa2f\" name=\"files[]\" multiple disabled\n",
       "        style=\"border:none\" />\n",
       "     <output id=\"result-34656648-3b4f-4d00-87ea-eb59bc44aa2f\">\n",
       "      Upload widget is only available when the cell has been executed in the\n",
       "      current browser session. Please rerun this cell to enable.\n",
       "      </output>\n",
       "      <script>// Copyright 2017 Google LLC\n",
       "//\n",
       "// Licensed under the Apache License, Version 2.0 (the \"License\");\n",
       "// you may not use this file except in compliance with the License.\n",
       "// You may obtain a copy of the License at\n",
       "//\n",
       "//      http://www.apache.org/licenses/LICENSE-2.0\n",
       "//\n",
       "// Unless required by applicable law or agreed to in writing, software\n",
       "// distributed under the License is distributed on an \"AS IS\" BASIS,\n",
       "// WITHOUT WARRANTIES OR CONDITIONS OF ANY KIND, either express or implied.\n",
       "// See the License for the specific language governing permissions and\n",
       "// limitations under the License.\n",
       "\n",
       "/**\n",
       " * @fileoverview Helpers for google.colab Python module.\n",
       " */\n",
       "(function(scope) {\n",
       "function span(text, styleAttributes = {}) {\n",
       "  const element = document.createElement('span');\n",
       "  element.textContent = text;\n",
       "  for (const key of Object.keys(styleAttributes)) {\n",
       "    element.style[key] = styleAttributes[key];\n",
       "  }\n",
       "  return element;\n",
       "}\n",
       "\n",
       "// Max number of bytes which will be uploaded at a time.\n",
       "const MAX_PAYLOAD_SIZE = 100 * 1024;\n",
       "\n",
       "function _uploadFiles(inputId, outputId) {\n",
       "  const steps = uploadFilesStep(inputId, outputId);\n",
       "  const outputElement = document.getElementById(outputId);\n",
       "  // Cache steps on the outputElement to make it available for the next call\n",
       "  // to uploadFilesContinue from Python.\n",
       "  outputElement.steps = steps;\n",
       "\n",
       "  return _uploadFilesContinue(outputId);\n",
       "}\n",
       "\n",
       "// This is roughly an async generator (not supported in the browser yet),\n",
       "// where there are multiple asynchronous steps and the Python side is going\n",
       "// to poll for completion of each step.\n",
       "// This uses a Promise to block the python side on completion of each step,\n",
       "// then passes the result of the previous step as the input to the next step.\n",
       "function _uploadFilesContinue(outputId) {\n",
       "  const outputElement = document.getElementById(outputId);\n",
       "  const steps = outputElement.steps;\n",
       "\n",
       "  const next = steps.next(outputElement.lastPromiseValue);\n",
       "  return Promise.resolve(next.value.promise).then((value) => {\n",
       "    // Cache the last promise value to make it available to the next\n",
       "    // step of the generator.\n",
       "    outputElement.lastPromiseValue = value;\n",
       "    return next.value.response;\n",
       "  });\n",
       "}\n",
       "\n",
       "/**\n",
       " * Generator function which is called between each async step of the upload\n",
       " * process.\n",
       " * @param {string} inputId Element ID of the input file picker element.\n",
       " * @param {string} outputId Element ID of the output display.\n",
       " * @return {!Iterable<!Object>} Iterable of next steps.\n",
       " */\n",
       "function* uploadFilesStep(inputId, outputId) {\n",
       "  const inputElement = document.getElementById(inputId);\n",
       "  inputElement.disabled = false;\n",
       "\n",
       "  const outputElement = document.getElementById(outputId);\n",
       "  outputElement.innerHTML = '';\n",
       "\n",
       "  const pickedPromise = new Promise((resolve) => {\n",
       "    inputElement.addEventListener('change', (e) => {\n",
       "      resolve(e.target.files);\n",
       "    });\n",
       "  });\n",
       "\n",
       "  const cancel = document.createElement('button');\n",
       "  inputElement.parentElement.appendChild(cancel);\n",
       "  cancel.textContent = 'Cancel upload';\n",
       "  const cancelPromise = new Promise((resolve) => {\n",
       "    cancel.onclick = () => {\n",
       "      resolve(null);\n",
       "    };\n",
       "  });\n",
       "\n",
       "  // Wait for the user to pick the files.\n",
       "  const files = yield {\n",
       "    promise: Promise.race([pickedPromise, cancelPromise]),\n",
       "    response: {\n",
       "      action: 'starting',\n",
       "    }\n",
       "  };\n",
       "\n",
       "  cancel.remove();\n",
       "\n",
       "  // Disable the input element since further picks are not allowed.\n",
       "  inputElement.disabled = true;\n",
       "\n",
       "  if (!files) {\n",
       "    return {\n",
       "      response: {\n",
       "        action: 'complete',\n",
       "      }\n",
       "    };\n",
       "  }\n",
       "\n",
       "  for (const file of files) {\n",
       "    const li = document.createElement('li');\n",
       "    li.append(span(file.name, {fontWeight: 'bold'}));\n",
       "    li.append(span(\n",
       "        `(${file.type || 'n/a'}) - ${file.size} bytes, ` +\n",
       "        `last modified: ${\n",
       "            file.lastModifiedDate ? file.lastModifiedDate.toLocaleDateString() :\n",
       "                                    'n/a'} - `));\n",
       "    const percent = span('0% done');\n",
       "    li.appendChild(percent);\n",
       "\n",
       "    outputElement.appendChild(li);\n",
       "\n",
       "    const fileDataPromise = new Promise((resolve) => {\n",
       "      const reader = new FileReader();\n",
       "      reader.onload = (e) => {\n",
       "        resolve(e.target.result);\n",
       "      };\n",
       "      reader.readAsArrayBuffer(file);\n",
       "    });\n",
       "    // Wait for the data to be ready.\n",
       "    let fileData = yield {\n",
       "      promise: fileDataPromise,\n",
       "      response: {\n",
       "        action: 'continue',\n",
       "      }\n",
       "    };\n",
       "\n",
       "    // Use a chunked sending to avoid message size limits. See b/62115660.\n",
       "    let position = 0;\n",
       "    do {\n",
       "      const length = Math.min(fileData.byteLength - position, MAX_PAYLOAD_SIZE);\n",
       "      const chunk = new Uint8Array(fileData, position, length);\n",
       "      position += length;\n",
       "\n",
       "      const base64 = btoa(String.fromCharCode.apply(null, chunk));\n",
       "      yield {\n",
       "        response: {\n",
       "          action: 'append',\n",
       "          file: file.name,\n",
       "          data: base64,\n",
       "        },\n",
       "      };\n",
       "\n",
       "      let percentDone = fileData.byteLength === 0 ?\n",
       "          100 :\n",
       "          Math.round((position / fileData.byteLength) * 100);\n",
       "      percent.textContent = `${percentDone}% done`;\n",
       "\n",
       "    } while (position < fileData.byteLength);\n",
       "  }\n",
       "\n",
       "  // All done.\n",
       "  yield {\n",
       "    response: {\n",
       "      action: 'complete',\n",
       "    }\n",
       "  };\n",
       "}\n",
       "\n",
       "scope.google = scope.google || {};\n",
       "scope.google.colab = scope.google.colab || {};\n",
       "scope.google.colab._files = {\n",
       "  _uploadFiles,\n",
       "  _uploadFilesContinue,\n",
       "};\n",
       "})(self);\n",
       "</script> "
      ],
      "text/plain": [
       "<IPython.core.display.HTML object>"
      ]
     },
     "metadata": {},
     "output_type": "display_data"
    },
    {
     "name": "stdout",
     "output_type": "stream",
     "text": [
      "Saving Social_Network_Ads.csv to Social_Network_Ads.csv\n"
     ]
    }
   ],
   "source": [
    "from google.colab import files\n",
    "uploaded = files.upload()"
   ]
  },
  {
   "cell_type": "code",
   "execution_count": 3,
   "metadata": {
    "colab": {
     "base_uri": "https://localhost:8080/",
     "height": 206
    },
    "id": "HShSP8vPlCl2",
    "outputId": "873c815d-ddf5-4b7b-b43d-19f22ceed821"
   },
   "outputs": [
    {
     "data": {
      "text/html": [
       "\n",
       "  <div id=\"df-28e1e35e-1775-49b2-afe0-74740d2df959\">\n",
       "    <div class=\"colab-df-container\">\n",
       "      <div>\n",
       "<style scoped>\n",
       "    .dataframe tbody tr th:only-of-type {\n",
       "        vertical-align: middle;\n",
       "    }\n",
       "\n",
       "    .dataframe tbody tr th {\n",
       "        vertical-align: top;\n",
       "    }\n",
       "\n",
       "    .dataframe thead th {\n",
       "        text-align: right;\n",
       "    }\n",
       "</style>\n",
       "<table border=\"1\" class=\"dataframe\">\n",
       "  <thead>\n",
       "    <tr style=\"text-align: right;\">\n",
       "      <th></th>\n",
       "      <th>User ID</th>\n",
       "      <th>Gender</th>\n",
       "      <th>Age</th>\n",
       "      <th>EstimatedSalary</th>\n",
       "      <th>Purchased</th>\n",
       "    </tr>\n",
       "  </thead>\n",
       "  <tbody>\n",
       "    <tr>\n",
       "      <th>0</th>\n",
       "      <td>15624510</td>\n",
       "      <td>Male</td>\n",
       "      <td>19</td>\n",
       "      <td>19000</td>\n",
       "      <td>0</td>\n",
       "    </tr>\n",
       "    <tr>\n",
       "      <th>1</th>\n",
       "      <td>15810944</td>\n",
       "      <td>Male</td>\n",
       "      <td>35</td>\n",
       "      <td>20000</td>\n",
       "      <td>0</td>\n",
       "    </tr>\n",
       "    <tr>\n",
       "      <th>2</th>\n",
       "      <td>15668575</td>\n",
       "      <td>Female</td>\n",
       "      <td>26</td>\n",
       "      <td>43000</td>\n",
       "      <td>0</td>\n",
       "    </tr>\n",
       "    <tr>\n",
       "      <th>3</th>\n",
       "      <td>15603246</td>\n",
       "      <td>Female</td>\n",
       "      <td>27</td>\n",
       "      <td>57000</td>\n",
       "      <td>0</td>\n",
       "    </tr>\n",
       "    <tr>\n",
       "      <th>4</th>\n",
       "      <td>15804002</td>\n",
       "      <td>Male</td>\n",
       "      <td>19</td>\n",
       "      <td>76000</td>\n",
       "      <td>0</td>\n",
       "    </tr>\n",
       "  </tbody>\n",
       "</table>\n",
       "</div>\n",
       "      <button class=\"colab-df-convert\" onclick=\"convertToInteractive('df-28e1e35e-1775-49b2-afe0-74740d2df959')\"\n",
       "              title=\"Convert this dataframe to an interactive table.\"\n",
       "              style=\"display:none;\">\n",
       "        \n",
       "  <svg xmlns=\"http://www.w3.org/2000/svg\" height=\"24px\"viewBox=\"0 0 24 24\"\n",
       "       width=\"24px\">\n",
       "    <path d=\"M0 0h24v24H0V0z\" fill=\"none\"/>\n",
       "    <path d=\"M18.56 5.44l.94 2.06.94-2.06 2.06-.94-2.06-.94-.94-2.06-.94 2.06-2.06.94zm-11 1L8.5 8.5l.94-2.06 2.06-.94-2.06-.94L8.5 2.5l-.94 2.06-2.06.94zm10 10l.94 2.06.94-2.06 2.06-.94-2.06-.94-.94-2.06-.94 2.06-2.06.94z\"/><path d=\"M17.41 7.96l-1.37-1.37c-.4-.4-.92-.59-1.43-.59-.52 0-1.04.2-1.43.59L10.3 9.45l-7.72 7.72c-.78.78-.78 2.05 0 2.83L4 21.41c.39.39.9.59 1.41.59.51 0 1.02-.2 1.41-.59l7.78-7.78 2.81-2.81c.8-.78.8-2.07 0-2.86zM5.41 20L4 18.59l7.72-7.72 1.47 1.35L5.41 20z\"/>\n",
       "  </svg>\n",
       "      </button>\n",
       "      \n",
       "  <style>\n",
       "    .colab-df-container {\n",
       "      display:flex;\n",
       "      flex-wrap:wrap;\n",
       "      gap: 12px;\n",
       "    }\n",
       "\n",
       "    .colab-df-convert {\n",
       "      background-color: #E8F0FE;\n",
       "      border: none;\n",
       "      border-radius: 50%;\n",
       "      cursor: pointer;\n",
       "      display: none;\n",
       "      fill: #1967D2;\n",
       "      height: 32px;\n",
       "      padding: 0 0 0 0;\n",
       "      width: 32px;\n",
       "    }\n",
       "\n",
       "    .colab-df-convert:hover {\n",
       "      background-color: #E2EBFA;\n",
       "      box-shadow: 0px 1px 2px rgba(60, 64, 67, 0.3), 0px 1px 3px 1px rgba(60, 64, 67, 0.15);\n",
       "      fill: #174EA6;\n",
       "    }\n",
       "\n",
       "    [theme=dark] .colab-df-convert {\n",
       "      background-color: #3B4455;\n",
       "      fill: #D2E3FC;\n",
       "    }\n",
       "\n",
       "    [theme=dark] .colab-df-convert:hover {\n",
       "      background-color: #434B5C;\n",
       "      box-shadow: 0px 1px 3px 1px rgba(0, 0, 0, 0.15);\n",
       "      filter: drop-shadow(0px 1px 2px rgba(0, 0, 0, 0.3));\n",
       "      fill: #FFFFFF;\n",
       "    }\n",
       "  </style>\n",
       "\n",
       "      <script>\n",
       "        const buttonEl =\n",
       "          document.querySelector('#df-28e1e35e-1775-49b2-afe0-74740d2df959 button.colab-df-convert');\n",
       "        buttonEl.style.display =\n",
       "          google.colab.kernel.accessAllowed ? 'block' : 'none';\n",
       "\n",
       "        async function convertToInteractive(key) {\n",
       "          const element = document.querySelector('#df-28e1e35e-1775-49b2-afe0-74740d2df959');\n",
       "          const dataTable =\n",
       "            await google.colab.kernel.invokeFunction('convertToInteractive',\n",
       "                                                     [key], {});\n",
       "          if (!dataTable) return;\n",
       "\n",
       "          const docLinkHtml = 'Like what you see? Visit the ' +\n",
       "            '<a target=\"_blank\" href=https://colab.research.google.com/notebooks/data_table.ipynb>data table notebook</a>'\n",
       "            + ' to learn more about interactive tables.';\n",
       "          element.innerHTML = '';\n",
       "          dataTable['output_type'] = 'display_data';\n",
       "          await google.colab.output.renderOutput(dataTable, element);\n",
       "          const docLink = document.createElement('div');\n",
       "          docLink.innerHTML = docLinkHtml;\n",
       "          element.appendChild(docLink);\n",
       "        }\n",
       "      </script>\n",
       "    </div>\n",
       "  </div>\n",
       "  "
      ],
      "text/plain": [
       "    User ID  Gender  Age  EstimatedSalary  Purchased\n",
       "0  15624510    Male   19            19000          0\n",
       "1  15810944    Male   35            20000          0\n",
       "2  15668575  Female   26            43000          0\n",
       "3  15603246  Female   27            57000          0\n",
       "4  15804002    Male   19            76000          0"
      ]
     },
     "execution_count": 3,
     "metadata": {},
     "output_type": "execute_result"
    }
   ],
   "source": [
    "df = pd.read_csv('/content/Social_Network_Ads.csv')\n",
    "df.head()"
   ]
  },
  {
   "cell_type": "code",
   "execution_count": 4,
   "metadata": {
    "colab": {
     "base_uri": "https://localhost:8080/",
     "height": 206
    },
    "id": "Buqk3R3ulCoN",
    "outputId": "ce685760-ab56-4c83-cafc-b68e598bb924"
   },
   "outputs": [
    {
     "data": {
      "text/html": [
       "\n",
       "  <div id=\"df-692dd693-bf9a-430a-8083-cb5e7784fda1\">\n",
       "    <div class=\"colab-df-container\">\n",
       "      <div>\n",
       "<style scoped>\n",
       "    .dataframe tbody tr th:only-of-type {\n",
       "        vertical-align: middle;\n",
       "    }\n",
       "\n",
       "    .dataframe tbody tr th {\n",
       "        vertical-align: top;\n",
       "    }\n",
       "\n",
       "    .dataframe thead th {\n",
       "        text-align: right;\n",
       "    }\n",
       "</style>\n",
       "<table border=\"1\" class=\"dataframe\">\n",
       "  <thead>\n",
       "    <tr style=\"text-align: right;\">\n",
       "      <th></th>\n",
       "      <th>Age</th>\n",
       "      <th>EstimatedSalary</th>\n",
       "      <th>Purchased</th>\n",
       "    </tr>\n",
       "  </thead>\n",
       "  <tbody>\n",
       "    <tr>\n",
       "      <th>0</th>\n",
       "      <td>19</td>\n",
       "      <td>19000</td>\n",
       "      <td>0</td>\n",
       "    </tr>\n",
       "    <tr>\n",
       "      <th>1</th>\n",
       "      <td>35</td>\n",
       "      <td>20000</td>\n",
       "      <td>0</td>\n",
       "    </tr>\n",
       "    <tr>\n",
       "      <th>2</th>\n",
       "      <td>26</td>\n",
       "      <td>43000</td>\n",
       "      <td>0</td>\n",
       "    </tr>\n",
       "    <tr>\n",
       "      <th>3</th>\n",
       "      <td>27</td>\n",
       "      <td>57000</td>\n",
       "      <td>0</td>\n",
       "    </tr>\n",
       "    <tr>\n",
       "      <th>4</th>\n",
       "      <td>19</td>\n",
       "      <td>76000</td>\n",
       "      <td>0</td>\n",
       "    </tr>\n",
       "  </tbody>\n",
       "</table>\n",
       "</div>\n",
       "      <button class=\"colab-df-convert\" onclick=\"convertToInteractive('df-692dd693-bf9a-430a-8083-cb5e7784fda1')\"\n",
       "              title=\"Convert this dataframe to an interactive table.\"\n",
       "              style=\"display:none;\">\n",
       "        \n",
       "  <svg xmlns=\"http://www.w3.org/2000/svg\" height=\"24px\"viewBox=\"0 0 24 24\"\n",
       "       width=\"24px\">\n",
       "    <path d=\"M0 0h24v24H0V0z\" fill=\"none\"/>\n",
       "    <path d=\"M18.56 5.44l.94 2.06.94-2.06 2.06-.94-2.06-.94-.94-2.06-.94 2.06-2.06.94zm-11 1L8.5 8.5l.94-2.06 2.06-.94-2.06-.94L8.5 2.5l-.94 2.06-2.06.94zm10 10l.94 2.06.94-2.06 2.06-.94-2.06-.94-.94-2.06-.94 2.06-2.06.94z\"/><path d=\"M17.41 7.96l-1.37-1.37c-.4-.4-.92-.59-1.43-.59-.52 0-1.04.2-1.43.59L10.3 9.45l-7.72 7.72c-.78.78-.78 2.05 0 2.83L4 21.41c.39.39.9.59 1.41.59.51 0 1.02-.2 1.41-.59l7.78-7.78 2.81-2.81c.8-.78.8-2.07 0-2.86zM5.41 20L4 18.59l7.72-7.72 1.47 1.35L5.41 20z\"/>\n",
       "  </svg>\n",
       "      </button>\n",
       "      \n",
       "  <style>\n",
       "    .colab-df-container {\n",
       "      display:flex;\n",
       "      flex-wrap:wrap;\n",
       "      gap: 12px;\n",
       "    }\n",
       "\n",
       "    .colab-df-convert {\n",
       "      background-color: #E8F0FE;\n",
       "      border: none;\n",
       "      border-radius: 50%;\n",
       "      cursor: pointer;\n",
       "      display: none;\n",
       "      fill: #1967D2;\n",
       "      height: 32px;\n",
       "      padding: 0 0 0 0;\n",
       "      width: 32px;\n",
       "    }\n",
       "\n",
       "    .colab-df-convert:hover {\n",
       "      background-color: #E2EBFA;\n",
       "      box-shadow: 0px 1px 2px rgba(60, 64, 67, 0.3), 0px 1px 3px 1px rgba(60, 64, 67, 0.15);\n",
       "      fill: #174EA6;\n",
       "    }\n",
       "\n",
       "    [theme=dark] .colab-df-convert {\n",
       "      background-color: #3B4455;\n",
       "      fill: #D2E3FC;\n",
       "    }\n",
       "\n",
       "    [theme=dark] .colab-df-convert:hover {\n",
       "      background-color: #434B5C;\n",
       "      box-shadow: 0px 1px 3px 1px rgba(0, 0, 0, 0.15);\n",
       "      filter: drop-shadow(0px 1px 2px rgba(0, 0, 0, 0.3));\n",
       "      fill: #FFFFFF;\n",
       "    }\n",
       "  </style>\n",
       "\n",
       "      <script>\n",
       "        const buttonEl =\n",
       "          document.querySelector('#df-692dd693-bf9a-430a-8083-cb5e7784fda1 button.colab-df-convert');\n",
       "        buttonEl.style.display =\n",
       "          google.colab.kernel.accessAllowed ? 'block' : 'none';\n",
       "\n",
       "        async function convertToInteractive(key) {\n",
       "          const element = document.querySelector('#df-692dd693-bf9a-430a-8083-cb5e7784fda1');\n",
       "          const dataTable =\n",
       "            await google.colab.kernel.invokeFunction('convertToInteractive',\n",
       "                                                     [key], {});\n",
       "          if (!dataTable) return;\n",
       "\n",
       "          const docLinkHtml = 'Like what you see? Visit the ' +\n",
       "            '<a target=\"_blank\" href=https://colab.research.google.com/notebooks/data_table.ipynb>data table notebook</a>'\n",
       "            + ' to learn more about interactive tables.';\n",
       "          element.innerHTML = '';\n",
       "          dataTable['output_type'] = 'display_data';\n",
       "          await google.colab.output.renderOutput(dataTable, element);\n",
       "          const docLink = document.createElement('div');\n",
       "          docLink.innerHTML = docLinkHtml;\n",
       "          element.appendChild(docLink);\n",
       "        }\n",
       "      </script>\n",
       "    </div>\n",
       "  </div>\n",
       "  "
      ],
      "text/plain": [
       "   Age  EstimatedSalary  Purchased\n",
       "0   19            19000          0\n",
       "1   35            20000          0\n",
       "2   26            43000          0\n",
       "3   27            57000          0\n",
       "4   19            76000          0"
      ]
     },
     "execution_count": 4,
     "metadata": {},
     "output_type": "execute_result"
    }
   ],
   "source": [
    "# drop user id and gender -\n",
    "df = df.iloc[:,2:]\n",
    "df.head()"
   ]
  },
  {
   "cell_type": "code",
   "execution_count": 5,
   "metadata": {
    "colab": {
     "base_uri": "https://localhost:8080/",
     "height": 279
    },
    "id": "5U4ZAX33lCqj",
    "outputId": "53ea08d6-14c2-40b8-be14-c1f49f833ca2"
   },
   "outputs": [
    {
     "data": {
      "image/png": "[encoded data removed]",
      "text/plain": [
       "<Figure size 432x288 with 1 Axes>"
      ]
     },
     "metadata": {
      "needs_background": "light"
     },
     "output_type": "display_data"
    }
   ],
   "source": [
    "sns.scatterplot(df.iloc[:,0],df.iloc[:,1]) # df['Age],df['EstimatedSalary']\n",
    "plt.show()"
   ]
  },
  {
   "cell_type": "code",
   "execution_count": 6,
   "metadata": {
    "id": "5ue2-SZDmZjw"
   },
   "outputs": [],
   "source": [
    "# splitting dependent and independent variables - \n",
    "x = df.iloc[:,0:2]\n",
    "y = df.iloc[:,-1]"
   ]
  },
  {
   "cell_type": "code",
   "execution_count": 7,
   "metadata": {
    "colab": {
     "base_uri": "https://localhost:8080/",
     "height": 206
    },
    "id": "L4xpvVqdmZl9",
    "outputId": "c3a5f2a9-abb5-4afb-aded-7b9ccc57aac0"
   },
   "outputs": [
    {
     "data": {
      "text/html": [
       "\n",
       "  <div id=\"df-63e10f1c-ca21-4303-848d-1220b6fc30e6\">\n",
       "    <div class=\"colab-df-container\">\n",
       "      <div>\n",
       "<style scoped>\n",
       "    .dataframe tbody tr th:only-of-type {\n",
       "        vertical-align: middle;\n",
       "    }\n",
       "\n",
       "    .dataframe tbody tr th {\n",
       "        vertical-align: top;\n",
       "    }\n",
       "\n",
       "    .dataframe thead th {\n",
       "        text-align: right;\n",
       "    }\n",
       "</style>\n",
       "<table border=\"1\" class=\"dataframe\">\n",
       "  <thead>\n",
       "    <tr style=\"text-align: right;\">\n",
       "      <th></th>\n",
       "      <th>Age</th>\n",
       "      <th>EstimatedSalary</th>\n",
       "    </tr>\n",
       "  </thead>\n",
       "  <tbody>\n",
       "    <tr>\n",
       "      <th>0</th>\n",
       "      <td>19</td>\n",
       "      <td>19000</td>\n",
       "    </tr>\n",
       "    <tr>\n",
       "      <th>1</th>\n",
       "      <td>35</td>\n",
       "      <td>20000</td>\n",
       "    </tr>\n",
       "    <tr>\n",
       "      <th>2</th>\n",
       "      <td>26</td>\n",
       "      <td>43000</td>\n",
       "    </tr>\n",
       "    <tr>\n",
       "      <th>3</th>\n",
       "      <td>27</td>\n",
       "      <td>57000</td>\n",
       "    </tr>\n",
       "    <tr>\n",
       "      <th>4</th>\n",
       "      <td>19</td>\n",
       "      <td>76000</td>\n",
       "    </tr>\n",
       "  </tbody>\n",
       "</table>\n",
       "</div>\n",
       "      <button class=\"colab-df-convert\" onclick=\"convertToInteractive('df-63e10f1c-ca21-4303-848d-1220b6fc30e6')\"\n",
       "              title=\"Convert this dataframe to an interactive table.\"\n",
       "              style=\"display:none;\">\n",
       "        \n",
       "  <svg xmlns=\"http://www.w3.org/2000/svg\" height=\"24px\"viewBox=\"0 0 24 24\"\n",
       "       width=\"24px\">\n",
       "    <path d=\"M0 0h24v24H0V0z\" fill=\"none\"/>\n",
       "    <path d=\"M18.56 5.44l.94 2.06.94-2.06 2.06-.94-2.06-.94-.94-2.06-.94 2.06-2.06.94zm-11 1L8.5 8.5l.94-2.06 2.06-.94-2.06-.94L8.5 2.5l-.94 2.06-2.06.94zm10 10l.94 2.06.94-2.06 2.06-.94-2.06-.94-.94-2.06-.94 2.06-2.06.94z\"/><path d=\"M17.41 7.96l-1.37-1.37c-.4-.4-.92-.59-1.43-.59-.52 0-1.04.2-1.43.59L10.3 9.45l-7.72 7.72c-.78.78-.78 2.05 0 2.83L4 21.41c.39.39.9.59 1.41.59.51 0 1.02-.2 1.41-.59l7.78-7.78 2.81-2.81c.8-.78.8-2.07 0-2.86zM5.41 20L4 18.59l7.72-7.72 1.47 1.35L5.41 20z\"/>\n",
       "  </svg>\n",
       "      </button>\n",
       "      \n",
       "  <style>\n",
       "    .colab-df-container {\n",
       "      display:flex;\n",
       "      flex-wrap:wrap;\n",
       "      gap: 12px;\n",
       "    }\n",
       "\n",
       "    .colab-df-convert {\n",
       "      background-color: #E8F0FE;\n",
       "      border: none;\n",
       "      border-radius: 50%;\n",
       "      cursor: pointer;\n",
       "      display: none;\n",
       "      fill: #1967D2;\n",
       "      height: 32px;\n",
       "      padding: 0 0 0 0;\n",
       "      width: 32px;\n",
       "    }\n",
       "\n",
       "    .colab-df-convert:hover {\n",
       "      background-color: #E2EBFA;\n",
       "      box-shadow: 0px 1px 2px rgba(60, 64, 67, 0.3), 0px 1px 3px 1px rgba(60, 64, 67, 0.15);\n",
       "      fill: #174EA6;\n",
       "    }\n",
       "\n",
       "    [theme=dark] .colab-df-convert {\n",
       "      background-color: #3B4455;\n",
       "      fill: #D2E3FC;\n",
       "    }\n",
       "\n",
       "    [theme=dark] .colab-df-convert:hover {\n",
       "      background-color: #434B5C;\n",
       "      box-shadow: 0px 1px 3px 1px rgba(0, 0, 0, 0.15);\n",
       "      filter: drop-shadow(0px 1px 2px rgba(0, 0, 0, 0.3));\n",
       "      fill: #FFFFFF;\n",
       "    }\n",
       "  </style>\n",
       "\n",
       "      <script>\n",
       "        const buttonEl =\n",
       "          document.querySelector('#df-63e10f1c-ca21-4303-848d-1220b6fc30e6 button.colab-df-convert');\n",
       "        buttonEl.style.display =\n",
       "          google.colab.kernel.accessAllowed ? 'block' : 'none';\n",
       "\n",
       "        async function convertToInteractive(key) {\n",
       "          const element = document.querySelector('#df-63e10f1c-ca21-4303-848d-1220b6fc30e6');\n",
       "          const dataTable =\n",
       "            await google.colab.kernel.invokeFunction('convertToInteractive',\n",
       "                                                     [key], {});\n",
       "          if (!dataTable) return;\n",
       "\n",
       "          const docLinkHtml = 'Like what you see? Visit the ' +\n",
       "            '<a target=\"_blank\" href=https://colab.research.google.com/notebooks/data_table.ipynb>data table notebook</a>'\n",
       "            + ' to learn more about interactive tables.';\n",
       "          element.innerHTML = '';\n",
       "          dataTable['output_type'] = 'display_data';\n",
       "          await google.colab.output.renderOutput(dataTable, element);\n",
       "          const docLink = document.createElement('div');\n",
       "          docLink.innerHTML = docLinkHtml;\n",
       "          element.appendChild(docLink);\n",
       "        }\n",
       "      </script>\n",
       "    </div>\n",
       "  </div>\n",
       "  "
      ],
      "text/plain": [
       "   Age  EstimatedSalary\n",
       "0   19            19000\n",
       "1   35            20000\n",
       "2   26            43000\n",
       "3   27            57000\n",
       "4   19            76000"
      ]
     },
     "execution_count": 7,
     "metadata": {},
     "output_type": "execute_result"
    }
   ],
   "source": [
    "x.head()"
   ]
  },
  {
   "cell_type": "code",
   "execution_count": 8,
   "metadata": {
    "colab": {
     "base_uri": "https://localhost:8080/"
    },
    "id": "VbhavXm9mZol",
    "outputId": "f9adb6b1-f66f-4cc9-96ff-b49298534231"
   },
   "outputs": [
    {
     "data": {
      "text/plain": [
       "0    0\n",
       "1    0\n",
       "2    0\n",
       "3    0\n",
       "4    0\n",
       "Name: Purchased, dtype: int64"
      ]
     },
     "execution_count": 8,
     "metadata": {},
     "output_type": "execute_result"
    }
   ],
   "source": [
    "y.head()"
   ]
  },
  {
   "cell_type": "code",
   "execution_count": 9,
   "metadata": {
    "id": "ei0v2rTPmZrC"
   },
   "outputs": [],
   "source": [
    "# split data in train test -\n",
    "from sklearn.model_selection import train_test_split\n",
    "x_train,x_test,y_train,y_test = train_test_split(x,y,test_size=0.2,random_state=101)"
   ]
  },
  {
   "cell_type": "code",
   "execution_count": 11,
   "metadata": {
    "id": "xEgViRqwmZtm"
   },
   "outputs": [],
   "source": [
    "import tensorflow as tf\n",
    "from tensorflow import keras\n",
    "from keras import Sequential\n",
    "from keras.layers import Dense"
   ]
  },
  {
   "cell_type": "code",
   "execution_count": 13,
   "metadata": {
    "colab": {
     "base_uri": "https://localhost:8080/"
    },
    "id": "VWYXlEkFmZv0",
    "outputId": "eb84804f-1602-4b0a-c8ba-af72bb24bb4c"
   },
   "outputs": [
    {
     "name": "stdout",
     "output_type": "stream",
     "text": [
      "Model: \"sequential_1\"\n",
      "_________________________________________________________________\n",
      " Layer (type)                Output Shape              Param #   \n",
      "=================================================================\n",
      " dense_2 (Dense)             (None, 128)               384       \n",
      "                                                                 \n",
      " dense_3 (Dense)             (None, 1)                 129       \n",
      "                                                                 \n",
      "=================================================================\n",
      "Total params: 513\n",
      "Trainable params: 513\n",
      "Non-trainable params: 0\n",
      "_________________________________________________________________\n"
     ]
    }
   ],
   "source": [
    "model = Sequential()\n",
    "model.add(Dense(128,activation = 'relu',input_dim=2))\n",
    "model.add(Dense(1,activation = 'sigmoid'))\n",
    "model.summary()"
   ]
  },
  {
   "cell_type": "code",
   "execution_count": 14,
   "metadata": {
    "id": "M1uW0JOdmZx3"
   },
   "outputs": [],
   "source": [
    "model.compile(optimizer='adam',loss='binary_crossentropy',metrics=['accuracy'])"
   ]
  },
  {
   "cell_type": "code",
   "execution_count": 15,
   "metadata": {
    "colab": {
     "base_uri": "https://localhost:8080/"
    },
    "id": "aWGWtzqbmZz-",
    "outputId": "9f37985c-a1d4-4be0-fd49-ea32d0ac5990"
   },
   "outputs": [
    {
     "name": "stdout",
     "output_type": "stream",
     "text": [
      "Epoch 1/100\n",
      "10/10 [==============================] - 5s 54ms/step - loss: 9835.7373 - accuracy: 0.3656 - val_loss: 7598.2251 - val_accuracy: 0.3250\n",
      "Epoch 2/100\n",
      "10/10 [==============================] - 0s 7ms/step - loss: 4757.0298 - accuracy: 0.3656 - val_loss: 2064.4304 - val_accuracy: 0.3250\n",
      "Epoch 3/100\n",
      "10/10 [==============================] - 0s 7ms/step - loss: 984.7549 - accuracy: 0.5281 - val_loss: 1159.9271 - val_accuracy: 0.6750\n",
      "Epoch 4/100\n",
      "10/10 [==============================] - 0s 6ms/step - loss: 890.5577 - accuracy: 0.6344 - val_loss: 79.3559 - val_accuracy: 0.3250\n",
      "Epoch 5/100\n",
      "10/10 [==============================] - 0s 5ms/step - loss: 253.1349 - accuracy: 0.4594 - val_loss: 189.7750 - val_accuracy: 0.6750\n",
      "Epoch 6/100\n",
      "10/10 [==============================] - 0s 7ms/step - loss: 132.5754 - accuracy: 0.5750 - val_loss: 3.9820 - val_accuracy: 0.6750\n",
      "Epoch 7/100\n",
      "10/10 [==============================] - 0s 6ms/step - loss: 49.3283 - accuracy: 0.5531 - val_loss: 12.6153 - val_accuracy: 0.6750\n",
      "Epoch 8/100\n",
      "10/10 [==============================] - 0s 7ms/step - loss: 70.8089 - accuracy: 0.4812 - val_loss: 22.5206 - val_accuracy: 0.3000\n",
      "Epoch 9/100\n",
      "10/10 [==============================] - 0s 5ms/step - loss: 26.9356 - accuracy: 0.4750 - val_loss: 14.2431 - val_accuracy: 0.6750\n",
      "Epoch 10/100\n",
      "10/10 [==============================] - 0s 6ms/step - loss: 53.2176 - accuracy: 0.4844 - val_loss: 32.9357 - val_accuracy: 0.3250\n",
      "Epoch 11/100\n",
      "10/10 [==============================] - 0s 6ms/step - loss: 50.1153 - accuracy: 0.5312 - val_loss: 51.3379 - val_accuracy: 0.6750\n",
      "Epoch 12/100\n",
      "10/10 [==============================] - 0s 7ms/step - loss: 32.6900 - accuracy: 0.5281 - val_loss: 8.1633 - val_accuracy: 0.2750\n",
      "Epoch 13/100\n",
      "10/10 [==============================] - 0s 6ms/step - loss: 38.3959 - accuracy: 0.5250 - val_loss: 29.7733 - val_accuracy: 0.6750\n",
      "Epoch 14/100\n",
      "10/10 [==============================] - 0s 7ms/step - loss: 60.6933 - accuracy: 0.4844 - val_loss: 87.5803 - val_accuracy: 0.3250\n",
      "Epoch 15/100\n",
      "10/10 [==============================] - 0s 6ms/step - loss: 83.5882 - accuracy: 0.5094 - val_loss: 53.6787 - val_accuracy: 0.3250\n",
      "Epoch 16/100\n",
      "10/10 [==============================] - 0s 8ms/step - loss: 43.7924 - accuracy: 0.5375 - val_loss: 24.9110 - val_accuracy: 0.3125\n",
      "Epoch 17/100\n",
      "10/10 [==============================] - 0s 5ms/step - loss: 33.6423 - accuracy: 0.5375 - val_loss: 53.2688 - val_accuracy: 0.6750\n",
      "Epoch 18/100\n",
      "10/10 [==============================] - 0s 7ms/step - loss: 44.0565 - accuracy: 0.5125 - val_loss: 37.5444 - val_accuracy: 0.6750\n",
      "Epoch 19/100\n",
      "10/10 [==============================] - 0s 7ms/step - loss: 68.8887 - accuracy: 0.5406 - val_loss: 147.5130 - val_accuracy: 0.6750\n",
      "Epoch 20/100\n",
      "10/10 [==============================] - 0s 7ms/step - loss: 108.3533 - accuracy: 0.4844 - val_loss: 81.3843 - val_accuracy: 0.6750\n",
      "Epoch 21/100\n",
      "10/10 [==============================] - 0s 7ms/step - loss: 138.3957 - accuracy: 0.4844 - val_loss: 201.7832 - val_accuracy: 0.6750\n",
      "Epoch 22/100\n",
      "10/10 [==============================] - 0s 6ms/step - loss: 78.2314 - accuracy: 0.5031 - val_loss: 4.0907 - val_accuracy: 0.6750\n",
      "Epoch 23/100\n",
      "10/10 [==============================] - 0s 7ms/step - loss: 13.2181 - accuracy: 0.5344 - val_loss: 34.9934 - val_accuracy: 0.6750\n",
      "Epoch 24/100\n",
      "10/10 [==============================] - 0s 5ms/step - loss: 29.1011 - accuracy: 0.5344 - val_loss: 61.1592 - val_accuracy: 0.3250\n",
      "Epoch 25/100\n",
      "10/10 [==============================] - 0s 7ms/step - loss: 42.9182 - accuracy: 0.4812 - val_loss: 96.5320 - val_accuracy: 0.6750\n",
      "Epoch 26/100\n",
      "10/10 [==============================] - 0s 5ms/step - loss: 54.9494 - accuracy: 0.5156 - val_loss: 105.6337 - val_accuracy: 0.3250\n",
      "Epoch 27/100\n",
      "10/10 [==============================] - 0s 5ms/step - loss: 59.4611 - accuracy: 0.4594 - val_loss: 95.2207 - val_accuracy: 0.6750\n",
      "Epoch 28/100\n",
      "10/10 [==============================] - 0s 7ms/step - loss: 91.0093 - accuracy: 0.5344 - val_loss: 80.6692 - val_accuracy: 0.6750\n",
      "Epoch 29/100\n",
      "10/10 [==============================] - 0s 7ms/step - loss: 131.0627 - accuracy: 0.4594 - val_loss: 169.6947 - val_accuracy: 0.6750\n",
      "Epoch 30/100\n",
      "10/10 [==============================] - 0s 7ms/step - loss: 96.1580 - accuracy: 0.5406 - val_loss: 51.2838 - val_accuracy: 0.6750\n",
      "Epoch 31/100\n",
      "10/10 [==============================] - 0s 7ms/step - loss: 32.3987 - accuracy: 0.4875 - val_loss: 18.9779 - val_accuracy: 0.6750\n",
      "Epoch 32/100\n",
      "10/10 [==============================] - 0s 5ms/step - loss: 34.8124 - accuracy: 0.4531 - val_loss: 35.9605 - val_accuracy: 0.3250\n",
      "Epoch 33/100\n",
      "10/10 [==============================] - 0s 5ms/step - loss: 50.0624 - accuracy: 0.5281 - val_loss: 22.8140 - val_accuracy: 0.6750\n",
      "Epoch 34/100\n",
      "10/10 [==============================] - 0s 5ms/step - loss: 59.7014 - accuracy: 0.4719 - val_loss: 45.3045 - val_accuracy: 0.3250\n",
      "Epoch 35/100\n",
      "10/10 [==============================] - 0s 7ms/step - loss: 27.2795 - accuracy: 0.5500 - val_loss: 19.4057 - val_accuracy: 0.3125\n",
      "Epoch 36/100\n",
      "10/10 [==============================] - 0s 7ms/step - loss: 16.5784 - accuracy: 0.5250 - val_loss: 16.2721 - val_accuracy: 0.6750\n",
      "Epoch 37/100\n",
      "10/10 [==============================] - 0s 6ms/step - loss: 35.2127 - accuracy: 0.5813 - val_loss: 53.2089 - val_accuracy: 0.3250\n",
      "Epoch 38/100\n",
      "10/10 [==============================] - 0s 6ms/step - loss: 28.6124 - accuracy: 0.4719 - val_loss: 65.5275 - val_accuracy: 0.6750\n",
      "Epoch 39/100\n",
      "10/10 [==============================] - 0s 7ms/step - loss: 65.5915 - accuracy: 0.5656 - val_loss: 20.0393 - val_accuracy: 0.6750\n",
      "Epoch 40/100\n",
      "10/10 [==============================] - 0s 5ms/step - loss: 78.8018 - accuracy: 0.5406 - val_loss: 21.1910 - val_accuracy: 0.3125\n",
      "Epoch 41/100\n",
      "10/10 [==============================] - 0s 7ms/step - loss: 37.0130 - accuracy: 0.4313 - val_loss: 62.3361 - val_accuracy: 0.3250\n",
      "Epoch 42/100\n",
      "10/10 [==============================] - 0s 5ms/step - loss: 37.9766 - accuracy: 0.4688 - val_loss: 35.4821 - val_accuracy: 0.6750\n",
      "Epoch 43/100\n",
      "10/10 [==============================] - 0s 7ms/step - loss: 23.6181 - accuracy: 0.5531 - val_loss: 8.5059 - val_accuracy: 0.2750\n",
      "Epoch 44/100\n",
      "10/10 [==============================] - 0s 7ms/step - loss: 20.6997 - accuracy: 0.5406 - val_loss: 42.0485 - val_accuracy: 0.3250\n",
      "Epoch 45/100\n",
      "10/10 [==============================] - 0s 7ms/step - loss: 56.3094 - accuracy: 0.4406 - val_loss: 126.9817 - val_accuracy: 0.6750\n",
      "Epoch 46/100\n",
      "10/10 [==============================] - 0s 6ms/step - loss: 102.9343 - accuracy: 0.5281 - val_loss: 46.2645 - val_accuracy: 0.6750\n",
      "Epoch 47/100\n",
      "10/10 [==============================] - 0s 5ms/step - loss: 47.8368 - accuracy: 0.5281 - val_loss: 161.4158 - val_accuracy: 0.3250\n",
      "Epoch 48/100\n",
      "10/10 [==============================] - 0s 5ms/step - loss: 63.0305 - accuracy: 0.4719 - val_loss: 33.5043 - val_accuracy: 0.6750\n",
      "Epoch 49/100\n",
      "10/10 [==============================] - 0s 7ms/step - loss: 43.5286 - accuracy: 0.4656 - val_loss: 22.0480 - val_accuracy: 0.6750\n",
      "Epoch 50/100\n",
      "10/10 [==============================] - 0s 6ms/step - loss: 23.7934 - accuracy: 0.5344 - val_loss: 47.2541 - val_accuracy: 0.3250\n",
      "Epoch 51/100\n",
      "10/10 [==============================] - 0s 5ms/step - loss: 26.5432 - accuracy: 0.5406 - val_loss: 55.2806 - val_accuracy: 0.3250\n",
      "Epoch 52/100\n",
      "10/10 [==============================] - 0s 7ms/step - loss: 20.0248 - accuracy: 0.5156 - val_loss: 8.0977 - val_accuracy: 0.6750\n",
      "Epoch 53/100\n",
      "10/10 [==============================] - 0s 7ms/step - loss: 18.8383 - accuracy: 0.5531 - val_loss: 43.6870 - val_accuracy: 0.3250\n",
      "Epoch 54/100\n",
      "10/10 [==============================] - 0s 6ms/step - loss: 21.4638 - accuracy: 0.5250 - val_loss: 29.8117 - val_accuracy: 0.3250\n",
      "Epoch 55/100\n",
      "10/10 [==============================] - 0s 6ms/step - loss: 21.5294 - accuracy: 0.5094 - val_loss: 17.2295 - val_accuracy: 0.6750\n",
      "Epoch 56/100\n",
      "10/10 [==============================] - 0s 7ms/step - loss: 35.1236 - accuracy: 0.5250 - val_loss: 102.7395 - val_accuracy: 0.3250\n",
      "Epoch 57/100\n",
      "10/10 [==============================] - 0s 7ms/step - loss: 53.6240 - accuracy: 0.5281 - val_loss: 59.0826 - val_accuracy: 0.6750\n",
      "Epoch 58/100\n",
      "10/10 [==============================] - 0s 6ms/step - loss: 64.7545 - accuracy: 0.5844 - val_loss: 25.8629 - val_accuracy: 0.6750\n",
      "Epoch 59/100\n",
      "10/10 [==============================] - 0s 6ms/step - loss: 43.3678 - accuracy: 0.4906 - val_loss: 11.7179 - val_accuracy: 0.3000\n",
      "Epoch 60/100\n",
      "10/10 [==============================] - 0s 6ms/step - loss: 18.8847 - accuracy: 0.5281 - val_loss: 2.2861 - val_accuracy: 0.6125\n",
      "Epoch 61/100\n",
      "10/10 [==============================] - 0s 7ms/step - loss: 37.1248 - accuracy: 0.4938 - val_loss: 51.6680 - val_accuracy: 0.6750\n",
      "Epoch 62/100\n",
      "10/10 [==============================] - 0s 7ms/step - loss: 47.0350 - accuracy: 0.5594 - val_loss: 65.9494 - val_accuracy: 0.3250\n",
      "Epoch 63/100\n",
      "10/10 [==============================] - 0s 6ms/step - loss: 38.6752 - accuracy: 0.4875 - val_loss: 69.4184 - val_accuracy: 0.3250\n",
      "Epoch 64/100\n",
      "10/10 [==============================] - 0s 5ms/step - loss: 68.0749 - accuracy: 0.4719 - val_loss: 15.3310 - val_accuracy: 0.6750\n",
      "Epoch 65/100\n",
      "10/10 [==============================] - 0s 7ms/step - loss: 50.6670 - accuracy: 0.5688 - val_loss: 14.4623 - val_accuracy: 0.6750\n",
      "Epoch 66/100\n",
      "10/10 [==============================] - 0s 7ms/step - loss: 90.8736 - accuracy: 0.5031 - val_loss: 124.4494 - val_accuracy: 0.3250\n",
      "Epoch 67/100\n",
      "10/10 [==============================] - 0s 6ms/step - loss: 117.5555 - accuracy: 0.5156 - val_loss: 33.5048 - val_accuracy: 0.6750\n",
      "Epoch 68/100\n",
      "10/10 [==============================] - 0s 6ms/step - loss: 101.5940 - accuracy: 0.5000 - val_loss: 68.9099 - val_accuracy: 0.3250\n",
      "Epoch 69/100\n",
      "10/10 [==============================] - 0s 8ms/step - loss: 107.1331 - accuracy: 0.4844 - val_loss: 88.5511 - val_accuracy: 0.3250\n",
      "Epoch 70/100\n",
      "10/10 [==============================] - 0s 6ms/step - loss: 32.3992 - accuracy: 0.5219 - val_loss: 24.5545 - val_accuracy: 0.3125\n",
      "Epoch 71/100\n",
      "10/10 [==============================] - 0s 7ms/step - loss: 26.5464 - accuracy: 0.5094 - val_loss: 14.0896 - val_accuracy: 0.6750\n",
      "Epoch 72/100\n",
      "10/10 [==============================] - 0s 6ms/step - loss: 22.8618 - accuracy: 0.5719 - val_loss: 30.7031 - val_accuracy: 0.6750\n",
      "Epoch 73/100\n",
      "10/10 [==============================] - 0s 7ms/step - loss: 17.7777 - accuracy: 0.5219 - val_loss: 2.5474 - val_accuracy: 0.6750\n",
      "Epoch 74/100\n",
      "10/10 [==============================] - 0s 7ms/step - loss: 16.8862 - accuracy: 0.5000 - val_loss: 68.0797 - val_accuracy: 0.3250\n",
      "Epoch 75/100\n",
      "10/10 [==============================] - 0s 6ms/step - loss: 72.8843 - accuracy: 0.4656 - val_loss: 31.3237 - val_accuracy: 0.3250\n",
      "Epoch 76/100\n",
      "10/10 [==============================] - 0s 8ms/step - loss: 88.3419 - accuracy: 0.4969 - val_loss: 47.4139 - val_accuracy: 0.6750\n",
      "Epoch 77/100\n",
      "10/10 [==============================] - 0s 5ms/step - loss: 78.9812 - accuracy: 0.5406 - val_loss: 117.5586 - val_accuracy: 0.6750\n",
      "Epoch 78/100\n",
      "10/10 [==============================] - 0s 7ms/step - loss: 84.1485 - accuracy: 0.5469 - val_loss: 116.8032 - val_accuracy: 0.6750\n",
      "Epoch 79/100\n",
      "10/10 [==============================] - 0s 5ms/step - loss: 61.6896 - accuracy: 0.5344 - val_loss: 124.9867 - val_accuracy: 0.3250\n",
      "Epoch 80/100\n",
      "10/10 [==============================] - 0s 5ms/step - loss: 189.0585 - accuracy: 0.4906 - val_loss: 120.1669 - val_accuracy: 0.6750\n",
      "Epoch 81/100\n",
      "10/10 [==============================] - 0s 6ms/step - loss: 167.0692 - accuracy: 0.4656 - val_loss: 207.7207 - val_accuracy: 0.6750\n",
      "Epoch 82/100\n",
      "10/10 [==============================] - 0s 7ms/step - loss: 190.2254 - accuracy: 0.4781 - val_loss: 22.5184 - val_accuracy: 0.6750\n",
      "Epoch 83/100\n",
      "10/10 [==============================] - 0s 6ms/step - loss: 107.7300 - accuracy: 0.5344 - val_loss: 45.5361 - val_accuracy: 0.3250\n",
      "Epoch 84/100\n",
      "10/10 [==============================] - 0s 7ms/step - loss: 121.7922 - accuracy: 0.5219 - val_loss: 116.3270 - val_accuracy: 0.3250\n",
      "Epoch 85/100\n",
      "10/10 [==============================] - 0s 7ms/step - loss: 135.9564 - accuracy: 0.5281 - val_loss: 214.8171 - val_accuracy: 0.3250\n",
      "Epoch 86/100\n",
      "10/10 [==============================] - 0s 7ms/step - loss: 139.4990 - accuracy: 0.5219 - val_loss: 85.3146 - val_accuracy: 0.3250\n",
      "Epoch 87/100\n",
      "10/10 [==============================] - 0s 7ms/step - loss: 51.5179 - accuracy: 0.4938 - val_loss: 27.4099 - val_accuracy: 0.6750\n",
      "Epoch 88/100\n",
      "10/10 [==============================] - 0s 7ms/step - loss: 48.7866 - accuracy: 0.5344 - val_loss: 52.2698 - val_accuracy: 0.3250\n",
      "Epoch 89/100\n",
      "10/10 [==============================] - 0s 6ms/step - loss: 53.6251 - accuracy: 0.4781 - val_loss: 30.7018 - val_accuracy: 0.6750\n",
      "Epoch 90/100\n",
      "10/10 [==============================] - 0s 7ms/step - loss: 44.8001 - accuracy: 0.5219 - val_loss: 55.9974 - val_accuracy: 0.3250\n",
      "Epoch 91/100\n",
      "10/10 [==============================] - 0s 7ms/step - loss: 30.7791 - accuracy: 0.5625 - val_loss: 54.7913 - val_accuracy: 0.3250\n",
      "Epoch 92/100\n",
      "10/10 [==============================] - 0s 7ms/step - loss: 69.6253 - accuracy: 0.5188 - val_loss: 162.5240 - val_accuracy: 0.3250\n",
      "Epoch 93/100\n",
      "10/10 [==============================] - 0s 6ms/step - loss: 73.6159 - accuracy: 0.4313 - val_loss: 25.5044 - val_accuracy: 0.6750\n",
      "Epoch 94/100\n",
      "10/10 [==============================] - 0s 7ms/step - loss: 18.6088 - accuracy: 0.5031 - val_loss: 27.7729 - val_accuracy: 0.6750\n",
      "Epoch 95/100\n",
      "10/10 [==============================] - 0s 7ms/step - loss: 26.2811 - accuracy: 0.5281 - val_loss: 7.2048 - val_accuracy: 0.6750\n",
      "Epoch 96/100\n",
      "10/10 [==============================] - 0s 6ms/step - loss: 43.2323 - accuracy: 0.5375 - val_loss: 21.2581 - val_accuracy: 0.6750\n",
      "Epoch 97/100\n",
      "10/10 [==============================] - 0s 6ms/step - loss: 26.0044 - accuracy: 0.5500 - val_loss: 38.9003 - val_accuracy: 0.6750\n",
      "Epoch 98/100\n",
      "10/10 [==============================] - 0s 5ms/step - loss: 38.5924 - accuracy: 0.4688 - val_loss: 33.7826 - val_accuracy: 0.6750\n",
      "Epoch 99/100\n",
      "10/10 [==============================] - 0s 6ms/step - loss: 33.8650 - accuracy: 0.4906 - val_loss: 9.9411 - val_accuracy: 0.2875\n",
      "Epoch 100/100\n",
      "10/10 [==============================] - 0s 6ms/step - loss: 39.2820 - accuracy: 0.5031 - val_loss: 46.4435 - val_accuracy: 0.6750\n"
     ]
    }
   ],
   "source": [
    "history = model.fit(x_train,y_train,validation_data=(x_test,y_test),epochs=100)"
   ]
  },
  {
   "cell_type": "code",
   "execution_count": 16,
   "metadata": {
    "colab": {
     "base_uri": "https://localhost:8080/",
     "height": 282
    },
    "id": "6W9LJSGQmZ19",
    "outputId": "9224dfe9-e264-475f-caeb-659a918bbe8d"
   },
   "outputs": [
    {
     "data": {
      "text/plain": [
       "[<matplotlib.lines.Line2D at 0x7f82a03f1490>]"
      ]
     },
     "execution_count": 16,
     "metadata": {},
     "output_type": "execute_result"
    },
    {
     "data": {
      "image/png": "[encoded data removed]",
      "text/plain": [
       "<Figure size 432x288 with 1 Axes>"
      ]
     },
     "metadata": {
      "needs_background": "light"
     },
     "output_type": "display_data"
    }
   ],
   "source": [
    "plt.plot(history.history['val_accuracy'])\n",
    "# range btw 35 to 65 - "
   ]
  },
  {
   "cell_type": "code",
   "execution_count": 17,
   "metadata": {
    "colab": {
     "base_uri": "https://localhost:8080/",
     "height": 282
    },
    "id": "20QNjmjemZ4W",
    "outputId": "4b3988af-1130-40db-adb6-6fc5539428d2"
   },
   "outputs": [
    {
     "data": {
      "text/plain": [
       "[<matplotlib.lines.Line2D at 0x7f82a03c8580>]"
      ]
     },
     "execution_count": 17,
     "metadata": {},
     "output_type": "execute_result"
    },
    {
     "data": {
      "image/png": "[encoded data removed]",
      "text/plain": [
       "<Figure size 432x288 with 1 Axes>"
      ]
     },
     "metadata": {
      "needs_background": "light"
     },
     "output_type": "display_data"
    }
   ],
   "source": [
    "plt.plot(history.history['accuracy'])"
   ]
  },
  {
   "cell_type": "markdown",
   "metadata": {
    "id": "XMsOKQrtpD7M"
   },
   "source": [
    "#### Feature Scaling(Standardization) - "
   ]
  },
  {
   "cell_type": "code",
   "execution_count": 19,
   "metadata": {
    "id": "4gsonp7KmZ51"
   },
   "outputs": [],
   "source": [
    "from sklearn.preprocessing import StandardScaler\n",
    "x_train_sc = StandardScaler().fit_transform(x_train)\n",
    "x_test_sc = StandardScaler().fit_transform(x_test)"
   ]
  },
  {
   "cell_type": "code",
   "execution_count": 20,
   "metadata": {
    "colab": {
     "base_uri": "https://localhost:8080/",
     "height": 265
    },
    "id": "rpfkSWzgmZ79",
    "outputId": "809a5ce4-023b-4019-fd2d-3b358ccd77a6"
   },
   "outputs": [
    {
     "data": {
      "image/png": "[encoded data removed]",
      "text/plain": [
       "<Figure size 432x288 with 1 Axes>"
      ]
     },
     "metadata": {
      "needs_background": "light"
     },
     "output_type": "display_data"
    }
   ],
   "source": [
    "sns.scatterplot(x_train_sc[:,0],x_train_sc[:,1]) # Standardization range -3 to 3\n",
    "plt.show()"
   ]
  },
  {
   "cell_type": "code",
   "execution_count": 21,
   "metadata": {
    "colab": {
     "base_uri": "https://localhost:8080/"
    },
    "id": "G4bx-WTimZ_h",
    "outputId": "7c0cffe4-a380-438a-d999-d06dbfdb1986"
   },
   "outputs": [
    {
     "name": "stdout",
     "output_type": "stream",
     "text": [
      "Model: \"sequential_2\"\n",
      "_________________________________________________________________\n",
      " Layer (type)                Output Shape              Param #   \n",
      "=================================================================\n",
      " dense_4 (Dense)             (None, 128)               384       \n",
      "                                                                 \n",
      " dense_5 (Dense)             (None, 1)                 129       \n",
      "                                                                 \n",
      "=================================================================\n",
      "Total params: 513\n",
      "Trainable params: 513\n",
      "Non-trainable params: 0\n",
      "_________________________________________________________________\n"
     ]
    }
   ],
   "source": [
    "model1 = Sequential()\n",
    "model1.add(Dense(128,activation = 'relu',input_dim=2))\n",
    "model1.add(Dense(1,activation = 'sigmoid'))\n",
    "model1.summary()"
   ]
  },
  {
   "cell_type": "code",
   "execution_count": 22,
   "metadata": {
    "id": "QWFymZr4lCs1"
   },
   "outputs": [],
   "source": [
    "model1.compile(optimizer='adam',loss='binary_crossentropy',metrics=['accuracy'])"
   ]
  },
  {
   "cell_type": "code",
   "execution_count": 23,
   "metadata": {
    "colab": {
     "base_uri": "https://localhost:8080/"
    },
    "id": "6h9euVVVlCu6",
    "outputId": "d7835c67-791f-4c42-bf1c-d1b4e574e594"
   },
   "outputs": [
    {
     "name": "stdout",
     "output_type": "stream",
     "text": [
      "Epoch 1/100\n",
      "10/10 [==============================] - 1s 27ms/step - loss: 0.6712 - accuracy: 0.5281 - val_loss: 0.6341 - val_accuracy: 0.7375\n",
      "Epoch 2/100\n",
      "10/10 [==============================] - 0s 9ms/step - loss: 0.6154 - accuracy: 0.7812 - val_loss: 0.5803 - val_accuracy: 0.8250\n",
      "Epoch 3/100\n",
      "10/10 [==============================] - 0s 7ms/step - loss: 0.5681 - accuracy: 0.8094 - val_loss: 0.5350 - val_accuracy: 0.8375\n",
      "Epoch 4/100\n",
      "10/10 [==============================] - 0s 9ms/step - loss: 0.5283 - accuracy: 0.8406 - val_loss: 0.4959 - val_accuracy: 0.8500\n",
      "Epoch 5/100\n",
      "10/10 [==============================] - 0s 9ms/step - loss: 0.4942 - accuracy: 0.8500 - val_loss: 0.4611 - val_accuracy: 0.8625\n",
      "Epoch 6/100\n",
      "10/10 [==============================] - 0s 9ms/step - loss: 0.4644 - accuracy: 0.8562 - val_loss: 0.4309 - val_accuracy: 0.8625\n",
      "Epoch 7/100\n",
      "10/10 [==============================] - 0s 7ms/step - loss: 0.4378 - accuracy: 0.8656 - val_loss: 0.4042 - val_accuracy: 0.8750\n",
      "Epoch 8/100\n",
      "10/10 [==============================] - 0s 7ms/step - loss: 0.4157 - accuracy: 0.8687 - val_loss: 0.3801 - val_accuracy: 0.8875\n",
      "Epoch 9/100\n",
      "10/10 [==============================] - 0s 7ms/step - loss: 0.3957 - accuracy: 0.8656 - val_loss: 0.3604 - val_accuracy: 0.8750\n",
      "Epoch 10/100\n",
      "10/10 [==============================] - 0s 5ms/step - loss: 0.3787 - accuracy: 0.8719 - val_loss: 0.3419 - val_accuracy: 0.9125\n",
      "Epoch 11/100\n",
      "10/10 [==============================] - 0s 5ms/step - loss: 0.3641 - accuracy: 0.8875 - val_loss: 0.3254 - val_accuracy: 0.9125\n",
      "Epoch 12/100\n",
      "10/10 [==============================] - 0s 5ms/step - loss: 0.3505 - accuracy: 0.8875 - val_loss: 0.3122 - val_accuracy: 0.9125\n",
      "Epoch 13/100\n",
      "10/10 [==============================] - 0s 6ms/step - loss: 0.3401 - accuracy: 0.8906 - val_loss: 0.2998 - val_accuracy: 0.9125\n",
      "Epoch 14/100\n",
      "10/10 [==============================] - 0s 6ms/step - loss: 0.3298 - accuracy: 0.8875 - val_loss: 0.2901 - val_accuracy: 0.9125\n",
      "Epoch 15/100\n",
      "10/10 [==============================] - 0s 7ms/step - loss: 0.3215 - accuracy: 0.8875 - val_loss: 0.2803 - val_accuracy: 0.9125\n",
      "Epoch 16/100\n",
      "10/10 [==============================] - 0s 5ms/step - loss: 0.3139 - accuracy: 0.8969 - val_loss: 0.2728 - val_accuracy: 0.9125\n",
      "Epoch 17/100\n",
      "10/10 [==============================] - 0s 6ms/step - loss: 0.3076 - accuracy: 0.8938 - val_loss: 0.2667 - val_accuracy: 0.9000\n",
      "Epoch 18/100\n",
      "10/10 [==============================] - 0s 5ms/step - loss: 0.3017 - accuracy: 0.8969 - val_loss: 0.2606 - val_accuracy: 0.9000\n",
      "Epoch 19/100\n",
      "10/10 [==============================] - 0s 5ms/step - loss: 0.2969 - accuracy: 0.8938 - val_loss: 0.2547 - val_accuracy: 0.9000\n",
      "Epoch 20/100\n",
      "10/10 [==============================] - 0s 5ms/step - loss: 0.2921 - accuracy: 0.8969 - val_loss: 0.2501 - val_accuracy: 0.9000\n",
      "Epoch 21/100\n",
      "10/10 [==============================] - 0s 7ms/step - loss: 0.2884 - accuracy: 0.9000 - val_loss: 0.2456 - val_accuracy: 0.9125\n",
      "Epoch 22/100\n",
      "10/10 [==============================] - 0s 7ms/step - loss: 0.2846 - accuracy: 0.9031 - val_loss: 0.2428 - val_accuracy: 0.9125\n",
      "Epoch 23/100\n",
      "10/10 [==============================] - 0s 6ms/step - loss: 0.2814 - accuracy: 0.8969 - val_loss: 0.2389 - val_accuracy: 0.9125\n",
      "Epoch 24/100\n",
      "10/10 [==============================] - 0s 6ms/step - loss: 0.2788 - accuracy: 0.9000 - val_loss: 0.2364 - val_accuracy: 0.9125\n",
      "Epoch 25/100\n",
      "10/10 [==============================] - 0s 5ms/step - loss: 0.2764 - accuracy: 0.9000 - val_loss: 0.2329 - val_accuracy: 0.9125\n",
      "Epoch 26/100\n",
      "10/10 [==============================] - 0s 5ms/step - loss: 0.2739 - accuracy: 0.9000 - val_loss: 0.2315 - val_accuracy: 0.9125\n",
      "Epoch 27/100\n",
      "10/10 [==============================] - 0s 6ms/step - loss: 0.2719 - accuracy: 0.9000 - val_loss: 0.2284 - val_accuracy: 0.9125\n",
      "Epoch 28/100\n",
      "10/10 [==============================] - 0s 5ms/step - loss: 0.2699 - accuracy: 0.9031 - val_loss: 0.2269 - val_accuracy: 0.9125\n",
      "Epoch 29/100\n",
      "10/10 [==============================] - 0s 7ms/step - loss: 0.2680 - accuracy: 0.9031 - val_loss: 0.2255 - val_accuracy: 0.9125\n",
      "Epoch 30/100\n",
      "10/10 [==============================] - 0s 6ms/step - loss: 0.2666 - accuracy: 0.9031 - val_loss: 0.2240 - val_accuracy: 0.9125\n",
      "Epoch 31/100\n",
      "10/10 [==============================] - 0s 7ms/step - loss: 0.2649 - accuracy: 0.9094 - val_loss: 0.2233 - val_accuracy: 0.9125\n",
      "Epoch 32/100\n",
      "10/10 [==============================] - 0s 6ms/step - loss: 0.2637 - accuracy: 0.9094 - val_loss: 0.2219 - val_accuracy: 0.9125\n",
      "Epoch 33/100\n",
      "10/10 [==============================] - 0s 7ms/step - loss: 0.2626 - accuracy: 0.9094 - val_loss: 0.2216 - val_accuracy: 0.9125\n",
      "Epoch 34/100\n",
      "10/10 [==============================] - 0s 5ms/step - loss: 0.2615 - accuracy: 0.9094 - val_loss: 0.2201 - val_accuracy: 0.9125\n",
      "Epoch 35/100\n",
      "10/10 [==============================] - 0s 7ms/step - loss: 0.2606 - accuracy: 0.9094 - val_loss: 0.2207 - val_accuracy: 0.9125\n",
      "Epoch 36/100\n",
      "10/10 [==============================] - 0s 7ms/step - loss: 0.2595 - accuracy: 0.9094 - val_loss: 0.2200 - val_accuracy: 0.9125\n",
      "Epoch 37/100\n",
      "10/10 [==============================] - 0s 5ms/step - loss: 0.2588 - accuracy: 0.9094 - val_loss: 0.2174 - val_accuracy: 0.9125\n",
      "Epoch 38/100\n",
      "10/10 [==============================] - 0s 7ms/step - loss: 0.2576 - accuracy: 0.9094 - val_loss: 0.2171 - val_accuracy: 0.9125\n",
      "Epoch 39/100\n",
      "10/10 [==============================] - 0s 6ms/step - loss: 0.2573 - accuracy: 0.9094 - val_loss: 0.2168 - val_accuracy: 0.9125\n",
      "Epoch 40/100\n",
      "10/10 [==============================] - 0s 8ms/step - loss: 0.2562 - accuracy: 0.9094 - val_loss: 0.2153 - val_accuracy: 0.9125\n",
      "Epoch 41/100\n",
      "10/10 [==============================] - 0s 5ms/step - loss: 0.2558 - accuracy: 0.9094 - val_loss: 0.2159 - val_accuracy: 0.9125\n",
      "Epoch 42/100\n",
      "10/10 [==============================] - 0s 7ms/step - loss: 0.2551 - accuracy: 0.9094 - val_loss: 0.2162 - val_accuracy: 0.9125\n",
      "Epoch 43/100\n",
      "10/10 [==============================] - 0s 6ms/step - loss: 0.2546 - accuracy: 0.9094 - val_loss: 0.2138 - val_accuracy: 0.9125\n",
      "Epoch 44/100\n",
      "10/10 [==============================] - 0s 6ms/step - loss: 0.2536 - accuracy: 0.9094 - val_loss: 0.2132 - val_accuracy: 0.9125\n",
      "Epoch 45/100\n",
      "10/10 [==============================] - 0s 6ms/step - loss: 0.2531 - accuracy: 0.9094 - val_loss: 0.2136 - val_accuracy: 0.9125\n",
      "Epoch 46/100\n",
      "10/10 [==============================] - 0s 5ms/step - loss: 0.2526 - accuracy: 0.9094 - val_loss: 0.2144 - val_accuracy: 0.9125\n",
      "Epoch 47/100\n",
      "10/10 [==============================] - 0s 7ms/step - loss: 0.2519 - accuracy: 0.9094 - val_loss: 0.2136 - val_accuracy: 0.9125\n",
      "Epoch 48/100\n",
      "10/10 [==============================] - 0s 7ms/step - loss: 0.2517 - accuracy: 0.9094 - val_loss: 0.2138 - val_accuracy: 0.9125\n",
      "Epoch 49/100\n",
      "10/10 [==============================] - 0s 6ms/step - loss: 0.2512 - accuracy: 0.9094 - val_loss: 0.2121 - val_accuracy: 0.9125\n",
      "Epoch 50/100\n",
      "10/10 [==============================] - 0s 5ms/step - loss: 0.2506 - accuracy: 0.9094 - val_loss: 0.2113 - val_accuracy: 0.9125\n",
      "Epoch 51/100\n",
      "10/10 [==============================] - 0s 9ms/step - loss: 0.2505 - accuracy: 0.9094 - val_loss: 0.2126 - val_accuracy: 0.9125\n",
      "Epoch 52/100\n",
      "10/10 [==============================] - 0s 5ms/step - loss: 0.2497 - accuracy: 0.9094 - val_loss: 0.2113 - val_accuracy: 0.9125\n",
      "Epoch 53/100\n",
      "10/10 [==============================] - 0s 7ms/step - loss: 0.2493 - accuracy: 0.9094 - val_loss: 0.2114 - val_accuracy: 0.9125\n",
      "Epoch 54/100\n",
      "10/10 [==============================] - 0s 6ms/step - loss: 0.2495 - accuracy: 0.9125 - val_loss: 0.2104 - val_accuracy: 0.9125\n",
      "Epoch 55/100\n",
      "10/10 [==============================] - 0s 6ms/step - loss: 0.2489 - accuracy: 0.9125 - val_loss: 0.2097 - val_accuracy: 0.9125\n",
      "Epoch 56/100\n",
      "10/10 [==============================] - 0s 6ms/step - loss: 0.2484 - accuracy: 0.9094 - val_loss: 0.2106 - val_accuracy: 0.9125\n",
      "Epoch 57/100\n",
      "10/10 [==============================] - 0s 5ms/step - loss: 0.2485 - accuracy: 0.9094 - val_loss: 0.2112 - val_accuracy: 0.9125\n",
      "Epoch 58/100\n",
      "10/10 [==============================] - 0s 5ms/step - loss: 0.2483 - accuracy: 0.9094 - val_loss: 0.2103 - val_accuracy: 0.9125\n",
      "Epoch 59/100\n",
      "10/10 [==============================] - 0s 7ms/step - loss: 0.2475 - accuracy: 0.9125 - val_loss: 0.2104 - val_accuracy: 0.9125\n",
      "Epoch 60/100\n",
      "10/10 [==============================] - 0s 6ms/step - loss: 0.2474 - accuracy: 0.9125 - val_loss: 0.2107 - val_accuracy: 0.9125\n",
      "Epoch 61/100\n",
      "10/10 [==============================] - 0s 6ms/step - loss: 0.2469 - accuracy: 0.9094 - val_loss: 0.2104 - val_accuracy: 0.9125\n",
      "Epoch 62/100\n",
      "10/10 [==============================] - 0s 8ms/step - loss: 0.2467 - accuracy: 0.9125 - val_loss: 0.2093 - val_accuracy: 0.9125\n",
      "Epoch 63/100\n",
      "10/10 [==============================] - 0s 8ms/step - loss: 0.2462 - accuracy: 0.9125 - val_loss: 0.2093 - val_accuracy: 0.9125\n",
      "Epoch 64/100\n",
      "10/10 [==============================] - 0s 5ms/step - loss: 0.2467 - accuracy: 0.9125 - val_loss: 0.2083 - val_accuracy: 0.9125\n",
      "Epoch 65/100\n",
      "10/10 [==============================] - 0s 7ms/step - loss: 0.2460 - accuracy: 0.9156 - val_loss: 0.2077 - val_accuracy: 0.9125\n",
      "Epoch 66/100\n",
      "10/10 [==============================] - 0s 5ms/step - loss: 0.2467 - accuracy: 0.9125 - val_loss: 0.2106 - val_accuracy: 0.9125\n",
      "Epoch 67/100\n",
      "10/10 [==============================] - 0s 5ms/step - loss: 0.2457 - accuracy: 0.9125 - val_loss: 0.2096 - val_accuracy: 0.9125\n",
      "Epoch 68/100\n",
      "10/10 [==============================] - 0s 7ms/step - loss: 0.2455 - accuracy: 0.9125 - val_loss: 0.2092 - val_accuracy: 0.9125\n",
      "Epoch 69/100\n",
      "10/10 [==============================] - 0s 5ms/step - loss: 0.2451 - accuracy: 0.9125 - val_loss: 0.2075 - val_accuracy: 0.9125\n",
      "Epoch 70/100\n",
      "10/10 [==============================] - 0s 5ms/step - loss: 0.2450 - accuracy: 0.9125 - val_loss: 0.2087 - val_accuracy: 0.9125\n",
      "Epoch 71/100\n",
      "10/10 [==============================] - 0s 6ms/step - loss: 0.2447 - accuracy: 0.9125 - val_loss: 0.2074 - val_accuracy: 0.9125\n",
      "Epoch 72/100\n",
      "10/10 [==============================] - 0s 6ms/step - loss: 0.2449 - accuracy: 0.9125 - val_loss: 0.2074 - val_accuracy: 0.9125\n",
      "Epoch 73/100\n",
      "10/10 [==============================] - 0s 5ms/step - loss: 0.2443 - accuracy: 0.9125 - val_loss: 0.2071 - val_accuracy: 0.9125\n",
      "Epoch 74/100\n",
      "10/10 [==============================] - 0s 7ms/step - loss: 0.2442 - accuracy: 0.9125 - val_loss: 0.2071 - val_accuracy: 0.9125\n",
      "Epoch 75/100\n",
      "10/10 [==============================] - 0s 7ms/step - loss: 0.2439 - accuracy: 0.9125 - val_loss: 0.2065 - val_accuracy: 0.9125\n",
      "Epoch 76/100\n",
      "10/10 [==============================] - 0s 5ms/step - loss: 0.2441 - accuracy: 0.9125 - val_loss: 0.2068 - val_accuracy: 0.9125\n",
      "Epoch 77/100\n",
      "10/10 [==============================] - 0s 5ms/step - loss: 0.2438 - accuracy: 0.9125 - val_loss: 0.2075 - val_accuracy: 0.9125\n",
      "Epoch 78/100\n",
      "10/10 [==============================] - 0s 5ms/step - loss: 0.2432 - accuracy: 0.9125 - val_loss: 0.2069 - val_accuracy: 0.9125\n",
      "Epoch 79/100\n",
      "10/10 [==============================] - 0s 6ms/step - loss: 0.2432 - accuracy: 0.9125 - val_loss: 0.2077 - val_accuracy: 0.9125\n",
      "Epoch 80/100\n",
      "10/10 [==============================] - 0s 5ms/step - loss: 0.2429 - accuracy: 0.9125 - val_loss: 0.2069 - val_accuracy: 0.9125\n",
      "Epoch 81/100\n",
      "10/10 [==============================] - 0s 6ms/step - loss: 0.2429 - accuracy: 0.9125 - val_loss: 0.2071 - val_accuracy: 0.9125\n",
      "Epoch 82/100\n",
      "10/10 [==============================] - 0s 6ms/step - loss: 0.2428 - accuracy: 0.9125 - val_loss: 0.2070 - val_accuracy: 0.9125\n",
      "Epoch 83/100\n",
      "10/10 [==============================] - 0s 5ms/step - loss: 0.2427 - accuracy: 0.9125 - val_loss: 0.2063 - val_accuracy: 0.9125\n",
      "Epoch 84/100\n",
      "10/10 [==============================] - 0s 7ms/step - loss: 0.2425 - accuracy: 0.9125 - val_loss: 0.2051 - val_accuracy: 0.9125\n",
      "Epoch 85/100\n",
      "10/10 [==============================] - 0s 7ms/step - loss: 0.2424 - accuracy: 0.9125 - val_loss: 0.2058 - val_accuracy: 0.9125\n",
      "Epoch 86/100\n",
      "10/10 [==============================] - 0s 6ms/step - loss: 0.2420 - accuracy: 0.9125 - val_loss: 0.2053 - val_accuracy: 0.9125\n",
      "Epoch 87/100\n",
      "10/10 [==============================] - 0s 6ms/step - loss: 0.2420 - accuracy: 0.9125 - val_loss: 0.2059 - val_accuracy: 0.9125\n",
      "Epoch 88/100\n",
      "10/10 [==============================] - 0s 6ms/step - loss: 0.2418 - accuracy: 0.9156 - val_loss: 0.2072 - val_accuracy: 0.9125\n",
      "Epoch 89/100\n",
      "10/10 [==============================] - 0s 6ms/step - loss: 0.2417 - accuracy: 0.9156 - val_loss: 0.2061 - val_accuracy: 0.9125\n",
      "Epoch 90/100\n",
      "10/10 [==============================] - 0s 7ms/step - loss: 0.2413 - accuracy: 0.9187 - val_loss: 0.2061 - val_accuracy: 0.9125\n",
      "Epoch 91/100\n",
      "10/10 [==============================] - 0s 7ms/step - loss: 0.2413 - accuracy: 0.9156 - val_loss: 0.2063 - val_accuracy: 0.9125\n",
      "Epoch 92/100\n",
      "10/10 [==============================] - 0s 8ms/step - loss: 0.2412 - accuracy: 0.9156 - val_loss: 0.2057 - val_accuracy: 0.9125\n",
      "Epoch 93/100\n",
      "10/10 [==============================] - 0s 7ms/step - loss: 0.2410 - accuracy: 0.9125 - val_loss: 0.2044 - val_accuracy: 0.9125\n",
      "Epoch 94/100\n",
      "10/10 [==============================] - 0s 6ms/step - loss: 0.2413 - accuracy: 0.9156 - val_loss: 0.2054 - val_accuracy: 0.9125\n",
      "Epoch 95/100\n",
      "10/10 [==============================] - 0s 6ms/step - loss: 0.2407 - accuracy: 0.9156 - val_loss: 0.2051 - val_accuracy: 0.9125\n",
      "Epoch 96/100\n",
      "10/10 [==============================] - 0s 6ms/step - loss: 0.2409 - accuracy: 0.9156 - val_loss: 0.2039 - val_accuracy: 0.9125\n",
      "Epoch 97/100\n",
      "10/10 [==============================] - 0s 7ms/step - loss: 0.2411 - accuracy: 0.9156 - val_loss: 0.2040 - val_accuracy: 0.9125\n",
      "Epoch 98/100\n",
      "10/10 [==============================] - 0s 7ms/step - loss: 0.2408 - accuracy: 0.9125 - val_loss: 0.2044 - val_accuracy: 0.9125\n",
      "Epoch 99/100\n",
      "10/10 [==============================] - 0s 7ms/step - loss: 0.2404 - accuracy: 0.9187 - val_loss: 0.2050 - val_accuracy: 0.9125\n",
      "Epoch 100/100\n",
      "10/10 [==============================] - 0s 6ms/step - loss: 0.2407 - accuracy: 0.9125 - val_loss: 0.2067 - val_accuracy: 0.9125\n"
     ]
    }
   ],
   "source": [
    "# drastic improvement in accuracy - \n",
    "history = model1.fit(x_train_sc,y_train,validation_data=(x_test_sc,y_test),epochs=100)"
   ]
  },
  {
   "cell_type": "code",
   "execution_count": 24,
   "metadata": {
    "colab": {
     "base_uri": "https://localhost:8080/",
     "height": 282
    },
    "id": "Xieeh53RlCzY",
    "outputId": "cf0eba6e-8db7-4a4f-a543-7d3c33bf1364"
   },
   "outputs": [
    {
     "data": {
      "text/plain": [
       "[<matplotlib.lines.Line2D at 0x7f824851b790>]"
      ]
     },
     "execution_count": 24,
     "metadata": {},
     "output_type": "execute_result"
    },
    {
     "data": {
      "image/png": "[encoded data removed]",
      "text/plain": [
       "<Figure size 432x288 with 1 Axes>"
      ]
     },
     "metadata": {
      "needs_background": "light"
     },
     "output_type": "display_data"
    }
   ],
   "source": [
    "plt.plot(history.history['val_accuracy'])"
   ]
  },
  {
   "cell_type": "code",
   "execution_count": 25,
   "metadata": {
    "colab": {
     "base_uri": "https://localhost:8080/",
     "height": 282
    },
    "id": "Ttrm4dhvlC2H",
    "outputId": "711569cc-462d-47d5-bd7a-c8c6dae2c569"
   },
   "outputs": [
    {
     "data": {
      "text/plain": [
       "[<matplotlib.lines.Line2D at 0x7f82a005d070>]"
      ]
     },
     "execution_count": 25,
     "metadata": {},
     "output_type": "execute_result"
    },
    {
     "data": {
      "image/png": "[encoded data removed]",
      "text/plain": [
       "<Figure size 432x288 with 1 Axes>"
      ]
     },
     "metadata": {
      "needs_background": "light"
     },
     "output_type": "display_data"
    }
   ],
   "source": [
    "plt.plot(history.history['accuracy'])"
   ]
  },
  {
   "cell_type": "code",
   "execution_count": null,
   "metadata": {
    "id": "d5tctqBplC4m"
   },
   "outputs": [],
   "source": []
  },
  {
   "cell_type": "markdown",
   "metadata": {
    "id": "OK_BuHFAv9yt"
   },
   "source": [
    "#### Implementing Dropout - \n",
    "##### deals overfitting and underfitting and improves accuracy by 2%"
   ]
  },
  {
   "cell_type": "code",
   "execution_count": 26,
   "metadata": {
    "id": "rjGNkF2swOLI"
   },
   "outputs": [],
   "source": [
    "from tensorflow.keras.layers import Dropout"
   ]
  },
  {
   "cell_type": "code",
   "execution_count": 32,
   "metadata": {
    "colab": {
     "base_uri": "https://localhost:8080/"
    },
    "id": "yhwkPBENlC68",
    "outputId": "418bc591-ba28-430f-b4f2-24157b0d2c8f"
   },
   "outputs": [
    {
     "name": "stdout",
     "output_type": "stream",
     "text": [
      "Model: \"sequential_4\"\n",
      "_________________________________________________________________\n",
      " Layer (type)                Output Shape              Param #   \n",
      "=================================================================\n",
      " dense_8 (Dense)             (None, 128)               384       \n",
      "                                                                 \n",
      " dropout_1 (Dropout)         (None, 128)               0         \n",
      "                                                                 \n",
      " dense_9 (Dense)             (None, 1)                 129       \n",
      "                                                                 \n",
      "=================================================================\n",
      "Total params: 513\n",
      "Trainable params: 513\n",
      "Non-trainable params: 0\n",
      "_________________________________________________________________\n"
     ]
    }
   ],
   "source": [
    "# dropout percent - 10% to 50% in Dnn models\n",
    "modelx = Sequential()\n",
    "modelx.add(Dense(128,activation = 'relu',input_dim=2))\n",
    "modelx.add(Dropout(0.3))\n",
    "modelx.add(Dense(1,activation = 'sigmoid'))\n",
    "modelx.summary()"
   ]
  },
  {
   "cell_type": "code",
   "execution_count": 33,
   "metadata": {
    "id": "2SHdkfmFlC9i"
   },
   "outputs": [],
   "source": [
    "modelx.compile(optimizer='adam',loss='binary_crossentropy',metrics=['accuracy'])"
   ]
  },
  {
   "cell_type": "code",
   "execution_count": 34,
   "metadata": {
    "colab": {
     "base_uri": "https://localhost:8080/"
    },
    "id": "yYn4yUB1lDAB",
    "outputId": "b8249073-920e-4ed6-8130-25af0ec23fe4"
   },
   "outputs": [
    {
     "name": "stdout",
     "output_type": "stream",
     "text": [
      "Epoch 1/100\n",
      "10/10 [==============================] - 1s 19ms/step - loss: 0.6821 - accuracy: 0.6125 - val_loss: 0.6498 - val_accuracy: 0.7750\n",
      "Epoch 2/100\n",
      "10/10 [==============================] - 0s 5ms/step - loss: 0.6337 - accuracy: 0.7156 - val_loss: 0.5993 - val_accuracy: 0.7875\n",
      "Epoch 3/100\n",
      "10/10 [==============================] - 0s 6ms/step - loss: 0.5883 - accuracy: 0.7750 - val_loss: 0.5550 - val_accuracy: 0.7875\n",
      "Epoch 4/100\n",
      "10/10 [==============================] - 0s 5ms/step - loss: 0.5443 - accuracy: 0.8031 - val_loss: 0.5164 - val_accuracy: 0.7875\n",
      "Epoch 5/100\n",
      "10/10 [==============================] - 0s 5ms/step - loss: 0.5105 - accuracy: 0.8031 - val_loss: 0.4827 - val_accuracy: 0.8000\n",
      "Epoch 6/100\n",
      "10/10 [==============================] - 0s 6ms/step - loss: 0.4881 - accuracy: 0.7969 - val_loss: 0.4529 - val_accuracy: 0.8000\n",
      "Epoch 7/100\n",
      "10/10 [==============================] - 0s 6ms/step - loss: 0.4518 - accuracy: 0.8250 - val_loss: 0.4259 - val_accuracy: 0.8000\n",
      "Epoch 8/100\n",
      "10/10 [==============================] - 0s 6ms/step - loss: 0.4352 - accuracy: 0.8313 - val_loss: 0.4016 - val_accuracy: 0.8125\n",
      "Epoch 9/100\n",
      "10/10 [==============================] - 0s 6ms/step - loss: 0.4124 - accuracy: 0.8500 - val_loss: 0.3809 - val_accuracy: 0.8125\n",
      "Epoch 10/100\n",
      "10/10 [==============================] - 0s 8ms/step - loss: 0.4020 - accuracy: 0.8281 - val_loss: 0.3624 - val_accuracy: 0.8250\n",
      "Epoch 11/100\n",
      "10/10 [==============================] - 0s 7ms/step - loss: 0.3795 - accuracy: 0.8594 - val_loss: 0.3466 - val_accuracy: 0.8375\n",
      "Epoch 12/100\n",
      "10/10 [==============================] - 0s 5ms/step - loss: 0.3743 - accuracy: 0.8719 - val_loss: 0.3321 - val_accuracy: 0.8750\n",
      "Epoch 13/100\n",
      "10/10 [==============================] - 0s 5ms/step - loss: 0.3545 - accuracy: 0.8719 - val_loss: 0.3202 - val_accuracy: 0.8750\n",
      "Epoch 14/100\n",
      "10/10 [==============================] - 0s 5ms/step - loss: 0.3492 - accuracy: 0.8719 - val_loss: 0.3093 - val_accuracy: 0.8750\n",
      "Epoch 15/100\n",
      "10/10 [==============================] - 0s 7ms/step - loss: 0.3386 - accuracy: 0.8875 - val_loss: 0.2996 - val_accuracy: 0.8750\n",
      "Epoch 16/100\n",
      "10/10 [==============================] - 0s 5ms/step - loss: 0.3332 - accuracy: 0.8781 - val_loss: 0.2922 - val_accuracy: 0.8750\n",
      "Epoch 17/100\n",
      "10/10 [==============================] - 0s 6ms/step - loss: 0.3208 - accuracy: 0.8938 - val_loss: 0.2846 - val_accuracy: 0.8750\n",
      "Epoch 18/100\n",
      "10/10 [==============================] - 0s 8ms/step - loss: 0.3185 - accuracy: 0.8844 - val_loss: 0.2791 - val_accuracy: 0.8750\n",
      "Epoch 19/100\n",
      "10/10 [==============================] - 0s 6ms/step - loss: 0.3109 - accuracy: 0.8813 - val_loss: 0.2725 - val_accuracy: 0.8875\n",
      "Epoch 20/100\n",
      "10/10 [==============================] - 0s 6ms/step - loss: 0.3109 - accuracy: 0.8844 - val_loss: 0.2685 - val_accuracy: 0.9000\n",
      "Epoch 21/100\n",
      "10/10 [==============================] - 0s 7ms/step - loss: 0.3058 - accuracy: 0.8750 - val_loss: 0.2648 - val_accuracy: 0.9000\n",
      "Epoch 22/100\n",
      "10/10 [==============================] - 0s 6ms/step - loss: 0.2982 - accuracy: 0.8938 - val_loss: 0.2598 - val_accuracy: 0.9000\n",
      "Epoch 23/100\n",
      "10/10 [==============================] - 0s 7ms/step - loss: 0.3008 - accuracy: 0.8875 - val_loss: 0.2566 - val_accuracy: 0.9000\n",
      "Epoch 24/100\n",
      "10/10 [==============================] - 0s 6ms/step - loss: 0.2951 - accuracy: 0.8938 - val_loss: 0.2547 - val_accuracy: 0.9125\n",
      "Epoch 25/100\n",
      "10/10 [==============================] - 0s 6ms/step - loss: 0.2890 - accuracy: 0.8906 - val_loss: 0.2515 - val_accuracy: 0.9125\n",
      "Epoch 26/100\n",
      "10/10 [==============================] - 0s 7ms/step - loss: 0.2922 - accuracy: 0.8969 - val_loss: 0.2489 - val_accuracy: 0.9125\n",
      "Epoch 27/100\n",
      "10/10 [==============================] - 0s 6ms/step - loss: 0.2873 - accuracy: 0.9000 - val_loss: 0.2463 - val_accuracy: 0.9125\n",
      "Epoch 28/100\n",
      "10/10 [==============================] - 0s 7ms/step - loss: 0.2815 - accuracy: 0.8969 - val_loss: 0.2430 - val_accuracy: 0.9125\n",
      "Epoch 29/100\n",
      "10/10 [==============================] - 0s 5ms/step - loss: 0.2815 - accuracy: 0.9000 - val_loss: 0.2426 - val_accuracy: 0.9000\n",
      "Epoch 30/100\n",
      "10/10 [==============================] - 0s 7ms/step - loss: 0.2723 - accuracy: 0.9094 - val_loss: 0.2402 - val_accuracy: 0.9000\n",
      "Epoch 31/100\n",
      "10/10 [==============================] - 0s 7ms/step - loss: 0.2791 - accuracy: 0.9000 - val_loss: 0.2390 - val_accuracy: 0.9000\n",
      "Epoch 32/100\n",
      "10/10 [==============================] - 0s 7ms/step - loss: 0.2729 - accuracy: 0.9062 - val_loss: 0.2369 - val_accuracy: 0.9000\n",
      "Epoch 33/100\n",
      "10/10 [==============================] - 0s 7ms/step - loss: 0.2687 - accuracy: 0.8969 - val_loss: 0.2351 - val_accuracy: 0.9000\n",
      "Epoch 34/100\n",
      "10/10 [==============================] - 0s 5ms/step - loss: 0.2734 - accuracy: 0.9031 - val_loss: 0.2344 - val_accuracy: 0.9000\n",
      "Epoch 35/100\n",
      "10/10 [==============================] - 0s 5ms/step - loss: 0.2811 - accuracy: 0.8969 - val_loss: 0.2340 - val_accuracy: 0.9000\n",
      "Epoch 36/100\n",
      "10/10 [==============================] - 0s 6ms/step - loss: 0.2756 - accuracy: 0.9000 - val_loss: 0.2319 - val_accuracy: 0.9125\n",
      "Epoch 37/100\n",
      "10/10 [==============================] - 0s 5ms/step - loss: 0.2671 - accuracy: 0.9062 - val_loss: 0.2316 - val_accuracy: 0.9125\n",
      "Epoch 38/100\n",
      "10/10 [==============================] - 0s 7ms/step - loss: 0.2676 - accuracy: 0.9000 - val_loss: 0.2310 - val_accuracy: 0.9125\n",
      "Epoch 39/100\n",
      "10/10 [==============================] - 0s 7ms/step - loss: 0.2686 - accuracy: 0.8969 - val_loss: 0.2303 - val_accuracy: 0.9125\n",
      "Epoch 40/100\n",
      "10/10 [==============================] - 0s 7ms/step - loss: 0.2705 - accuracy: 0.9031 - val_loss: 0.2306 - val_accuracy: 0.9125\n",
      "Epoch 41/100\n",
      "10/10 [==============================] - 0s 6ms/step - loss: 0.2688 - accuracy: 0.9000 - val_loss: 0.2289 - val_accuracy: 0.9125\n",
      "Epoch 42/100\n",
      "10/10 [==============================] - 0s 7ms/step - loss: 0.2625 - accuracy: 0.9000 - val_loss: 0.2281 - val_accuracy: 0.9125\n",
      "Epoch 43/100\n",
      "10/10 [==============================] - 0s 7ms/step - loss: 0.2587 - accuracy: 0.9031 - val_loss: 0.2274 - val_accuracy: 0.9125\n",
      "Epoch 44/100\n",
      "10/10 [==============================] - 0s 7ms/step - loss: 0.2668 - accuracy: 0.9000 - val_loss: 0.2277 - val_accuracy: 0.9125\n",
      "Epoch 45/100\n",
      "10/10 [==============================] - 0s 7ms/step - loss: 0.2737 - accuracy: 0.8875 - val_loss: 0.2266 - val_accuracy: 0.9125\n",
      "Epoch 46/100\n",
      "10/10 [==============================] - 0s 6ms/step - loss: 0.2569 - accuracy: 0.9125 - val_loss: 0.2281 - val_accuracy: 0.9125\n",
      "Epoch 47/100\n",
      "10/10 [==============================] - 0s 5ms/step - loss: 0.2602 - accuracy: 0.9031 - val_loss: 0.2264 - val_accuracy: 0.9125\n",
      "Epoch 48/100\n",
      "10/10 [==============================] - 0s 5ms/step - loss: 0.2582 - accuracy: 0.9000 - val_loss: 0.2244 - val_accuracy: 0.9125\n",
      "Epoch 49/100\n",
      "10/10 [==============================] - 0s 7ms/step - loss: 0.2588 - accuracy: 0.9062 - val_loss: 0.2236 - val_accuracy: 0.9125\n",
      "Epoch 50/100\n",
      "10/10 [==============================] - 0s 8ms/step - loss: 0.2577 - accuracy: 0.9094 - val_loss: 0.2223 - val_accuracy: 0.9125\n",
      "Epoch 51/100\n",
      "10/10 [==============================] - 0s 6ms/step - loss: 0.2607 - accuracy: 0.9000 - val_loss: 0.2231 - val_accuracy: 0.9125\n",
      "Epoch 52/100\n",
      "10/10 [==============================] - 0s 6ms/step - loss: 0.2504 - accuracy: 0.9094 - val_loss: 0.2235 - val_accuracy: 0.9125\n",
      "Epoch 53/100\n",
      "10/10 [==============================] - 0s 6ms/step - loss: 0.2664 - accuracy: 0.8969 - val_loss: 0.2239 - val_accuracy: 0.9125\n",
      "Epoch 54/100\n",
      "10/10 [==============================] - 0s 6ms/step - loss: 0.2602 - accuracy: 0.9062 - val_loss: 0.2240 - val_accuracy: 0.9125\n",
      "Epoch 55/100\n",
      "10/10 [==============================] - 0s 6ms/step - loss: 0.2606 - accuracy: 0.9031 - val_loss: 0.2229 - val_accuracy: 0.9125\n",
      "Epoch 56/100\n",
      "10/10 [==============================] - 0s 5ms/step - loss: 0.2579 - accuracy: 0.9031 - val_loss: 0.2216 - val_accuracy: 0.9125\n",
      "Epoch 57/100\n",
      "10/10 [==============================] - 0s 6ms/step - loss: 0.2563 - accuracy: 0.9000 - val_loss: 0.2229 - val_accuracy: 0.9125\n",
      "Epoch 58/100\n",
      "10/10 [==============================] - 0s 6ms/step - loss: 0.2545 - accuracy: 0.9031 - val_loss: 0.2221 - val_accuracy: 0.9125\n",
      "Epoch 59/100\n",
      "10/10 [==============================] - 0s 6ms/step - loss: 0.2547 - accuracy: 0.9125 - val_loss: 0.2196 - val_accuracy: 0.9125\n",
      "Epoch 60/100\n",
      "10/10 [==============================] - 0s 7ms/step - loss: 0.2592 - accuracy: 0.9062 - val_loss: 0.2191 - val_accuracy: 0.9125\n",
      "Epoch 61/100\n",
      "10/10 [==============================] - 0s 6ms/step - loss: 0.2570 - accuracy: 0.9062 - val_loss: 0.2204 - val_accuracy: 0.9125\n",
      "Epoch 62/100\n",
      "10/10 [==============================] - 0s 7ms/step - loss: 0.2589 - accuracy: 0.9031 - val_loss: 0.2184 - val_accuracy: 0.9125\n",
      "Epoch 63/100\n",
      "10/10 [==============================] - 0s 7ms/step - loss: 0.2537 - accuracy: 0.9094 - val_loss: 0.2202 - val_accuracy: 0.9125\n",
      "Epoch 64/100\n",
      "10/10 [==============================] - 0s 6ms/step - loss: 0.2610 - accuracy: 0.8969 - val_loss: 0.2182 - val_accuracy: 0.9125\n",
      "Epoch 65/100\n",
      "10/10 [==============================] - 0s 7ms/step - loss: 0.2458 - accuracy: 0.9031 - val_loss: 0.2183 - val_accuracy: 0.9125\n",
      "Epoch 66/100\n",
      "10/10 [==============================] - 0s 6ms/step - loss: 0.2544 - accuracy: 0.8969 - val_loss: 0.2183 - val_accuracy: 0.9125\n",
      "Epoch 67/100\n",
      "10/10 [==============================] - 0s 7ms/step - loss: 0.2551 - accuracy: 0.8938 - val_loss: 0.2178 - val_accuracy: 0.9125\n",
      "Epoch 68/100\n",
      "10/10 [==============================] - 0s 7ms/step - loss: 0.2538 - accuracy: 0.9031 - val_loss: 0.2172 - val_accuracy: 0.9125\n",
      "Epoch 69/100\n",
      "10/10 [==============================] - 0s 6ms/step - loss: 0.2547 - accuracy: 0.9062 - val_loss: 0.2177 - val_accuracy: 0.9125\n",
      "Epoch 70/100\n",
      "10/10 [==============================] - 0s 8ms/step - loss: 0.2514 - accuracy: 0.9031 - val_loss: 0.2176 - val_accuracy: 0.9125\n",
      "Epoch 71/100\n",
      "10/10 [==============================] - 0s 7ms/step - loss: 0.2552 - accuracy: 0.9000 - val_loss: 0.2201 - val_accuracy: 0.9125\n",
      "Epoch 72/100\n",
      "10/10 [==============================] - 0s 6ms/step - loss: 0.2566 - accuracy: 0.9031 - val_loss: 0.2181 - val_accuracy: 0.9125\n",
      "Epoch 73/100\n",
      "10/10 [==============================] - 0s 6ms/step - loss: 0.2603 - accuracy: 0.9031 - val_loss: 0.2172 - val_accuracy: 0.9125\n",
      "Epoch 74/100\n",
      "10/10 [==============================] - 0s 7ms/step - loss: 0.2504 - accuracy: 0.9062 - val_loss: 0.2185 - val_accuracy: 0.9125\n",
      "Epoch 75/100\n",
      "10/10 [==============================] - 0s 7ms/step - loss: 0.2497 - accuracy: 0.9156 - val_loss: 0.2174 - val_accuracy: 0.9125\n",
      "Epoch 76/100\n",
      "10/10 [==============================] - 0s 7ms/step - loss: 0.2635 - accuracy: 0.9000 - val_loss: 0.2163 - val_accuracy: 0.9125\n",
      "Epoch 77/100\n",
      "10/10 [==============================] - 0s 7ms/step - loss: 0.2542 - accuracy: 0.9062 - val_loss: 0.2184 - val_accuracy: 0.9125\n",
      "Epoch 78/100\n",
      "10/10 [==============================] - 0s 6ms/step - loss: 0.2545 - accuracy: 0.9000 - val_loss: 0.2179 - val_accuracy: 0.9125\n",
      "Epoch 79/100\n",
      "10/10 [==============================] - 0s 7ms/step - loss: 0.2456 - accuracy: 0.9094 - val_loss: 0.2170 - val_accuracy: 0.9125\n",
      "Epoch 80/100\n",
      "10/10 [==============================] - 0s 7ms/step - loss: 0.2522 - accuracy: 0.9000 - val_loss: 0.2165 - val_accuracy: 0.9125\n",
      "Epoch 81/100\n",
      "10/10 [==============================] - 0s 6ms/step - loss: 0.2580 - accuracy: 0.9000 - val_loss: 0.2140 - val_accuracy: 0.9125\n",
      "Epoch 82/100\n",
      "10/10 [==============================] - 0s 7ms/step - loss: 0.2532 - accuracy: 0.9000 - val_loss: 0.2153 - val_accuracy: 0.9125\n",
      "Epoch 83/100\n",
      "10/10 [==============================] - 0s 9ms/step - loss: 0.2519 - accuracy: 0.9156 - val_loss: 0.2173 - val_accuracy: 0.9125\n",
      "Epoch 84/100\n",
      "10/10 [==============================] - 0s 10ms/step - loss: 0.2461 - accuracy: 0.9094 - val_loss: 0.2166 - val_accuracy: 0.9125\n",
      "Epoch 85/100\n",
      "10/10 [==============================] - 0s 10ms/step - loss: 0.2533 - accuracy: 0.9125 - val_loss: 0.2159 - val_accuracy: 0.9125\n",
      "Epoch 86/100\n",
      "10/10 [==============================] - 0s 9ms/step - loss: 0.2553 - accuracy: 0.9000 - val_loss: 0.2160 - val_accuracy: 0.9125\n",
      "Epoch 87/100\n",
      "10/10 [==============================] - 0s 9ms/step - loss: 0.2470 - accuracy: 0.9125 - val_loss: 0.2163 - val_accuracy: 0.9125\n",
      "Epoch 88/100\n",
      "10/10 [==============================] - 0s 9ms/step - loss: 0.2526 - accuracy: 0.9000 - val_loss: 0.2160 - val_accuracy: 0.9125\n",
      "Epoch 89/100\n",
      "10/10 [==============================] - 0s 9ms/step - loss: 0.2429 - accuracy: 0.9125 - val_loss: 0.2168 - val_accuracy: 0.9125\n",
      "Epoch 90/100\n",
      "10/10 [==============================] - 0s 8ms/step - loss: 0.2524 - accuracy: 0.9156 - val_loss: 0.2150 - val_accuracy: 0.9125\n",
      "Epoch 91/100\n",
      "10/10 [==============================] - 0s 9ms/step - loss: 0.2526 - accuracy: 0.9062 - val_loss: 0.2145 - val_accuracy: 0.9125\n",
      "Epoch 92/100\n",
      "10/10 [==============================] - 0s 9ms/step - loss: 0.2589 - accuracy: 0.9000 - val_loss: 0.2139 - val_accuracy: 0.9125\n",
      "Epoch 93/100\n",
      "10/10 [==============================] - 0s 11ms/step - loss: 0.2503 - accuracy: 0.9094 - val_loss: 0.2142 - val_accuracy: 0.9125\n",
      "Epoch 94/100\n",
      "10/10 [==============================] - 0s 9ms/step - loss: 0.2440 - accuracy: 0.9062 - val_loss: 0.2135 - val_accuracy: 0.9125\n",
      "Epoch 95/100\n",
      "10/10 [==============================] - 0s 10ms/step - loss: 0.2476 - accuracy: 0.9125 - val_loss: 0.2144 - val_accuracy: 0.9125\n",
      "Epoch 96/100\n",
      "10/10 [==============================] - 0s 9ms/step - loss: 0.2489 - accuracy: 0.9062 - val_loss: 0.2164 - val_accuracy: 0.9125\n",
      "Epoch 97/100\n",
      "10/10 [==============================] - 0s 8ms/step - loss: 0.2423 - accuracy: 0.9125 - val_loss: 0.2148 - val_accuracy: 0.9125\n",
      "Epoch 98/100\n",
      "10/10 [==============================] - 0s 9ms/step - loss: 0.2529 - accuracy: 0.9094 - val_loss: 0.2141 - val_accuracy: 0.9125\n",
      "Epoch 99/100\n",
      "10/10 [==============================] - 0s 9ms/step - loss: 0.2502 - accuracy: 0.9094 - val_loss: 0.2139 - val_accuracy: 0.9125\n",
      "Epoch 100/100\n",
      "10/10 [==============================] - 0s 10ms/step - loss: 0.2521 - accuracy: 0.9094 - val_loss: 0.2149 - val_accuracy: 0.9125\n"
     ]
    }
   ],
   "source": [
    "\n",
    "history = modelx.fit(x_train_sc,y_train,validation_data=(x_test_sc,y_test),epochs=100)"
   ]
  },
  {
   "cell_type": "code",
   "execution_count": 35,
   "metadata": {
    "colab": {
     "base_uri": "https://localhost:8080/",
     "height": 282
    },
    "id": "d8ASIEe4lDCh",
    "outputId": "7b529488-1af1-4663-adc5-c40365b9047b"
   },
   "outputs": [
    {
     "data": {
      "text/plain": [
       "[<matplotlib.lines.Line2D at 0x7f8237e99ac0>]"
      ]
     },
     "execution_count": 35,
     "metadata": {},
     "output_type": "execute_result"
    },
    {
     "data": {
      "image/png": "[encoded data removed]",
      "text/plain": [
       "<Figure size 432x288 with 1 Axes>"
      ]
     },
     "metadata": {
      "needs_background": "light"
     },
     "output_type": "display_data"
    }
   ],
   "source": [
    "plt.plot(history.history['val_accuracy'])"
   ]
  },
  {
   "cell_type": "code",
   "execution_count": 36,
   "metadata": {
    "colab": {
     "base_uri": "https://localhost:8080/",
     "height": 282
    },
    "id": "MEeWZhgKlDFQ",
    "outputId": "ca675bfb-60ba-4a1b-9202-496ec31af2d1"
   },
   "outputs": [
    {
     "data": {
      "text/plain": [
       "[<matplotlib.lines.Line2D at 0x7f8239fcffa0>]"
      ]
     },
     "execution_count": 36,
     "metadata": {},
     "output_type": "execute_result"
    },
    {
     "data": {
      "image/png": "[encoded data removed]",
      "text/plain": [
       "<Figure size 432x288 with 1 Axes>"
      ]
     },
     "metadata": {
      "needs_background": "light"
     },
     "output_type": "display_data"
    }
   ],
   "source": [
    "plt.plot(history.history['accuracy'])"
   ]
  },
  {
   "cell_type": "code",
   "execution_count": null,
   "metadata": {
    "id": "r8z4vafHlDH2"
   },
   "outputs": [],
   "source": []
  }
 ],
 "metadata": {
  "accelerator": "GPU",
  "colab": {
   "provenance": []
  },
  "gpuClass": "standard",
  "kernelspec": {
   "display_name": "Python 3 (ipykernel)",
   "language": "python",
   "name": "python3"
  },
  "language_info": {
   "codemirror_mode": {
    "name": "ipython",
    "version": 3
   },
   "file_extension": ".py",
   "mimetype": "text/x-python",
   "name": "python",
   "nbconvert_exporter": "python",
   "pygments_lexer": "ipython3",
   "version": "3.9.12"
  }
 },
 "nbformat": 4,
 "nbformat_minor": 1
}
